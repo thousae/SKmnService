{
 "cells": [
  {
   "cell_type": "code",
   "execution_count": 21,
   "metadata": {
    "collapsed": true,
    "pycharm": {
     "name": "#%% Constants\n"
    }
   },
   "outputs": [],
   "source": [
    "num_of_words = 10"
   ]
  },
  {
   "cell_type": "code",
   "execution_count": 22,
   "outputs": [],
   "source": [
    "from konlpy.tag import Okt\n",
    "import pickle\n",
    "import re\n",
    "\n",
    "try:\n",
    "    with open('crawling/news.pickle', 'rb') as f:\n",
    "        articles = pickle.load(f)\n",
    "except FileNotFoundError:\n",
    "    with open('../crawling/news.pickle', 'rb') as f:\n",
    "        articles = pickle.load(f)\n",
    "\n",
    "bodies = articles['body'].to_list()\n",
    "\n",
    "okt = Okt()\n",
    "\n",
    "sentences = []\n",
    "for body in bodies:\n",
    "    for sentence in body.split('.'):\n",
    "        if not re.match('.*[^가-힣ㄱ-ㅎㅏ-ㅣa-zA-Z0-9 ].*', sentence):\n",
    "            sentences.append(sentence)\n",
    "\n",
    "data = [(okt.nouns(sentence), okt.morphs(sentence)) for sentence in sentences]\n",
    "data = [(keywords, sentence) for keywords, sentence in data\n",
    "        if 0 < len(keywords) <= num_of_words]\n",
    "\n",
    "def remove_overlaps(keywords):\n",
    "    result = []\n",
    "    for keyword in keywords:\n",
    "        if keyword not in result:\n",
    "            result.append(keyword)\n",
    "    return result\n",
    "\n",
    "data = [(remove_overlaps(keywords), sentence) for keywords, sentence in data]"
   ],
   "metadata": {
    "collapsed": false,
    "pycharm": {
     "name": "#%% Data Initialize\n"
    }
   }
  },
  {
   "cell_type": "code",
   "execution_count": 22,
   "outputs": [],
   "source": [
    "\n"
   ],
   "metadata": {
    "collapsed": false,
    "pycharm": {
     "name": "#%%\n"
    }
   }
  }
 ],
 "metadata": {
  "kernelspec": {
   "display_name": "Python 3",
   "language": "python",
   "name": "python3"
  },
  "language_info": {
   "codemirror_mode": {
    "name": "ipython",
    "version": 2
   },
   "file_extension": ".py",
   "mimetype": "text/x-python",
   "name": "python",
   "nbconvert_exporter": "python",
   "pygments_lexer": "ipython2",
   "version": "2.7.6"
  }
 },
 "nbformat": 4,
 "nbformat_minor": 0
}