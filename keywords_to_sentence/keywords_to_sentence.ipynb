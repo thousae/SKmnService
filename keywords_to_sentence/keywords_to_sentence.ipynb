{
 "cells": [
  {
   "cell_type": "code",
   "execution_count": 66,
   "metadata": {
    "collapsed": true,
    "pycharm": {
     "name": "#%% Constants\n"
    }
   },
   "outputs": [],
   "source": [
    "max_morphemes = 10\n",
    "PAD = 0"
   ]
  },
  {
   "cell_type": "code",
   "execution_count": 67,
   "outputs": [],
   "source": [
    "import pickle\n",
    "\n",
    "try:\n",
    "    with open('crawling/news.pickle', 'rb') as f:\n",
    "        articles = pickle.load(f)\n",
    "except FileNotFoundError:\n",
    "    with open('../crawling/news.pickle', 'rb') as f:\n",
    "        articles = pickle.load(f)\n"
   ],
   "metadata": {
    "collapsed": false,
    "pycharm": {
     "name": "#%% Import Articles\n"
    }
   }
  },
  {
   "cell_type": "code",
   "execution_count": 68,
   "outputs": [],
   "source": [
    "bodies = articles['body'].to_list()"
   ],
   "metadata": {
    "collapsed": false,
    "pycharm": {
     "name": "#%% Extract bodies\n"
    }
   }
  },
  {
   "cell_type": "code",
   "execution_count": 69,
   "outputs": [],
   "source": [
    "import re\n",
    "\n",
    "sentences = []\n",
    "for body in bodies:\n",
    "    for sentence in body.split('.'):\n",
    "        if not re.match('.*[^가-힣ㄱ-ㅎㅏ-ㅣa-zA-Z0-9 ].*', sentence):\n",
    "            sentences.append(sentence)"
   ],
   "metadata": {
    "collapsed": false,
    "pycharm": {
     "name": "#%% Extract Sentences\n"
    }
   }
  },
  {
   "cell_type": "code",
   "execution_count": 70,
   "outputs": [],
   "source": [
    "from konlpy.tag import Okt\n",
    "\n",
    "okt = Okt()\n",
    "\n",
    "data = [(okt.nouns(sentence), okt.morphs(sentence)) for sentence in sentences]\n",
    "data = [(keywords, sentence) for keywords, sentence in data\n",
    "        if 0 < len(keywords) <= max_morphemes]\n",
    "\n",
    "data_keywords = [keywords for keywords, _ in data]\n",
    "data_sentences = [sentence for _, sentence in data]\n",
    "\n",
    "num_sentence_morphs = max([len(sentence) for sentence in data_sentences])"
   ],
   "metadata": {
    "collapsed": false,
    "pycharm": {
     "name": "#%% Analyze Morphemes\n"
    }
   }
  },
  {
   "cell_type": "code",
   "execution_count": 71,
   "outputs": [],
   "source": [
    "def remove_overlaps(keywords):\n",
    "    result = []\n",
    "    for keyword in keywords:\n",
    "        if keyword not in result:\n",
    "            result.append(keyword)\n",
    "    return result\n",
    "\n",
    "data_keywords = [remove_overlaps(keywords) for keywords in data_keywords]"
   ],
   "metadata": {
    "collapsed": false,
    "pycharm": {
     "name": "#%% Remove Overlaps\n"
    }
   }
  },
  {
   "cell_type": "code",
   "execution_count": 72,
   "outputs": [],
   "source": [
    "from tensorflow.keras.preprocessing.text import Tokenizer\n",
    "\n",
    "tokenizer = Tokenizer()\n",
    "tokenizer.fit_on_texts(data_sentences)\n",
    "tokenizer.index_word[PAD] = PAD\n",
    "\n",
    "num_of_morphemes = len(tokenizer.word_counts) + 1\n",
    "\n",
    "keywords_sequences = tokenizer.texts_to_sequences(data_keywords)\n",
    "sentence_sequences = tokenizer.texts_to_sequences(data_sentences)"
   ],
   "metadata": {
    "collapsed": false,
    "pycharm": {
     "name": "#%% Tokenize\n"
    }
   }
  },
  {
   "cell_type": "code",
   "execution_count": 73,
   "outputs": [],
   "source": [
    "def padding(sequence, max_len):\n",
    "    return sequence + [PAD] * (max_len - len(sequence))\n",
    "\n",
    "keywords_sequences = [padding(seq, max_morphemes) for seq in keywords_sequences]\n",
    "sentence_sequences = [padding(seq, max_morphemes) for seq in sentence_sequences]"
   ],
   "metadata": {
    "collapsed": false,
    "pycharm": {
     "name": "#%% Padding\n"
    }
   }
  },
  {
   "cell_type": "code",
   "execution_count": 74,
   "outputs": [],
   "source": [
    "import numpy as np\n",
    "\n",
    "keywords = np.array(keywords_sequences)\n",
    "sentences = np.array(sentence_sequences)\n"
   ],
   "metadata": {
    "collapsed": false,
    "pycharm": {
     "name": "#%% Convert Sequences to Numpy Array\n"
    }
   }
  }
 ],
 "metadata": {
  "kernelspec": {
   "display_name": "Python 3",
   "language": "python",
   "name": "python3"
  },
  "language_info": {
   "codemirror_mode": {
    "name": "ipython",
    "version": 2
   },
   "file_extension": ".py",
   "mimetype": "text/x-python",
   "name": "python",
   "nbconvert_exporter": "python",
   "pygments_lexer": "ipython2",
   "version": "2.7.6"
  }
 },
 "nbformat": 4,
 "nbformat_minor": 0
}