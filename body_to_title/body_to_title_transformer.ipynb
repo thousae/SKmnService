{
 "cells": [
  {
   "cell_type": "code",
   "execution_count": 2,
   "outputs": [
    {
     "output_type": "error",
     "ename": "OSError",
     "evalue": "[Errno 5] Input/output error: '../../server/articles.csv'",
     "traceback": [
      "\u001b[0;31m---------------------------------------------------------------------------\u001b[0m",
      "\u001b[0;31mOSError\u001b[0m                                   Traceback (most recent call last)",
      "\u001b[0;32m<ipython-input-2-d6ca3303f196>\u001b[0m in \u001b[0;36m<module>\u001b[0;34m\u001b[0m\n\u001b[1;32m      2\u001b[0m \u001b[0;34m\u001b[0m\u001b[0m\n\u001b[1;32m      3\u001b[0m \u001b[0;32mtry\u001b[0m\u001b[0;34m:\u001b[0m\u001b[0;34m\u001b[0m\u001b[0;34m\u001b[0m\u001b[0m\n\u001b[0;32m----> 4\u001b[0;31m     \u001b[0;32mwith\u001b[0m \u001b[0mopen\u001b[0m\u001b[0;34m(\u001b[0m\u001b[0;34m'../../server/articles.csv'\u001b[0m\u001b[0;34m)\u001b[0m \u001b[0;32mas\u001b[0m \u001b[0mf\u001b[0m\u001b[0;34m:\u001b[0m\u001b[0;34m\u001b[0m\u001b[0;34m\u001b[0m\u001b[0m\n\u001b[0m\u001b[1;32m      5\u001b[0m         \u001b[0marticles\u001b[0m \u001b[0;34m=\u001b[0m \u001b[0mpd\u001b[0m\u001b[0;34m.\u001b[0m\u001b[0mread_csv\u001b[0m\u001b[0;34m(\u001b[0m\u001b[0mf\u001b[0m\u001b[0;34m)\u001b[0m\u001b[0;34m\u001b[0m\u001b[0;34m\u001b[0m\u001b[0m\n\u001b[1;32m      6\u001b[0m \u001b[0;32mexcept\u001b[0m \u001b[0mFileNotFoundError\u001b[0m\u001b[0;34m:\u001b[0m\u001b[0;34m\u001b[0m\u001b[0;34m\u001b[0m\u001b[0m\n",
      "\u001b[0;31mOSError\u001b[0m: [Errno 5] Input/output error: '../../server/articles.csv'"
     ]
    }
   ],
   "source": [
    "import pandas as pd\n",
    "\n",
    "try:\n",
    "    with open('../../server/articles.csv') as f:\n",
    "        articles = pd.read_csv(f)\n",
    "except FileNotFoundError:\n",
    "    with open('../server/articles.csv') as f:\n",
    "        articles = pd.read_csv(f)\n",
    "print(articles.head())\n",
    "\n",
    "titles = articles['title'].tolist()\n",
    "contents = articles['content'].tolist()"
   ],
   "metadata": {
    "collapsed": false,
    "pycharm": {
     "name": "#%% Import Data\n"
    }
   }
  },
  {
   "cell_type": "code",
   "execution_count": 5,
   "outputs": [
    {
     "output_type": "error",
     "ename": "ModuleNotFoundError",
     "evalue": "No module named 'util'",
     "traceback": [
      "\u001b[0;31m---------------------------------------------------------------------------\u001b[0m",
      "\u001b[0;31mModuleNotFoundError\u001b[0m                       Traceback (most recent call last)",
      "\u001b[0;32m<ipython-input-5-3b6c010b39ab>\u001b[0m in \u001b[0;36m<module>\u001b[0;34m\u001b[0m\n\u001b[0;32m----> 1\u001b[0;31m \u001b[0;32mfrom\u001b[0m \u001b[0mutil\u001b[0m\u001b[0;34m.\u001b[0m\u001b[0mpreprocessing\u001b[0m \u001b[0;32mimport\u001b[0m \u001b[0mPreprocessor\u001b[0m\u001b[0;34m\u001b[0m\u001b[0;34m\u001b[0m\u001b[0m\n\u001b[0m\u001b[1;32m      2\u001b[0m \u001b[0;34m\u001b[0m\u001b[0m\n\u001b[1;32m      3\u001b[0m \u001b[0mcontent_preprocessor\u001b[0m \u001b[0;34m=\u001b[0m \u001b[0mPreprocessor\u001b[0m\u001b[0;34m(\u001b[0m\u001b[0;34m)\u001b[0m\u001b[0;34m\u001b[0m\u001b[0;34m\u001b[0m\u001b[0m\n\u001b[1;32m      4\u001b[0m \u001b[0mtitle_preprocessor\u001b[0m \u001b[0;34m=\u001b[0m \u001b[0mPreprocessor\u001b[0m\u001b[0;34m(\u001b[0m\u001b[0;34m)\u001b[0m\u001b[0;34m\u001b[0m\u001b[0;34m\u001b[0m\u001b[0m\n\u001b[1;32m      5\u001b[0m \u001b[0;34m\u001b[0m\u001b[0m\n",
      "\u001b[0;31mModuleNotFoundError\u001b[0m: No module named 'util'"
     ]
    }
   ],
   "source": [
    "from util.preprocessing import Preprocessor\n",
    "\n",
    "content_preprocessor = Preprocessor()\n",
    "title_preprocessor = Preprocessor()\n",
    "\n",
    "content_separated = content_preprocessor.separate_to_words(contents)\n",
    "title_separated = title_preprocessor.separate_to_words(titles, add_token=True)\n",
    "\n",
    "content_separated = content_preprocessor.padding(content_separated)\n",
    "title_separated = title_preprocessor.padding(title_separated)\n",
    "\n",
    "Preprocessor.fit_tokenizer(content_separated)\n",
    "Preprocessor.fit_tokenizer(title_separated)\n",
    "\n",
    "content_sequence = content_preprocessor.tokenize(content_separated).to_numpy()\n",
    "title_sequence = title_preprocessor.tokenize(title_separated).to_numpy()\n",
    "\n",
    "content_len = content_preprocessor.get_sequence_len()\n",
    "title_len = title_preprocessor.get_sequence_len()\n",
    "\n",
    "num_words = Preprocessor.get_num_words()"
   ],
   "metadata": {
    "collapsed": false,
    "pycharm": {
     "name": "#%% Preprocessing\n"
    }
   }
  },
  {
   "cell_type": "code",
   "execution_count": 16,
   "outputs": [],
   "source": [
    "import tensorflow as tf\n",
    "\n",
    "class PositionalEncoding(tf.keras.layers.Layer):\n",
    "    def __init__(self, input_dim=None, dim_model=None, scale=10000, **kwargs):\n",
    "        super(PositionalEncoding, self).__init__(**kwargs)\n",
    "        self.input_dim = input_dim\n",
    "        self.dim_model = dim_model\n",
    "        self.scale = scale\n",
    "\n",
    "    def build(self, input_shape):\n",
    "        self.input_dim = input_shape[0]\n",
    "        self.dim_model = input_shape[1]\n",
    "\n",
    "    def call(self, inputs, **kwargs):\n",
    "        pos = tf.range(self.input_dim)[:, tf.newaxis]\n",
    "        i = tf.range(self.dim_model)[tf.newaxis, :]\n",
    "        i[:, 1::2] = i[:, 1::2] - 1\n",
    "        encoder = pos / tf.pow(self.scale, i / tf.float32(self.dim_model))\n",
    "        encoder[:, 0::2] = tf.sin(encoder[:, 0::2])\n",
    "        encoder[:, 1::2] = tf.cos(encoder[:, 1::2])\n",
    "        return inputs + encoder"
   ],
   "metadata": {
    "collapsed": false,
    "pycharm": {
     "name": "#%% Define Positional Encoding Layer\n"
    }
   }
  },
  {
   "cell_type": "code",
   "execution_count": 17,
   "outputs": [],
   "source": [
    "def scaled_dot_product_attention(query, key, value, mask):\n",
    "    matmul_qk = tf.matmul(query, key, transpose_b=True)\n",
    "\n",
    "    dk = tf.cast(tf.shape(key)[-1], tf.float32)\n",
    "    lg = matmul_qk / tf.math.sqrt(dk)\n",
    "\n",
    "    if mask is not None:\n",
    "        lg += (mask * -1e9)\n",
    "\n",
    "    attention_weights = tf.nn.softmax(lg, axis=-1)\n",
    "    output = tf.matmul(attention_weights, value)\n",
    "\n",
    "    return output, attention_weights\n",
    "\n",
    "class MultiHeadAttention(tf.keras.layers.Layer):\n",
    "    def __init__(self, model_dim, num_heads, name=\"multi_head_attention\"): # 정의하기\n",
    "        super(MultiHeadAttention, self).__init__(name=name)\n",
    "        self.num_heads = num_heads\n",
    "        self.d_model = model_dim\n",
    "\n",
    "        assert model_dim % self.num_heads == 0\n",
    "\n",
    "        self.depth = model_dim // self.num_heads\n",
    "\n",
    "        self.query_dense = tf.keras.layers.Dense(units=model_dim) #WQ\n",
    "        self.key_dense = tf.keras.layers.Dense(units=model_dim) #WK\n",
    "        self.value_dense = tf.keras.layers.Dense(units=model_dim) #WV\n",
    "\n",
    "        self.dense = tf.keras.layers.Dense(units=model_dim) #WO\n",
    "\n",
    "    def split_heads(self, inputs, batch_size):\n",
    "        inputs = tf.reshape(\n",
    "            inputs, shape=(batch_size, -1, self.num_heads, self.depth))\n",
    "        return tf.transpose(inputs, perm=[0, 2, 1, 3])\n",
    "\n",
    "    def call(self, inputs, **kwargs):\n",
    "        if 'value' not in inputs:\n",
    "            inputs['value'] = inputs['key']\n",
    "        if 'mask' not in inputs:\n",
    "            inputs['mask'] = None\n",
    "        query, key, value, mask = inputs['query'], inputs['key'], inputs['value'], inputs['mask']\n",
    "        batch_size = tf.shape(query)[0]\n",
    "\n",
    "        query = self.query_dense(query) # (batch_size, seq_len, d_model)\n",
    "        key = self.key_dense(key) # (batch_size, seq_len, d_model)\n",
    "        value = self.value_dense(value) # (batch_size, seq_len, d_model)\n",
    "\n",
    "        query = self.split_heads(query, batch_size) # (batch_size, num_heads, seq_len, d_model/num_heads)\n",
    "        key = self.split_heads(key, batch_size) # (batch_size, num_heads, seq_len, d_model/num_heads)\n",
    "        value = self.split_heads(value, batch_size) # (batch_size, num_heads, seq_len, d_model/num_heads)\n",
    "\n",
    "        scaled_attention = scaled_dot_product_attention(query, key, value, mask)\n",
    "        scaled_attention = tf.transpose(scaled_attention, perm=[0, 2, 1, 3])\n",
    "\n",
    "        concat_attention = tf.reshape(scaled_attention,\n",
    "                                      (batch_size, -1, self.d_model))\n",
    "\n",
    "        outputs = self.dense(concat_attention)\n",
    "\n",
    "        return outputs"
   ],
   "metadata": {
    "collapsed": false,
    "pycharm": {
     "name": "#%% Define Multi-head Attention Layer\n"
    }
   }
  },
  {
   "cell_type": "code",
   "execution_count": 18,
   "outputs": [],
   "source": [
    "from tensorflow.keras.layers import Input, Embedding, Dense\n",
    "from tensorflow.keras.activations import softmax, relu\n",
    "from tensorflow.keras.models import Model\n",
    "from sklearn.model_selection import train_test_split\n",
    "\n",
    "class Transformer:\n",
    "    def __init__(self, input_dim, output_dim, sequence_len,\n",
    "                 embedding_dim=256, hidden_size=1024, num_heads=8, num_layers=6):\n",
    "        self.input_dim = input_dim\n",
    "        self.output_dim = output_dim\n",
    "        self.sequence_len = sequence_len\n",
    "        self.embedding_dim = embedding_dim\n",
    "        self.hidden_size = hidden_size\n",
    "        self.num_heads = num_heads\n",
    "        self.num_layers = num_layers\n",
    "        self.model = None\n",
    "\n",
    "    def compile(self):\n",
    "        encoder_inputs = Input((self.input_dim,), name='encoder_inputs')\n",
    "\n",
    "        encoder_embedding = Embedding(\n",
    "            input_dim=self.sequence_len, output_dim=self.embedding_dim, name='encoder_embedding_layer'\n",
    "        )(encoder_inputs)\n",
    "\n",
    "        encoder_positional = PositionalEncoding(\n",
    "            input_dim=self.input_dim, dim_model=self.embedding_dim, name='encoder_positional_encoding_layer'\n",
    "        )(encoder_embedding)\n",
    "\n",
    "        for i in range(self.num_layers):\n",
    "            encoder_attention = MultiHeadAttention(\n",
    "                model_dim=self.embedding_dim, num_heads=self.num_heads,\n",
    "                name='encoder_self_attention_%d' % i\n",
    "            )(inputs={'query': encoder_positional, 'key': encoder_positional})\n",
    "            encoder_positional += encoder_attention\n",
    "\n",
    "        encoder_outputs = Dense(\n",
    "            units=self.embedding_dim, activation=relu, name='encoder_outputs'\n",
    "        )(encoder_positional)\n",
    "\n",
    "        decoder_inputs = Input((title_len - 1,), name='decoder_inputs')\n",
    "\n",
    "        decoder_embedding = Embedding(\n",
    "            input_dim=self.sequence_len, output_dim=self.embedding_dim, name='decoder_embedding_layer'\n",
    "        )(decoder_inputs)\n",
    "\n",
    "        decoder_positional = PositionalEncoding(\n",
    "            input_dim=self.output_dim, dim_model=self.embedding_dim, name='decoder_positional_encoding_layer'\n",
    "        )(decoder_embedding)\n",
    "\n",
    "        for i in range(self.num_layers):\n",
    "            decoder_attention = MultiHeadAttention(\n",
    "                model_dim=self.embedding_dim, num_heads=self.num_heads,\n",
    "                name='decoder_masked_self_attention_%d' % i\n",
    "            )(inputs={'query': decoder_positional, 'key': decoder_positional})\n",
    "            decoder_positional += decoder_attention\n",
    "            encoder_decoder_attention = MultiHeadAttention(\n",
    "                model_dim=self.embedding_dim, num_heads=self.num_heads,\n",
    "                name='encoder_decoder_attention_%d' % i\n",
    "            )(inputs={'query': decoder_positional, 'key': encoder_outputs})\n",
    "            decoder_positional += encoder_decoder_attention\n",
    "\n",
    "        decoder_outputs = Dense(\n",
    "            units=self.embedding_dim, activation=relu, name='decoder_outputs'\n",
    "        )(decoder_positional)\n",
    "\n",
    "        outputs = Dense(\n",
    "            units=title_len, activation=softmax, name='outputs'\n",
    "        )(decoder_outputs)\n",
    "\n",
    "        self.model = Model(\n",
    "            inputs=[encoder_inputs, decoder_inputs],\n",
    "            outputs=outputs,\n",
    "            name='body_to_title_transformer_model'\n",
    "        )\n",
    "\n",
    "        self.model.encoder = Model(\n",
    "            inputs=encoder_inputs, outputs=encoder_outputs,\n",
    "            name='body_to_title_transformer_encoder_model'\n",
    "        )\n",
    "\n",
    "        decoder_param = Input(shape=(self.embedding_dim,), name='encoder_outputs')\n",
    "        self.model.decoder = Model(\n",
    "            inputs=[decoder_param, decoder_inputs],\n",
    "            outputs=outputs,\n",
    "            name='body_to_title_transformer_decoder_model'\n",
    "        )\n",
    "\n",
    "    def fit(self, x_data, y_data, epochs=50, batch_size=1, test_size=0.2):\n",
    "        x_train, x_test, y_train, y_test = train_test_split(\n",
    "            x_data, y_data, test_size=test_size\n",
    "        )\n",
    "        self.model.fit(\n",
    "            [x_train, y_train[:, :-1]], y_train[:, 1:],\n",
    "            epochs=epochs, batch_size=batch_size,\n",
    "            validation_data=([x_test, y_test[:, :-1]], y_test[:, 1:])\n",
    "        )\n"
   ],
   "metadata": {
    "collapsed": false,
    "pycharm": {
     "name": "#%% Define Transformer Model\n"
    }
   }
  },
  {
   "cell_type": "code",
   "execution_count": null,
   "metadata": {},
   "outputs": [],
   "source": []
  }
 ],
 "metadata": {
  "kernelspec": {
   "display_name": "Python 3",
   "language": "python",
   "name": "python3"
  },
  "language_info": {
   "codemirror_mode": {
    "name": "ipython",
    "version": 2
   },
   "file_extension": ".py",
   "mimetype": "text/x-python",
   "name": "python",
   "nbconvert_exporter": "python",
   "pygments_lexer": "ipython2",
   "version": "2.7.6"
  }
 },
 "nbformat": 4,
 "nbformat_minor": 0
}