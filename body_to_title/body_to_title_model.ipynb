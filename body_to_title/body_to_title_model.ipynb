{
 "cells": [
  {
   "cell_type": "code",
   "execution_count": 67,
   "metadata": {},
   "outputs": [
    {
     "data": {
      "text/plain": "'\\nRequired Packages: [\\n    \"numpy(1.18.1)\",\\n    \"tensorflow(2.1.0)\",\\n    \"pandas(1.0.3)\",\\n    \"scikit-learn(0.22.2)\",\\n    \"PyKomoran(0.1.5)\",\\n    \"matplotlib(3.1.3)\",\\n    \"graphviz(0.14)\",\\n    \"pydot(1.4.1)\"\\n]\\n'"
     },
     "execution_count": 67,
     "metadata": {},
     "output_type": "execute_result"
    }
   ],
   "source": [
    "\"\"\"\n",
    "Required Packages: [\n",
    "    \"numpy(1.18.1)\",\n",
    "    \"tensorflow(2.1.0)\",\n",
    "    \"pandas(1.0.3)\",\n",
    "    \"scikit-learn(0.22.2)\",\n",
    "    \"PyKomoran(0.1.5)\",\n",
    "    \"matplotlib(3.1.3)\",\n",
    "    \"graphviz(0.14)\",\n",
    "    \"pydot(1.4.1)\"\n",
    "]\n",
    "\"\"\""
   ]
  },
  {
   "cell_type": "code",
   "execution_count": 68,
   "outputs": [],
   "source": [
    "SOT = 'sot'\n",
    "EOT = 'eot'\n",
    "PAD = 0"
   ],
   "metadata": {
    "collapsed": false,
    "pycharm": {
     "name": "#%% constants\n"
    }
   }
  },
  {
   "cell_type": "code",
   "execution_count": 69,
   "outputs": [
    {
     "name": "stdout",
     "output_type": "stream",
     "text": [
      "                                title  \\\n",
      "0    제주항공 \"열흘내에 선행조건 다 해결해라\"…사실상 파기수순   \n",
      "1      이 앱 열면…한국 10대들 개인정보 중국으로 줄줄 샌다   \n",
      "2  “예수가 레즈비언?” 마이클 잭슨 딸 출연 영화 신성모독 논란   \n",
      "\n",
      "                                                body  \n",
      "0  제주항공이 이스타항공 측에 \"10일 이내에 선결 조건을 모두 이행하지 않으면 계약을...  \n",
      "1  지난해 5월 미국 코네티컷주 한 마을에 거주하고 있는 14살 소녀 찰리 다멜리오는 ...  \n",
      "2  마이클 잭슨의 딸 패리스 잭슨(22)이 ‘예수 그리스도’로 출연한 영화가 ‘신성 모...  \n"
     ]
    }
   ],
   "source": [
    "import pandas as pd\n",
    "\n",
    "articles = pd.read_csv('articles.tsv', sep='\\t')\n",
    "print(articles)"
   ],
   "metadata": {
    "collapsed": false,
    "pycharm": {
     "name": "#%% import dataset\n"
    },
    "tags": []
   }
  },
  {
   "cell_type": "code",
   "execution_count": 70,
   "outputs": [
    {
     "name": "stdout",
     "output_type": "stream",
     "text": [
      "                                        title  \\\n",
      "0    sot 제주항공 \"열흘내에 선행조건 다 해결해라\"…사실상 파기수순 eot   \n",
      "1      sot 이 앱 열면…한국 10대들 개인정보 중국으로 줄줄 샌다 eot   \n",
      "2  sot “예수가 레즈비언?” 마이클 잭슨 딸 출연 영화 신성모독 논란 eot   \n",
      "\n",
      "                                                body  \n",
      "0  sot 제주항공이 이스타항공 측에 \"10일 이내에 선결 조건을 모두 이행하지 않으면...  \n",
      "1  sot 지난해 5월 미국 코네티컷주 한 마을에 거주하고 있는 14살 소녀 찰리 다멜...  \n",
      "2  sot 마이클 잭슨의 딸 패리스 잭슨(22)이 ‘예수 그리스도’로 출연한 영화가 ‘...  \n"
     ]
    }
   ],
   "source": [
    "def pre_processing(text: str) -> str:\n",
    "    return SOT + ' ' + text + ' ' + EOT\n",
    "\n",
    "articles['title'] = articles['title'].apply(pre_processing)\n",
    "articles['body'] = articles['body'].apply(pre_processing)\n",
    "print(articles)"
   ],
   "metadata": {
    "collapsed": false,
    "pycharm": {
     "name": "#%% preprocessing\n"
    },
    "tags": []
   }
  },
  {
   "cell_type": "code",
   "execution_count": 71,
   "outputs": [
    {
     "name": "stdout",
     "output_type": "stream",
     "text": [
      "['sot', '제주항공', '\"', '열흘', '내', '에', '선행', '조건', '다', '해결', '하', '아라', '\"', '…', '사실', '상', '파기', '수순', 'eot']\n",
      "['sot', '제주항공', '이', '이스타항공', '측', '에', '\"', '10', '일', '이내', '에', '선결', '조건', '을', '모두', '이행', '하', '지', '않', '으면']\n"
     ]
    }
   ],
   "source": [
    "from PyKomoran import Komoran\n",
    "k = Komoran('EXP')\n",
    "\n",
    "title_separated = [k.get_morphes_by_tags(title) for title in articles['title']]\n",
    "print(title_separated[0][:20])\n",
    "\n",
    "body_separated = [k.get_morphes_by_tags(body) for body in articles['body']]\n",
    "print(body_separated[0][:20])"
   ],
   "metadata": {
    "collapsed": false,
    "pycharm": {
     "name": "#%% seperate sentences to morphemes\n"
    },
    "tags": []
   }
  },
  {
   "cell_type": "code",
   "execution_count": 72,
   "outputs": [
    {
     "name": "stdout",
     "output_type": "stream",
     "text": [
      "19\n",
      "2002\n"
     ]
    }
   ],
   "source": [
    "max_title_morphemes = max([len(title) for title in title_separated])\n",
    "print(max_title_morphemes)\n",
    "\n",
    "max_body_morphemes = max([len(body) for body in body_separated])\n",
    "print(max_body_morphemes)"
   ],
   "metadata": {
    "collapsed": false,
    "pycharm": {
     "name": "#%% get features\n"
    },
    "tags": []
   }
  },
  {
   "cell_type": "code",
   "execution_count": 73,
   "outputs": [
    {
     "name": "stdout",
     "output_type": "stream",
     "text": [
      "974\n",
      "[[69, 49, 33, 142, 83, 8, 339, 84, 4, 85, 1, 340, 33, 194, 104, 86, 195, 196, 70], [69, 2, 105, 341, 87, 194, 197, 198, 39, 342, 47, 16, 343, 344, 40, 70], [69, 88, 42, 13, 106, 199, 107, 143, 144, 71, 36, 345, 55, 70]]\n",
      "[[69, 49, 2, 50, 346, 8, 33, 347, 64, 348, 8, 145, 84, 7, 200, 146, 1, 30, 72, 349, 147, 7, 350, 1, 201, 4, 33, 5, 351, 9, 89, 7, 108, 6, 37, 16, 202, 23, 24, 4, 3, 352, 203, 34, 204, 23, 6, 84, 2, 353, 354, 355, 2, 205, 6, 50, 2, 356, 56, 16, 357, 83, 8, 85, 1, 57, 358, 6, 206, 104, 86, 147, 195, 196, 7, 359, 65, 23, 38, 37, 16, 148, 40, 3, 109, 64, 360, 207, 8, 90, 87, 49, 10, 208, 361, 64, 50, 2, 108, 6, 145, 362, 146, 34, 204, 1, 6, 89, 8, 91, 18, 363, 364, 2, 73, 10, 365, 7, 108, 6, 37, 16, 92, 32, 30, 24, 4, 3, 50, 9, 89, 93, 7, 366, 7, 74, 18, 209, 1, 6, 367, 145, 84, 2, 104, 86, 85, 23, 30, 72, 19, 110, 368, 1, 17, 2, 14, 210, 1, 38, 149, 16, 142, 7, 111, 6, 211, 2, 4, 3, 21, 49, 2, 142, 83, 8, 50, 8, 85, 1, 94, 66, 369, 10, 370, 35, 371, 48, 372, 95, 150, 8, 151, 5, 373, 2, 6, 37, 16, 374, 18, 30, 24, 4, 3, 375, 8, 5, 96, 55, 2, 23, 6, 212, 213, 376, 35, 95, 152, 8, 29, 377, 378, 379, 28, 214, 215, 28, 2, 380, 23, 6, 37, 16, 92, 32, 30, 24, 4, 3, 21, 50, 10, 381, 108, 6, 89, 25, 96, 55, 2, 23, 24, 112, 382, 91, 6, 383, 384, 113, 10, 33, 385, 13, 114, 4, 33, 5, 93, 34, 386, 214, 215, 28, 8, 91, 18, 96, 203, 2, 205, 32, 85, 1, 30, 153, 6, 216, 7, 217, 1, 19, 4, 3, 21, 50, 218, 5, 33, 387, 388, 219, 146, 1, 30, 153, 6, 113, 16, 15, 2, 5, 389, 147, 220, 49, 29, 390, 1, 57, 26, 66, 391, 33, 392, 115, 1, 19, 4, 3, 21, 2, 8, 90, 18, 50, 393, 5, 221, 2, 394, 6, 154, 4, 3, 21, 96, 395, 111, 396, 397, 155, 7, 398, 18, 222, 7, 30, 94, 116, 1, 19, 112, 156, 157, 29, 49, 9, 2, 73, 10, 399, 8, 400, 401, 402, 7, 403, 30, 153, 6, 37, 16, 92, 32, 30, 24, 4, 3, 21, 156, 157, 218, 5, 33, 96, 49, 8, 50, 117, 404, 13, 22, 110, 405, 17, 49, 2, 406, 5, 84, 12, 213, 212, 210, 11, 8, 407, 87, 23, 408, 409, 1, 18, 2, 155, 9, 222, 7, 116, 1, 19, 118, 410, 89, 10, 104, 86, 117, 1, 30, 72, 201, 110, 411, 6, 37, 34, 412, 33, 94, 115, 1, 19, 4, 3, 21, 156, 157, 5, 413, 414, 415, 416, 7, 417, 16, 221, 418, 223, 14, 419, 1, 18, 2, 73, 10, 216, 7, 158, 1, 17, 420, 421, 224, 28, 7, 422, 1, 38, 37, 16, 92, 32, 30, 24, 4, 3, 225, 5, 109, 64, 159, 49, 9, 226, 423, 424, 227, 425, 25, 426, 427, 14, 1, 5, 428, 28, 29, 209, 429, 2, 4, 3, 70], [69, 75, 119, 51, 430, 111, 66, 431, 8, 432, 1, 17, 22, 5, 228, 229, 120, 433, 4, 76, 77, 5, 230, 97, 231, 52, 434, 14, 435, 98, 24, 4, 3, 436, 1, 6, 232, 437, 233, 438, 13, 234, 6, 439, 52, 2, 24, 4, 3, 235, 2, 32, 236, 66, 45, 29, 232, 34, 440, 45, 28, 16, 160, 39, 2, 441, 237, 5, 78, 2, 24, 4, 3, 21, 4, 76, 77, 13, 121, 442, 8, 443, 8, 238, 6, 37, 10, 122, 161, 53, 162, 239, 240, 2, 24, 4, 3, 52, 8, 20, 444, 445, 20, 44, 13, 446, 241, 447, 448, 239, 31, 8, 242, 243, 32, 44, 13, 449, 41, 16, 244, 1, 19, 4, 3, 48, 58, 240, 4, 76, 77, 5, 123, 450, 245, 451, 246, 124, 452, 453, 10, 454, 31, 41, 9, 242, 243, 32, 14, 455, 6, 247, 20, 248, 20, 26, 249, 1, 19, 4, 3, 21, 4, 76, 77, 5, 46, 6, 456, 54, 25, 457, 458, 6, 459, 14, 460, 1, 5, 461, 12, 462, 463, 11, 163, 8, 71, 1, 19, 4, 3, 464, 465, 13, 250, 466, 31, 164, 12, 53, 467, 35, 95, 11, 8, 251, 17, 67, 25, 6, 468, 15, 469, 15, 165, 470, 28, 2, 163, 8, 471, 1, 6, 252, 22, 4, 3, 46, 6, 253, 8, 5, 51, 472, 473, 474, 475, 476, 8, 29, 477, 7, 478, 24, 4, 3, 21, 2, 479, 37, 7, 125, 1, 65, 66, 37, 10, 52, 158, 68, 20, 27, 12, 480, 11, 20, 2, 4, 3, 21, 54, 166, 167, 168, 20, 27, 20, 2, 481, 6, 482, 21, 483, 31, 8, 484, 1, 6, 120, 25, 248, 13, 23, 6, 4, 76, 77, 254, 27, 7, 74, 18, 485, 2, 486, 487, 8, 123, 245, 13, 23, 5, 255, 5, 56, 30, 72, 4, 3, 4, 76, 77, 152, 8, 29, 488, 25, 489, 14, 490, 1, 112, 66, 491, 492, 12, 20, 493, 494, 20, 11, 13, 495, 496, 48, 497, 15, 498, 1, 6, 256, 2, 114, 112, 120, 13, 165, 26, 499, 1, 57, 29, 1, 19, 4, 3, 21, 27, 10, 500, 58, 47, 9, 501, 12, 169, 11, 170, 126, 127, 13, 502, 1, 6, 503, 230, 97, 79, 48, 128, 257, 9, 258, 10, 52, 7, 98, 17, 129, 259, 158, 1, 38, 44, 22, 5, 52, 68, 2, 4, 3, 504, 58, 260, 23, 6, 2, 170, 10, 505, 58, 27, 9, 506, 507, 508, 12, 509, 11, 9, 510, 125, 99, 7, 202, 1, 17, 511, 512, 513, 27, 7, 261, 24, 4, 3, 514, 124, 58, 231, 46, 18, 27, 9, 515, 59, 44, 5, 53, 130, 35, 516, 31, 41, 12, 75, 517, 131, 11, 16, 518, 519, 520, 262, 244, 1, 18, 80, 12, 171, 35, 41, 11, 100, 81, 12, 521, 35, 41, 11, 7, 522, 65, 523, 1, 17, 22, 4, 3, 46, 6, 48, 263, 264, 10, 524, 35, 525, 12, 53, 130, 172, 526, 35, 95, 11, 16, 67, 250, 169, 170, 527, 9, 528, 264, 12, 53, 130, 172, 529, 35, 95, 11, 7, 530, 24, 4, 3, 54, 166, 20, 167, 168, 20, 12, 265, 1, 30, 531, 35, 164, 173, 9, 132, 82, 11, 16, 174, 23, 40, 3, 21, 532, 39, 10, 27, 9, 123, 266, 7, 78, 533, 16, 534, 535, 3, 73, 10, 93, 7, 536, 17, 22, 537, 258, 10, 45, 34, 538, 23, 5, 267, 9, 539, 540, 12, 541, 542, 11, 45, 543, 86, 544, 545, 546, 175, 217, 2, 4, 3, 547, 75, 548, 549, 550, 551, 552, 6, 9, 553, 554, 11, 20, 555, 10, 27, 25, 268, 35, 556, 173, 557, 23, 24, 558, 80, 25, 5, 559, 269, 560, 8, 561, 24, 4, 3, 73, 10, 78, 2, 562, 1, 563, 564, 565, 16, 270, 23, 566, 8, 90, 18, 567, 13, 568, 5, 211, 2, 4, 3, 21, 80, 78, 5, 569, 13, 570, 56, 16, 571, 17, 271, 9, 572, 573, 272, 2, 574, 1, 575, 15, 27, 10, 59, 13, 576, 65, 45, 7, 133, 1, 17, 577, 1, 38, 44, 22, 5, 578, 7, 273, 1, 40, 3, 133, 579, 20, 580, 12, 581, 11, 20, 105, 254, 582, 12, 583, 11, 584, 14, 585, 1, 274, 267, 7, 586, 16, 587, 1, 18, 133, 9, 588, 275, 14, 589, 24, 4, 3, 590, 591, 7, 176, 32, 129, 259, 78, 14, 592, 593, 1, 5, 20, 276, 38, 277, 594, 20, 29, 52, 278, 7, 101, 595, 65, 261, 5, 266, 16, 279, 1, 40, 3, 21, 197, 29, 596, 13, 280, 4, 3, 46, 6, 109, 597, 598, 64, 123, 281, 599, 600, 12, 282, 11, 10, 601, 124, 283, 602, 603, 604, 20, 605, 20, 606, 14, 27, 8, 134, 1, 19, 607, 15, 608, 609, 149, 31, 8, 610, 611, 1, 19, 4, 3, 282, 612, 613, 9, 78, 5, 208, 54, 166, 26, 614, 284, 1, 19, 4, 3, 281, 615, 616, 15, 617, 15, 618, 15, 619, 15, 620, 15, 621, 622, 15, 623, 28, 29, 624, 7, 625, 17, 200, 27, 45, 7, 236, 1, 19, 4, 3, 67, 285, 626, 627, 5, 177, 97, 165, 628, 13, 629, 9, 630, 15, 631, 15, 632, 633, 28, 34, 634, 276, 38, 277, 45, 7, 237, 10, 37, 7, 635, 26, 636, 26, 278, 23, 24, 4, 3, 21, 121, 36, 637, 31, 286, 257, 43, 287, 5, 20, 27, 20, 21, 27, 10, 177, 97, 178, 638, 639, 12, 178, 171, 11, 9, 640, 12, 54, 56, 641, 642, 11, 643, 16, 283, 25, 644, 1, 5, 645, 39, 2, 241, 179, 46, 6, 48, 263, 646, 288, 44, 31, 162, 35, 647, 31, 113, 8, 648, 1, 19, 4, 3, 46, 6, 119, 131, 105, 649, 288, 650, 5, 651, 35, 113, 8, 151, 40, 3, 51, 180, 652, 653, 12, 654, 11, 8, 90, 87, 181, 27, 64, 2, 38, 59, 44, 5, 233, 35, 41, 173, 16, 54, 48, 655, 182, 2, 6, 81, 12, 75, 131, 53, 656, 35, 41, 11, 289, 8, 251, 40, 3, 59, 9, 121, 657, 658, 149, 10, 659, 128, 2, 4, 3, 660, 56, 15, 290, 56, 16, 29, 135, 12, 661, 128, 11, 34, 80, 12, 662, 128, 11, 663, 4, 3, 27, 10, 81, 15, 135, 15, 80, 100, 664, 1, 65, 59, 39, 2, 98, 274, 665, 1, 5, 291, 666, 45, 28, 7, 183, 1, 18, 667, 45, 7, 273, 1, 40, 3, 21, 2, 39, 10, 292, 54, 25, 668, 6, 669, 43, 14, 287, 40, 3, 27, 2, 292, 54, 59, 161, 293, 5, 43, 290, 31, 121, 109, 294, 12, 670, 11, 26, 92, 32, 30, 32, 22, 4, 3, 48, 294, 5, 53, 295, 31, 671, 12, 672, 11, 26, 673, 36, 14, 674, 31, 296, 286, 675, 1, 38, 44, 22, 5, 676, 2, 4, 3, 46, 6, 297, 131, 20, 27, 20, 67, 59, 5, 677, 31, 41, 7, 176, 32, 219, 24, 4, 3, 678, 31, 679, 67, 198, 160, 9, 289, 7, 176, 5, 680, 4, 3, 681, 682, 8, 90, 18, 2, 39, 9, 683, 12, 684, 15, 685, 15, 686, 136, 11, 34, 129, 136, 12, 687, 2, 98, 6, 45, 688, 129, 45, 136, 11, 284, 10, 689, 47, 16, 298, 40, 3, 21, 51, 10, 101, 690, 4, 3, 51, 83, 25, 27, 9, 299, 2, 300, 301, 302, 691, 5, 303, 692, 184, 14, 116, 1, 5, 28, 693, 14, 304, 1, 18, 225, 19, 4, 3, 51, 694, 2, 6, 695, 696, 6, 697, 180, 698, 5, 46, 6, 699, 33, 27, 7, 74, 18, 12, 51, 160, 296, 31, 41, 9, 700, 136, 13, 11, 47, 701, 8, 298, 19, 7, 125, 99, 2, 702, 33, 17, 1, 19, 4, 3, 46, 6, 119, 8, 5, 302, 703, 9, 704, 155, 228, 41, 2, 705, 12, 706, 11, 8, 27, 8, 91, 6, 184, 14, 116, 1, 19, 4, 3, 21, 102, 43, 5, 20, 707, 9, 708, 20, 94, 709, 32, 30, 38, 206, 122, 305, 99, 2, 306, 4, 3, 124, 307, 308, 710, 711, 8, 712, 713, 714, 34, 309, 715, 716, 275, 26, 279, 1, 57, 185, 2, 4, 3, 717, 12, 718, 11, 10, 310, 58, 43, 180, 9, 299, 2, 67, 719, 186, 186, 12, 720, 11, 9, 130, 262, 8, 721, 1, 5, 48, 172, 722, 12, 53, 723, 311, 11, 8, 151, 38, 37, 724, 183, 7, 725, 19, 4, 3, 126, 127, 13, 265, 1, 30, 726, 35, 164, 12, 53, 727, 311, 11, 26, 167, 168, 16, 174, 728, 5, 256, 8, 5, 2, 73, 10, 102, 43, 9, 187, 13, 729, 23, 24, 57, 185, 2, 4, 3, 126, 127, 13, 102, 43, 26, 83, 38, 44, 22, 5, 730, 5, 731, 1, 4, 3, 59, 39, 9, 732, 154, 733, 734, 28, 7, 102, 43, 272, 26, 183, 1, 17, 735, 736, 7, 737, 1, 18, 738, 10, 163, 14, 148, 32, 111, 17, 739, 270, 26, 740, 38, 44, 22, 5, 741, 2, 22, 4, 3, 742, 182, 14, 74, 18, 743, 23, 5, 43, 5, 291, 15, 52, 28, 744, 2, 745, 746, 72, 10, 312, 313, 43, 26, 285, 313, 314, 23, 6, 43, 246, 747, 101, 187, 13, 306, 175, 174, 4, 3, 101, 748, 1, 17, 749, 1, 6, 187, 750, 2, 125, 1, 18, 101, 751, 56, 2, 6, 752, 315, 7, 753, 38, 44, 22, 754, 3, 21, 755, 126, 127, 5, 756, 1, 6, 102, 43, 14, 188, 16, 757, 7, 758, 17, 22, 4, 3, 75, 119, 47, 759, 760, 184, 761, 762, 186, 7, 117, 1, 316, 763, 764, 8, 765, 24, 17, 15, 766, 34, 767, 768, 25, 317, 769, 260, 7, 318, 1, 17, 22, 4, 3, 177, 253, 8, 5, 770, 771, 772, 226, 773, 774, 14, 117, 1, 19, 4, 3, 775, 776, 8, 319, 320, 777, 14, 778, 1, 17, 319, 320, 189, 8, 29, 321, 1, 779, 780, 7, 148, 17, 22, 4, 3, 181, 81, 34, 135, 15, 80, 28, 2, 781, 782, 7, 783, 1, 5, 37, 34, 784, 7, 309, 1, 40, 3, 21, 27, 152, 8, 29, 47, 132, 82, 39, 10, 785, 786, 7, 28, 8, 82, 17, 54, 189, 25, 169, 787, 7, 788, 17, 22, 4, 3, 247, 789, 322, 189, 25, 790, 7, 791, 17, 22, 5, 792, 793, 12, 794, 11, 15, 795, 300, 12, 796, 11, 15, 797, 312, 12, 798, 11, 14, 799, 1, 18, 800, 322, 25, 801, 182, 68, 802, 803, 804, 12, 805, 806, 807, 11, 28, 2, 808, 56, 2, 6, 255, 4, 3, 227, 5, 51, 8, 22, 118, 809, 13, 810, 2, 6, 811, 223, 105, 20, 812, 12, 813, 11, 20, 29, 178, 171, 190, 814, 31, 162, 35, 41, 7, 815, 32, 816, 179, 817, 1, 17, 22, 4, 3, 21, 308, 818, 819, 314, 14, 323, 18, 820, 58, 159, 47, 2, 303, 821, 25, 318, 1, 17, 22, 5, 20, 47, 822, 310, 20, 15, 20, 317, 823, 20, 824, 7, 28, 8, 82, 10, 47, 132, 82, 8, 324, 87, 67, 132, 82, 9, 825, 10, 826, 1, 175, 827, 2, 828, 40, 3, 307, 829, 6, 830, 43, 831, 832, 10, 33, 150, 9, 833, 25, 834, 23, 6, 835, 7, 836, 17, 22, 5, 837, 5, 51, 34, 47, 8, 324, 18, 188, 68, 25, 838, 38, 44, 839, 114, 4, 33, 2, 316, 33, 150, 13, 305, 1, 6, 188, 68, 840, 122, 841, 8, 22, 5, 842, 68, 843, 25, 844, 7, 325, 5, 28, 845, 7, 325, 5, 224, 16, 846, 7, 847, 848, 849, 1, 40, 33, 17, 115, 1, 19, 4, 3, 70], [69, 143, 9, 144, 137, 850, 12, 851, 11, 2, 60, 42, 852, 61, 26, 71, 1, 6, 36, 13, 60, 326, 327, 61, 55, 8, 328, 24, 4, 3, 60, 106, 42, 61, 13, 115, 2, 23, 853, 329, 25, 6, 36, 138, 7, 139, 1, 5, 103, 854, 2, 330, 17, 22, 4, 3, 21, 329, 103, 855, 60, 856, 61, 12, 857, 858, 11, 8, 137, 13, 71, 1, 6, 859, 36, 62, 140, 141, 63, 9, 860, 7, 861, 862, 103, 2, 863, 18, 48, 64, 12, 864, 865, 11, 866, 331, 867, 31, 41, 2, 191, 1, 19, 110, 62, 868, 869, 63, 28, 2, 870, 1, 19, 4, 3, 88, 42, 14, 106, 871, 16, 192, 107, 66, 88, 332, 333, 872, 107, 2, 193, 65, 2, 39, 2, 873, 1, 5, 138, 139, 2, 874, 3, 2, 191, 34, 5, 271, 26, 15, 60, 295, 31, 41, 9, 875, 39, 61, 2, 193, 876, 877, 13, 878, 1, 6, 138, 139, 103, 8, 29, 268, 31, 41, 2, 191, 1, 19, 4, 3, 2, 39, 29, 62, 140, 141, 63, 2, 88, 42, 14, 879, 16, 880, 1, 179, 332, 100, 881, 39, 7, 882, 1, 19, 4, 33, 17, 883, 1, 19, 4, 3, 21, 326, 327, 55, 16, 138, 139, 103, 331, 304, 23, 301, 15, 36, 9, 884, 7, 885, 10, 886, 887, 10, 135, 8, 88, 42, 13, 888, 2, 57, 185, 2, 94, 199, 889, 890, 79, 79, 79, 79, 79, 107, 2, 193, 891, 7, 98, 32, 892, 1, 6, 893, 7, 894, 1, 19, 4, 3, 21, 36, 62, 140, 141, 63, 10, 133, 7, 895, 17, 46, 6, 297, 159, 896, 897, 898, 8, 899, 19, 118, 15, 900, 901, 13, 315, 23, 30, 72, 10, 154, 4, 3, 902, 97, 134, 23, 6, 2, 36, 9, 903, 904, 8, 5, 60, 42, 14, 905, 1, 5, 906, 1, 6, 120, 13, 907, 908, 909, 8, 910, 24, 334, 911, 1, 57, 323, 18, 912, 26, 913, 1, 40, 61, 5, 93, 2, 234, 32, 22, 7, 914, 15, 42, 13, 106, 28, 335, 26, 915, 32, 30, 336, 916, 10, 114, 4, 3, 917, 2, 36, 25, 42, 26, 71, 1, 6, 137, 13, 181, 81, 9, 52, 68, 60, 81, 918, 61, 25, 919, 920, 921, 922, 34, 9, 923, 7, 337, 6, 4, 924, 925, 14, 74, 18, 926, 9, 99, 927, 7, 134, 1, 6, 190, 15, 36, 9, 93, 7, 928, 18, 55, 2, 330, 17, 22, 5, 37, 2, 4, 3, 21, 42, 14, 337, 24, 334, 55, 8, 328, 6, 36, 5, 62, 140, 141, 63, 2, 929, 10, 280, 4, 3, 75, 42, 14, 335, 26, 192, 1, 6, 930, 62, 42, 9, 931, 269, 932, 933, 63, 2, 934, 14, 74, 18, 134, 23, 6, 190, 15, 36, 935, 8, 936, 2, 937, 23, 5, 28, 938, 939, 100, 940, 941, 39, 161, 942, 1, 6, 338, 7, 229, 6, 252, 22, 4, 3, 338, 943, 5, 944, 945, 118, 15, 42, 9, 946, 14, 192, 1, 6, 947, 9, 36, 62, 948, 63, 949, 950, 99, 34, 951, 8, 91, 6, 333, 14, 952, 1, 336, 953, 26, 55, 8, 238, 57, 29, 1, 19, 4, 3, 21, 137, 5, 143, 2, 954, 955, 220, 956, 6, 957, 958, 959, 100, 960, 1, 18, 293, 10, 144, 2, 4, 3, 961, 9, 235, 14, 962, 963, 207, 26, 321, 1, 18, 964, 965, 60, 966, 967, 61, 25, 968, 1, 5, 969, 15, 970, 26, 29, 249, 1, 18, 971, 58, 972, 36, 62, 122, 973, 63, 8, 29, 71, 1, 19, 4, 3, 70]]\n"
     ]
    }
   ],
   "source": [
    "from tensorflow.keras.preprocessing.text import Tokenizer\n",
    "import numpy as np\n",
    "\n",
    "tokenizer = Tokenizer(filters='')\n",
    "tokenizer.fit_on_texts(title_separated)\n",
    "tokenizer.fit_on_texts(body_separated)\n",
    "tokenizer.index_word[PAD] = PAD\n",
    "\n",
    "num_of_morphemes = len(tokenizer.word_counts) + 1\n",
    "print(num_of_morphemes)\n",
    "\n",
    "title_sequence = tokenizer.texts_to_sequences(title_separated)\n",
    "print(title_sequence)\n",
    "\n",
    "body_sequence = tokenizer.texts_to_sequences(body_separated)\n",
    "print(body_sequence)"
   ],
   "metadata": {
    "collapsed": false,
    "pycharm": {
     "name": "#%% tokenize\n"
    },
    "tags": []
   }
  },
  {
   "cell_type": "code",
   "execution_count": 74,
   "outputs": [
    {
     "name": "stdout",
     "output_type": "stream",
     "text": [
      "[69, 49, 33, 142, 83, 8, 339, 84, 4, 85, 1, 340, 33, 194, 104, 86, 195, 196, 70]\n",
      "[69, 49, 2, 50, 346, 8, 33, 347, 64, 348, 8, 145, 84, 7, 200, 146, 1, 30, 72, 349]\n"
     ]
    }
   ],
   "source": [
    "from typing import List\n",
    "\n",
    "def padding(lst: List[int], max_len: int) -> List[int]:\n",
    "    return lst + [PAD] * (max_len - len(lst))\n",
    "\n",
    "title_sequence = [padding(title, max_title_morphemes) for title in title_sequence]\n",
    "print(title_sequence[0][:20])\n",
    "\n",
    "body_sequence = [padding(body, max_body_morphemes) for body in body_sequence]\n",
    "print(body_sequence[0][:20])"
   ],
   "metadata": {
    "collapsed": false,
    "pycharm": {
     "name": "#%% padding\n"
    }
   }
  },
  {
   "cell_type": "code",
   "execution_count": 75,
   "outputs": [
    {
     "name": "stdout",
     "output_type": "stream",
     "text": [
      "[[ 69  49  33 142  83   8 339  84   4  85   1 340  33 194 104  86 195 196\n",
      "   70]\n",
      " [ 69   2 105 341  87 194 197 198  39 342  47  16 343 344  40  70   0   0\n",
      "    0]\n",
      " [ 69  88  42  13 106 199 107 143 144  71  36 345  55  70   0   0   0   0\n",
      "    0]]\n",
      "[[ 69  49   2 ...   0   0   0]\n",
      " [ 69  75 119 ...   4   3  70]\n",
      " [ 69 143   9 ...   0   0   0]]\n"
     ]
    }
   ],
   "source": [
    "titles = np.array(title_sequence)\n",
    "print(titles)\n",
    "\n",
    "bodies = np.array(body_sequence)\n",
    "print(bodies)"
   ],
   "metadata": {
    "collapsed": false,
    "pycharm": {
     "name": "#%% convert data to numpy array\n"
    }
   }
  },
  {
   "cell_type": "code",
   "execution_count": 76,
   "outputs": [
    {
     "data": {
      "text/plain": "<IPython.core.display.SVG object>",
      "image/svg+xml": "<svg height=\"499pt\" viewBox=\"0.00 0.00 760.00 553.00\" width=\"686pt\" xmlns=\"http://www.w3.org/2000/svg\" xmlns:xlink=\"http://www.w3.org/1999/xlink\">\n<g class=\"graph\" id=\"graph0\" transform=\"scale(0.9 0.9) rotate(0) translate(4 549)\">\n<title>G</title>\n<polygon fill=\"white\" points=\"-4,4 -4,-549 756,-549 756,4 -4,4\" stroke=\"transparent\"/>\n<!-- 5520619600 -->\n<g class=\"node\" id=\"node1\">\n<title>5520619600</title>\n<polygon fill=\"none\" points=\"43.5,-498.5 43.5,-544.5 340.5,-544.5 340.5,-498.5 43.5,-498.5\" stroke=\"black\"/>\n<text font-family=\"Times,serif\" font-size=\"14.00\" text-anchor=\"middle\" x=\"127\" y=\"-517.8\">encoder_inputs: InputLayer</text>\n<polyline fill=\"none\" points=\"210.5,-498.5 210.5,-544.5 \" stroke=\"black\"/>\n<text font-family=\"Times,serif\" font-size=\"14.00\" text-anchor=\"middle\" x=\"238\" y=\"-529.3\">input:</text>\n<polyline fill=\"none\" points=\"210.5,-521.5 265.5,-521.5 \" stroke=\"black\"/>\n<text font-family=\"Times,serif\" font-size=\"14.00\" text-anchor=\"middle\" x=\"238\" y=\"-506.3\">output:</text>\n<polyline fill=\"none\" points=\"265.5,-498.5 265.5,-544.5 \" stroke=\"black\"/>\n<text font-family=\"Times,serif\" font-size=\"14.00\" text-anchor=\"middle\" x=\"303\" y=\"-529.3\">[(?, 2002)]</text>\n<polyline fill=\"none\" points=\"265.5,-521.5 340.5,-521.5 \" stroke=\"black\"/>\n<text font-family=\"Times,serif\" font-size=\"14.00\" text-anchor=\"middle\" x=\"303\" y=\"-506.3\">[(?, 2002)]</text>\n</g>\n<!-- 5520635344 -->\n<g class=\"node\" id=\"node3\">\n<title>5520635344</title>\n<polygon fill=\"none\" points=\"2,-415.5 2,-461.5 382,-461.5 382,-415.5 2,-415.5\" stroke=\"black\"/>\n<text font-family=\"Times,serif\" font-size=\"14.00\" text-anchor=\"middle\" x=\"117.5\" y=\"-434.8\">encoder_embedding_layer: Embedding</text>\n<polyline fill=\"none\" points=\"233,-415.5 233,-461.5 \" stroke=\"black\"/>\n<text font-family=\"Times,serif\" font-size=\"14.00\" text-anchor=\"middle\" x=\"260.5\" y=\"-446.3\">input:</text>\n<polyline fill=\"none\" points=\"233,-438.5 288,-438.5 \" stroke=\"black\"/>\n<text font-family=\"Times,serif\" font-size=\"14.00\" text-anchor=\"middle\" x=\"260.5\" y=\"-423.3\">output:</text>\n<polyline fill=\"none\" points=\"288,-415.5 288,-461.5 \" stroke=\"black\"/>\n<text font-family=\"Times,serif\" font-size=\"14.00\" text-anchor=\"middle\" x=\"335\" y=\"-446.3\">(?, 2002)</text>\n<polyline fill=\"none\" points=\"288,-438.5 382,-438.5 \" stroke=\"black\"/>\n<text font-family=\"Times,serif\" font-size=\"14.00\" text-anchor=\"middle\" x=\"335\" y=\"-423.3\">(?, 2002, 256)</text>\n</g>\n<!-- 5520619600&#45;&gt;5520635344 -->\n<g class=\"edge\" id=\"edge1\">\n<title>5520619600-&gt;5520635344</title>\n<path d=\"M192,-498.37C192,-490.15 192,-480.66 192,-471.73\" fill=\"none\" stroke=\"black\"/>\n<polygon fill=\"black\" points=\"195.5,-471.61 192,-461.61 188.5,-471.61 195.5,-471.61\" stroke=\"black\"/>\n</g>\n<!-- 5512447248 -->\n<g class=\"node\" id=\"node2\">\n<title>5512447248</title>\n<polygon fill=\"none\" points=\"427,-415.5 427,-461.5 711,-461.5 711,-415.5 427,-415.5\" stroke=\"black\"/>\n<text font-family=\"Times,serif\" font-size=\"14.00\" text-anchor=\"middle\" x=\"510.5\" y=\"-434.8\">decoder_inputs: InputLayer</text>\n<polyline fill=\"none\" points=\"594,-415.5 594,-461.5 \" stroke=\"black\"/>\n<text font-family=\"Times,serif\" font-size=\"14.00\" text-anchor=\"middle\" x=\"621.5\" y=\"-446.3\">input:</text>\n<polyline fill=\"none\" points=\"594,-438.5 649,-438.5 \" stroke=\"black\"/>\n<text font-family=\"Times,serif\" font-size=\"14.00\" text-anchor=\"middle\" x=\"621.5\" y=\"-423.3\">output:</text>\n<polyline fill=\"none\" points=\"649,-415.5 649,-461.5 \" stroke=\"black\"/>\n<text font-family=\"Times,serif\" font-size=\"14.00\" text-anchor=\"middle\" x=\"680\" y=\"-446.3\">[(?, 18)]</text>\n<polyline fill=\"none\" points=\"649,-438.5 711,-438.5 \" stroke=\"black\"/>\n<text font-family=\"Times,serif\" font-size=\"14.00\" text-anchor=\"middle\" x=\"680\" y=\"-423.3\">[(?, 18)]</text>\n</g>\n<!-- 5544600336 -->\n<g class=\"node\" id=\"node4\">\n<title>5544600336</title>\n<polygon fill=\"none\" points=\"386,-332.5 386,-378.5 752,-378.5 752,-332.5 386,-332.5\" stroke=\"black\"/>\n<text font-family=\"Times,serif\" font-size=\"14.00\" text-anchor=\"middle\" x=\"501.5\" y=\"-351.8\">decoder_embedding_layer: Embedding</text>\n<polyline fill=\"none\" points=\"617,-332.5 617,-378.5 \" stroke=\"black\"/>\n<text font-family=\"Times,serif\" font-size=\"14.00\" text-anchor=\"middle\" x=\"644.5\" y=\"-363.3\">input:</text>\n<polyline fill=\"none\" points=\"617,-355.5 672,-355.5 \" stroke=\"black\"/>\n<text font-family=\"Times,serif\" font-size=\"14.00\" text-anchor=\"middle\" x=\"644.5\" y=\"-340.3\">output:</text>\n<polyline fill=\"none\" points=\"672,-332.5 672,-378.5 \" stroke=\"black\"/>\n<text font-family=\"Times,serif\" font-size=\"14.00\" text-anchor=\"middle\" x=\"712\" y=\"-363.3\">(?, 18)</text>\n<polyline fill=\"none\" points=\"672,-355.5 752,-355.5 \" stroke=\"black\"/>\n<text font-family=\"Times,serif\" font-size=\"14.00\" text-anchor=\"middle\" x=\"712\" y=\"-340.3\">(?, 18, 256)</text>\n</g>\n<!-- 5512447248&#45;&gt;5544600336 -->\n<g class=\"edge\" id=\"edge2\">\n<title>5512447248-&gt;5544600336</title>\n<path d=\"M569,-415.37C569,-407.15 569,-397.66 569,-388.73\" fill=\"none\" stroke=\"black\"/>\n<polygon fill=\"black\" points=\"572.5,-388.61 569,-378.61 565.5,-388.61 572.5,-388.61\" stroke=\"black\"/>\n</g>\n<!-- 5530911312 -->\n<g class=\"node\" id=\"node5\">\n<title>5530911312</title>\n<polygon fill=\"none\" points=\"16.5,-332.5 16.5,-378.5 367.5,-378.5 367.5,-332.5 16.5,-332.5\" stroke=\"black\"/>\n<text font-family=\"Times,serif\" font-size=\"14.00\" text-anchor=\"middle\" x=\"88\" y=\"-351.8\">encoder_layer_1: GRU</text>\n<polyline fill=\"none\" points=\"159.5,-332.5 159.5,-378.5 \" stroke=\"black\"/>\n<text font-family=\"Times,serif\" font-size=\"14.00\" text-anchor=\"middle\" x=\"187\" y=\"-363.3\">input:</text>\n<polyline fill=\"none\" points=\"159.5,-355.5 214.5,-355.5 \" stroke=\"black\"/>\n<text font-family=\"Times,serif\" font-size=\"14.00\" text-anchor=\"middle\" x=\"187\" y=\"-340.3\">output:</text>\n<polyline fill=\"none\" points=\"214.5,-332.5 214.5,-378.5 \" stroke=\"black\"/>\n<text font-family=\"Times,serif\" font-size=\"14.00\" text-anchor=\"middle\" x=\"291\" y=\"-363.3\">(?, 2002, 256)</text>\n<polyline fill=\"none\" points=\"214.5,-355.5 367.5,-355.5 \" stroke=\"black\"/>\n<text font-family=\"Times,serif\" font-size=\"14.00\" text-anchor=\"middle\" x=\"291\" y=\"-340.3\">[(?, 2002, 128), (?, 128)]</text>\n</g>\n<!-- 5520635344&#45;&gt;5530911312 -->\n<g class=\"edge\" id=\"edge3\">\n<title>5520635344-&gt;5530911312</title>\n<path d=\"M192,-415.37C192,-407.15 192,-397.66 192,-388.73\" fill=\"none\" stroke=\"black\"/>\n<polygon fill=\"black\" points=\"195.5,-388.61 192,-378.61 188.5,-388.61 195.5,-388.61\" stroke=\"black\"/>\n</g>\n<!-- 5469839056 -->\n<g class=\"node\" id=\"node6\">\n<title>5469839056</title>\n<polygon fill=\"none\" points=\"236,-249.5 236,-295.5 556,-295.5 556,-249.5 236,-249.5\" stroke=\"black\"/>\n<text font-family=\"Times,serif\" font-size=\"14.00\" text-anchor=\"middle\" x=\"298.5\" y=\"-268.8\">decode_layer: GRU</text>\n<polyline fill=\"none\" points=\"361,-249.5 361,-295.5 \" stroke=\"black\"/>\n<text font-family=\"Times,serif\" font-size=\"14.00\" text-anchor=\"middle\" x=\"388.5\" y=\"-280.3\">input:</text>\n<polyline fill=\"none\" points=\"361,-272.5 416,-272.5 \" stroke=\"black\"/>\n<text font-family=\"Times,serif\" font-size=\"14.00\" text-anchor=\"middle\" x=\"388.5\" y=\"-257.3\">output:</text>\n<polyline fill=\"none\" points=\"416,-249.5 416,-295.5 \" stroke=\"black\"/>\n<text font-family=\"Times,serif\" font-size=\"14.00\" text-anchor=\"middle\" x=\"486\" y=\"-280.3\">[(?, 18, 256), (?, 128)]</text>\n<polyline fill=\"none\" points=\"416,-272.5 556,-272.5 \" stroke=\"black\"/>\n<text font-family=\"Times,serif\" font-size=\"14.00\" text-anchor=\"middle\" x=\"486\" y=\"-257.3\">(?, 18, 128)</text>\n</g>\n<!-- 5544600336&#45;&gt;5469839056 -->\n<g class=\"edge\" id=\"edge4\">\n<title>5544600336-&gt;5469839056</title>\n<path d=\"M521.73,-332.37C500.27,-322.32 474.73,-310.36 452.29,-299.86\" fill=\"none\" stroke=\"black\"/>\n<polygon fill=\"black\" points=\"453.76,-296.68 443.22,-295.61 450.79,-303.02 453.76,-296.68\" stroke=\"black\"/>\n</g>\n<!-- 5530911312&#45;&gt;5469839056 -->\n<g class=\"edge\" id=\"edge5\">\n<title>5530911312-&gt;5469839056</title>\n<path d=\"M247.47,-332.47C273.33,-322.21 304.27,-309.92 331.19,-299.23\" fill=\"none\" stroke=\"black\"/>\n<polygon fill=\"black\" points=\"332.53,-302.47 340.54,-295.52 329.95,-295.96 332.53,-302.47\" stroke=\"black\"/>\n</g>\n<!-- 5558431568 -->\n<g class=\"node\" id=\"node7\">\n<title>5558431568</title>\n<polygon fill=\"none\" points=\"0,-166.5 0,-212.5 384,-212.5 384,-166.5 0,-166.5\" stroke=\"black\"/>\n<text font-family=\"Times,serif\" font-size=\"14.00\" text-anchor=\"middle\" x=\"77.5\" y=\"-185.8\">attention_layer: Attention</text>\n<polyline fill=\"none\" points=\"155,-166.5 155,-212.5 \" stroke=\"black\"/>\n<text font-family=\"Times,serif\" font-size=\"14.00\" text-anchor=\"middle\" x=\"182.5\" y=\"-197.3\">input:</text>\n<polyline fill=\"none\" points=\"155,-189.5 210,-189.5 \" stroke=\"black\"/>\n<text font-family=\"Times,serif\" font-size=\"14.00\" text-anchor=\"middle\" x=\"182.5\" y=\"-174.3\">output:</text>\n<polyline fill=\"none\" points=\"210,-166.5 210,-212.5 \" stroke=\"black\"/>\n<text font-family=\"Times,serif\" font-size=\"14.00\" text-anchor=\"middle\" x=\"297\" y=\"-197.3\">[(?, 18, 128), (?, 2002, 128)]</text>\n<polyline fill=\"none\" points=\"210,-189.5 384,-189.5 \" stroke=\"black\"/>\n<text font-family=\"Times,serif\" font-size=\"14.00\" text-anchor=\"middle\" x=\"297\" y=\"-174.3\">(?, 18, 128)</text>\n</g>\n<!-- 5530911312&#45;&gt;5558431568 -->\n<g class=\"edge\" id=\"edge7\">\n<title>5530911312-&gt;5558431568</title>\n<path d=\"M192,-332.38C192,-304.18 192,-255.21 192,-222.82\" fill=\"none\" stroke=\"black\"/>\n<polygon fill=\"black\" points=\"195.5,-222.53 192,-212.53 188.5,-222.53 195.5,-222.53\" stroke=\"black\"/>\n</g>\n<!-- 5469839056&#45;&gt;5558431568 -->\n<g class=\"edge\" id=\"edge6\">\n<title>5469839056-&gt;5558431568</title>\n<path d=\"M340.53,-249.47C314.67,-239.21 283.73,-226.92 256.81,-216.23\" fill=\"none\" stroke=\"black\"/>\n<polygon fill=\"black\" points=\"258.05,-212.96 247.46,-212.52 255.47,-219.47 258.05,-212.96\" stroke=\"black\"/>\n</g>\n<!-- 5471662608 -->\n<g class=\"node\" id=\"node8\">\n<title>5471662608</title>\n<polygon fill=\"none\" points=\"100,-83.5 100,-129.5 504,-129.5 504,-83.5 100,-83.5\" stroke=\"black\"/>\n<text font-family=\"Times,serif\" font-size=\"14.00\" text-anchor=\"middle\" x=\"194\" y=\"-102.8\">concatenate_layer: Concatenate</text>\n<polyline fill=\"none\" points=\"288,-83.5 288,-129.5 \" stroke=\"black\"/>\n<text font-family=\"Times,serif\" font-size=\"14.00\" text-anchor=\"middle\" x=\"315.5\" y=\"-114.3\">input:</text>\n<polyline fill=\"none\" points=\"288,-106.5 343,-106.5 \" stroke=\"black\"/>\n<text font-family=\"Times,serif\" font-size=\"14.00\" text-anchor=\"middle\" x=\"315.5\" y=\"-91.3\">output:</text>\n<polyline fill=\"none\" points=\"343,-83.5 343,-129.5 \" stroke=\"black\"/>\n<text font-family=\"Times,serif\" font-size=\"14.00\" text-anchor=\"middle\" x=\"423.5\" y=\"-114.3\">[(?, 18, 128), (?, 18, 128)]</text>\n<polyline fill=\"none\" points=\"343,-106.5 504,-106.5 \" stroke=\"black\"/>\n<text font-family=\"Times,serif\" font-size=\"14.00\" text-anchor=\"middle\" x=\"423.5\" y=\"-91.3\">(?, 18, 256)</text>\n</g>\n<!-- 5469839056&#45;&gt;5471662608 -->\n<g class=\"edge\" id=\"edge8\">\n<title>5469839056-&gt;5471662608</title>\n<path d=\"M401.06,-249.31C404.95,-226.79 407.5,-191.69 393,-166 386.02,-153.63 375.21,-143.46 363.46,-135.27\" fill=\"none\" stroke=\"black\"/>\n<polygon fill=\"black\" points=\"365.07,-132.15 354.78,-129.66 361.27,-138.03 365.07,-132.15\" stroke=\"black\"/>\n</g>\n<!-- 5558431568&#45;&gt;5471662608 -->\n<g class=\"edge\" id=\"edge9\">\n<title>5558431568-&gt;5471662608</title>\n<path d=\"M222.06,-166.37C234.91,-156.9 250.07,-145.74 263.71,-135.69\" fill=\"none\" stroke=\"black\"/>\n<polygon fill=\"black\" points=\"266,-138.35 271.98,-129.61 261.85,-132.72 266,-138.35\" stroke=\"black\"/>\n</g>\n<!-- 5558423504 -->\n<g class=\"node\" id=\"node9\">\n<title>5558423504</title>\n<polygon fill=\"none\" points=\"171.5,-0.5 171.5,-46.5 432.5,-46.5 432.5,-0.5 171.5,-0.5\" stroke=\"black\"/>\n<text font-family=\"Times,serif\" font-size=\"14.00\" text-anchor=\"middle\" x=\"234.5\" y=\"-19.8\">output_layer: Dense</text>\n<polyline fill=\"none\" points=\"297.5,-0.5 297.5,-46.5 \" stroke=\"black\"/>\n<text font-family=\"Times,serif\" font-size=\"14.00\" text-anchor=\"middle\" x=\"325\" y=\"-31.3\">input:</text>\n<polyline fill=\"none\" points=\"297.5,-23.5 352.5,-23.5 \" stroke=\"black\"/>\n<text font-family=\"Times,serif\" font-size=\"14.00\" text-anchor=\"middle\" x=\"325\" y=\"-8.3\">output:</text>\n<polyline fill=\"none\" points=\"352.5,-0.5 352.5,-46.5 \" stroke=\"black\"/>\n<text font-family=\"Times,serif\" font-size=\"14.00\" text-anchor=\"middle\" x=\"392.5\" y=\"-31.3\">(?, 18, 256)</text>\n<polyline fill=\"none\" points=\"352.5,-23.5 432.5,-23.5 \" stroke=\"black\"/>\n<text font-family=\"Times,serif\" font-size=\"14.00\" text-anchor=\"middle\" x=\"392.5\" y=\"-8.3\">(?, 18, 974)</text>\n</g>\n<!-- 5471662608&#45;&gt;5558423504 -->\n<g class=\"edge\" id=\"edge10\">\n<title>5471662608-&gt;5558423504</title>\n<path d=\"M302,-83.37C302,-75.15 302,-65.66 302,-56.73\" fill=\"none\" stroke=\"black\"/>\n<polygon fill=\"black\" points=\"305.5,-56.61 302,-46.61 298.5,-56.61 305.5,-56.61\" stroke=\"black\"/>\n</g>\n</g>\n</svg>"
     },
     "execution_count": 76,
     "metadata": {},
     "output_type": "execute_result"
    }
   ],
   "source": [
    "embedding_dim = 256\n",
    "hidden_size = 128\n",
    "encoder_layer_size = 1\n",
    "learning_late = 0.001\n",
    "dropout = 0.4\n",
    "\n",
    "from tensorflow.keras.models import Model\n",
    "from tensorflow.keras.layers import Input, Embedding, GRU, Attention, Concatenate, Dense\n",
    "from tensorflow.keras.activations import softmax\n",
    "from tensorflow.keras.optimizers import Adam\n",
    "from tensorflow.keras.losses import sparse_categorical_crossentropy\n",
    "\n",
    "# Encoder Input\n",
    "encoder_inputs = Input(shape=(max_body_morphemes,), name='encoder_inputs')\n",
    "\n",
    "# Encoder Embedding Layer\n",
    "encoder_embedding = Embedding(\n",
    "    num_of_morphemes, \n",
    "    embedding_dim, \n",
    "    name='encoder_embedding_layer'\n",
    ")(encoder_inputs)\n",
    "\n",
    "# Encoder Layer\n",
    "encoder_outputs, encoder_states = None, None\n",
    "for i in range(encoder_layer_size):\n",
    "    encoder_layer = GRU(\n",
    "        units=hidden_size,\n",
    "        return_sequences=True, return_state=True,\n",
    "        dropout=dropout, recurrent_dropout=dropout,\n",
    "        name='encoder_layer_' + str(i + 1)\n",
    "    )\n",
    "    encoder_outputs, encoder_states = encoder_layer(\n",
    "        encoder_embedding if encoder_outputs is None else encoder_outputs\n",
    "    )\n",
    "\n",
    "# Decoder\n",
    "decoder_inputs = Input(shape=(max_title_morphemes - 1,), name='decoder_inputs')\n",
    "\n",
    "# Decoder Embedding Layer\n",
    "decoder_embedding_layer = Embedding(\n",
    "    num_of_morphemes, \n",
    "    embedding_dim, \n",
    "    name='decoder_embedding_layer'\n",
    ")\n",
    "decoder_embedding = decoder_embedding_layer(decoder_inputs)\n",
    "\n",
    "# Decoder Layer\n",
    "decoder_layer = GRU(\n",
    "    hidden_size,\n",
    "    return_sequences=True,\n",
    "    dropout=dropout, recurrent_dropout=dropout / 2,\n",
    "    name='decode_layer'\n",
    ")\n",
    "decoder_outputs = decoder_layer(\n",
    "    decoder_embedding,\n",
    "    initial_state=encoder_states\n",
    ")\n",
    "\n",
    "# Attention Layer\n",
    "attention_layer = Attention(name='attention_layer')\n",
    "attention_outputs = attention_layer([decoder_outputs, encoder_outputs])\n",
    "\n",
    "# Concatenate the Result of Attention and the Hidden States of Decoder\n",
    "decoder_concat_inputs = Concatenate(axis=-1, name='concatenate_layer')(\n",
    "    [decoder_outputs, attention_outputs]\n",
    ")\n",
    "\n",
    "# Output Layer\n",
    "output_layer = Dense(num_of_morphemes, activation=softmax, name='output_layer')\n",
    "outputs = output_layer(decoder_concat_inputs)\n",
    "\n",
    "# Define Model\n",
    "model = Model(\n",
    "    inputs=[encoder_inputs, decoder_inputs], \n",
    "    outputs=outputs,\n",
    "    name='training_model'\n",
    ")\n",
    "\n",
    "# Compile\n",
    "model.compile(\n",
    "    optimizer=Adam(learning_rate=learning_late),\n",
    "    loss=sparse_categorical_crossentropy\n",
    ")\n",
    "\n",
    "# Display Model Summary\n",
    "from IPython.display import SVG\n",
    "from tensorflow.keras.utils import model_to_dot\n",
    "\n",
    "# You need to install graphviz! (sudo apt install graphviz or brew install graphviz)\n",
    "SVG(model_to_dot(model, show_shapes=True, dpi=65).create(prog='dot', format='svg'))"
   ],
   "metadata": {
    "collapsed": false,
    "pycharm": {
     "name": "#%% create model\n"
    },
    "tags": []
   }
  },
  {
   "cell_type": "code",
   "execution_count": 77,
   "outputs": [
    {
     "name": "stdout",
     "output_type": "stream",
     "text": [
      "[[ 69  49   2 ...   0   0   0]\n",
      " [ 69 143   9 ...   0   0   0]]\n",
      "[[ 69  75 119 ...   4   3  70]]\n",
      "[[ 69  49  33 142  83   8 339  84   4  85   1 340  33 194 104  86 195 196\n",
      "   70]\n",
      " [ 69  88  42  13 106 199 107 143 144  71  36 345  55  70   0   0   0   0\n",
      "    0]]\n",
      "[[ 69   2 105 341  87 194 197 198  39 342  47  16 343 344  40  70   0   0\n",
      "    0]]\n"
     ]
    }
   ],
   "source": [
    "from sklearn.model_selection import train_test_split\n",
    "\n",
    "x_train, x_test, y_train, y_test = train_test_split(\n",
    "    bodies, titles, test_size=0.33\n",
    ")\n",
    "print(x_train)\n",
    "print(x_test)\n",
    "print(y_train)\n",
    "print(y_test)"
   ],
   "metadata": {
    "collapsed": false,
    "pycharm": {
     "name": "#%% prepare training set\n"
    },
    "tags": []
   }
  },
  {
   "cell_type": "code",
   "execution_count": 78,
   "outputs": [
    {
     "name": "stdout",
     "output_type": "stream",
     "text": [
      "Train on 2 samples, validate on 1 samples\n",
      "Epoch 1/5\n",
      "2/2 [==============================] - 9s 4s/sample - loss: 6.8785 - val_loss: 6.8729\b\b\b\b\b\b\b\b\b\b\b\b\b\b\b\b\b\b\b\b\b\b\b\b\b\b\b\b\b\b\b\b\b\b\b\b\b\n",
      "Epoch 2/5\n",
      "2/2 [==============================] - 4s 2s/sample - loss: 6.8424 - val_loss: 6.8655\b\b\b\b\b\b\b\b\b\b\b\b\b\b\b\b\b\b\b\b\b\b\b\b\b\b\b\b\b\b\b\b\b\b\b\b\b\n",
      "Epoch 3/5\n",
      "2/2 [==============================] - 4s 2s/sample - loss: 6.7997 - val_loss: 6.8569\b\b\b\b\b\b\b\b\b\b\b\b\b\b\b\b\b\b\b\b\b\b\b\b\b\b\b\b\b\b\b\b\b\b\b\b\b\n",
      "Epoch 4/5\n",
      "2/2 [==============================] - 4s 2s/sample - loss: 6.7559 - val_loss: 6.8458\b\b\b\b\b\b\b\b\b\b\b\b\b\b\b\b\b\b\b\b\b\b\b\b\b\b\b\b\b\b\b\b\b\b\b\b\b\n",
      "Epoch 5/5\n",
      "2/2 [==============================] - 4s 2s/sample - loss: 6.6549 - val_loss: 6.8318\b\b\b\b\b\b\b\b\b\b\b\b\b\b\b\b\b\b\b\b\b\b\b\b\b\b\b\b\b\b\b\b\b\b\b\b\b\n"
     ]
    }
   ],
   "source": [
    "epochs = 5\n",
    "batch_size = 1\n",
    "\n",
    "history = model.fit(\n",
    "    [x_train, y_train[:, :-1]], y_train[:, 1:],\n",
    "    epochs=epochs, batch_size=batch_size,\n",
    "    validation_data=([x_test, y_test[:, :-1]], y_test[:, 1:])\n",
    ")"
   ],
   "metadata": {
    "collapsed": false,
    "pycharm": {
     "name": "#%% teacher force training\n"
    },
    "tags": []
   }
  },
  {
   "cell_type": "code",
   "execution_count": 79,
   "outputs": [
    {
     "data": {
      "text/plain": "<Figure size 432x288 with 1 Axes>",
      "image/png": "[encoded data removed]"
     },
     "metadata": {
      "needs_background": "light"
     },
     "output_type": "display_data"
    }
   ],
   "source": [
    "import matplotlib.pyplot as plt\n",
    "\n",
    "plt.plot(history.history['loss'], label='train')\n",
    "plt.plot(history.history['val_loss'], label='test')\n",
    "plt.legend()\n",
    "plt.show()"
   ],
   "metadata": {
    "collapsed": false,
    "pycharm": {
     "name": "#%% plot history\n"
    }
   }
  },
  {
   "cell_type": "code",
   "execution_count": 80,
   "outputs": [
    {
     "data": {
      "text/plain": "<IPython.core.display.SVG object>",
      "image/svg+xml": "<svg height=\"200pt\" viewBox=\"0.00 0.00 388.00 221.00\" width=\"350pt\" xmlns=\"http://www.w3.org/2000/svg\" xmlns:xlink=\"http://www.w3.org/1999/xlink\">\n<g class=\"graph\" id=\"graph0\" transform=\"scale(0.9 0.9) rotate(0) translate(4 217)\">\n<title>G</title>\n<polygon fill=\"white\" points=\"-4,4 -4,-217 384,-217 384,4 -4,4\" stroke=\"transparent\"/>\n<!-- 5520619600 -->\n<g class=\"node\" id=\"node1\">\n<title>5520619600</title>\n<polygon fill=\"none\" points=\"41.5,-166.5 41.5,-212.5 338.5,-212.5 338.5,-166.5 41.5,-166.5\" stroke=\"black\"/>\n<text font-family=\"Times,serif\" font-size=\"14.00\" text-anchor=\"middle\" x=\"125\" y=\"-185.8\">encoder_inputs: InputLayer</text>\n<polyline fill=\"none\" points=\"208.5,-166.5 208.5,-212.5 \" stroke=\"black\"/>\n<text font-family=\"Times,serif\" font-size=\"14.00\" text-anchor=\"middle\" x=\"236\" y=\"-197.3\">input:</text>\n<polyline fill=\"none\" points=\"208.5,-189.5 263.5,-189.5 \" stroke=\"black\"/>\n<text font-family=\"Times,serif\" font-size=\"14.00\" text-anchor=\"middle\" x=\"236\" y=\"-174.3\">output:</text>\n<polyline fill=\"none\" points=\"263.5,-166.5 263.5,-212.5 \" stroke=\"black\"/>\n<text font-family=\"Times,serif\" font-size=\"14.00\" text-anchor=\"middle\" x=\"301\" y=\"-197.3\">[(?, 2002)]</text>\n<polyline fill=\"none\" points=\"263.5,-189.5 338.5,-189.5 \" stroke=\"black\"/>\n<text font-family=\"Times,serif\" font-size=\"14.00\" text-anchor=\"middle\" x=\"301\" y=\"-174.3\">[(?, 2002)]</text>\n</g>\n<!-- 5520635344 -->\n<g class=\"node\" id=\"node2\">\n<title>5520635344</title>\n<polygon fill=\"none\" points=\"0,-83.5 0,-129.5 380,-129.5 380,-83.5 0,-83.5\" stroke=\"black\"/>\n<text font-family=\"Times,serif\" font-size=\"14.00\" text-anchor=\"middle\" x=\"115.5\" y=\"-102.8\">encoder_embedding_layer: Embedding</text>\n<polyline fill=\"none\" points=\"231,-83.5 231,-129.5 \" stroke=\"black\"/>\n<text font-family=\"Times,serif\" font-size=\"14.00\" text-anchor=\"middle\" x=\"258.5\" y=\"-114.3\">input:</text>\n<polyline fill=\"none\" points=\"231,-106.5 286,-106.5 \" stroke=\"black\"/>\n<text font-family=\"Times,serif\" font-size=\"14.00\" text-anchor=\"middle\" x=\"258.5\" y=\"-91.3\">output:</text>\n<polyline fill=\"none\" points=\"286,-83.5 286,-129.5 \" stroke=\"black\"/>\n<text font-family=\"Times,serif\" font-size=\"14.00\" text-anchor=\"middle\" x=\"333\" y=\"-114.3\">(?, 2002)</text>\n<polyline fill=\"none\" points=\"286,-106.5 380,-106.5 \" stroke=\"black\"/>\n<text font-family=\"Times,serif\" font-size=\"14.00\" text-anchor=\"middle\" x=\"333\" y=\"-91.3\">(?, 2002, 256)</text>\n</g>\n<!-- 5520619600&#45;&gt;5520635344 -->\n<g class=\"edge\" id=\"edge1\">\n<title>5520619600-&gt;5520635344</title>\n<path d=\"M190,-166.37C190,-158.15 190,-148.66 190,-139.73\" fill=\"none\" stroke=\"black\"/>\n<polygon fill=\"black\" points=\"193.5,-139.61 190,-129.61 186.5,-139.61 193.5,-139.61\" stroke=\"black\"/>\n</g>\n<!-- 5530911312 -->\n<g class=\"node\" id=\"node3\">\n<title>5530911312</title>\n<polygon fill=\"none\" points=\"14.5,-0.5 14.5,-46.5 365.5,-46.5 365.5,-0.5 14.5,-0.5\" stroke=\"black\"/>\n<text font-family=\"Times,serif\" font-size=\"14.00\" text-anchor=\"middle\" x=\"86\" y=\"-19.8\">encoder_layer_1: GRU</text>\n<polyline fill=\"none\" points=\"157.5,-0.5 157.5,-46.5 \" stroke=\"black\"/>\n<text font-family=\"Times,serif\" font-size=\"14.00\" text-anchor=\"middle\" x=\"185\" y=\"-31.3\">input:</text>\n<polyline fill=\"none\" points=\"157.5,-23.5 212.5,-23.5 \" stroke=\"black\"/>\n<text font-family=\"Times,serif\" font-size=\"14.00\" text-anchor=\"middle\" x=\"185\" y=\"-8.3\">output:</text>\n<polyline fill=\"none\" points=\"212.5,-0.5 212.5,-46.5 \" stroke=\"black\"/>\n<text font-family=\"Times,serif\" font-size=\"14.00\" text-anchor=\"middle\" x=\"289\" y=\"-31.3\">(?, 2002, 256)</text>\n<polyline fill=\"none\" points=\"212.5,-23.5 365.5,-23.5 \" stroke=\"black\"/>\n<text font-family=\"Times,serif\" font-size=\"14.00\" text-anchor=\"middle\" x=\"289\" y=\"-8.3\">[(?, 2002, 128), (?, 128)]</text>\n</g>\n<!-- 5520635344&#45;&gt;5530911312 -->\n<g class=\"edge\" id=\"edge2\">\n<title>5520635344-&gt;5530911312</title>\n<path d=\"M190,-83.37C190,-75.15 190,-65.66 190,-56.73\" fill=\"none\" stroke=\"black\"/>\n<polygon fill=\"black\" points=\"193.5,-56.61 190,-46.61 186.5,-56.61 193.5,-56.61\" stroke=\"black\"/>\n</g>\n</g>\n</svg>"
     },
     "execution_count": 80,
     "metadata": {},
     "output_type": "execute_result"
    }
   ],
   "source": [
    "# Define Encoder Model\n",
    "encoder_model = Model(\n",
    "    inputs=encoder_inputs,\n",
    "    outputs=[encoder_outputs, encoder_states],\n",
    "    name='encoder_model'\n",
    ")\n",
    "\n",
    "# You need to install graphviz! (sudo apt install graphviz or brew install graphviz)\n",
    "SVG(model_to_dot(encoder_model, show_shapes=True, dpi=65).create(prog='dot', format='svg'))"
   ],
   "metadata": {
    "collapsed": false,
    "pycharm": {
     "name": "#%% create test model\n"
    },
    "tags": []
   }
  },
  {
   "cell_type": "code",
   "execution_count": 81,
   "metadata": {},
   "outputs": [
    {
     "data": {
      "text/plain": "<IPython.core.display.SVG object>",
      "image/svg+xml": "<svg height=\"424pt\" viewBox=\"0.00 0.00 927.50 470.00\" width=\"837pt\" xmlns=\"http://www.w3.org/2000/svg\" xmlns:xlink=\"http://www.w3.org/1999/xlink\">\n<g class=\"graph\" id=\"graph0\" transform=\"scale(0.9 0.9) rotate(0) translate(4 466)\">\n<title>G</title>\n<polygon fill=\"white\" points=\"-4,4 -4,-466 923.5,-466 923.5,4 -4,4\" stroke=\"transparent\"/>\n<!-- 5512447248 -->\n<g class=\"node\" id=\"node1\">\n<title>5512447248</title>\n<polygon fill=\"none\" points=\"255,-415.5 255,-461.5 539,-461.5 539,-415.5 255,-415.5\" stroke=\"black\"/>\n<text font-family=\"Times,serif\" font-size=\"14.00\" text-anchor=\"middle\" x=\"338.5\" y=\"-434.8\">decoder_inputs: InputLayer</text>\n<polyline fill=\"none\" points=\"422,-415.5 422,-461.5 \" stroke=\"black\"/>\n<text font-family=\"Times,serif\" font-size=\"14.00\" text-anchor=\"middle\" x=\"449.5\" y=\"-446.3\">input:</text>\n<polyline fill=\"none\" points=\"422,-438.5 477,-438.5 \" stroke=\"black\"/>\n<text font-family=\"Times,serif\" font-size=\"14.00\" text-anchor=\"middle\" x=\"449.5\" y=\"-423.3\">output:</text>\n<polyline fill=\"none\" points=\"477,-415.5 477,-461.5 \" stroke=\"black\"/>\n<text font-family=\"Times,serif\" font-size=\"14.00\" text-anchor=\"middle\" x=\"508\" y=\"-446.3\">[(?, 18)]</text>\n<polyline fill=\"none\" points=\"477,-438.5 539,-438.5 \" stroke=\"black\"/>\n<text font-family=\"Times,serif\" font-size=\"14.00\" text-anchor=\"middle\" x=\"508\" y=\"-423.3\">[(?, 18)]</text>\n</g>\n<!-- 5544600336 -->\n<g class=\"node\" id=\"node2\">\n<title>5544600336</title>\n<polygon fill=\"none\" points=\"214,-332.5 214,-378.5 580,-378.5 580,-332.5 214,-332.5\" stroke=\"black\"/>\n<text font-family=\"Times,serif\" font-size=\"14.00\" text-anchor=\"middle\" x=\"329.5\" y=\"-351.8\">decoder_embedding_layer: Embedding</text>\n<polyline fill=\"none\" points=\"445,-332.5 445,-378.5 \" stroke=\"black\"/>\n<text font-family=\"Times,serif\" font-size=\"14.00\" text-anchor=\"middle\" x=\"472.5\" y=\"-363.3\">input:</text>\n<polyline fill=\"none\" points=\"445,-355.5 500,-355.5 \" stroke=\"black\"/>\n<text font-family=\"Times,serif\" font-size=\"14.00\" text-anchor=\"middle\" x=\"472.5\" y=\"-340.3\">output:</text>\n<polyline fill=\"none\" points=\"500,-332.5 500,-378.5 \" stroke=\"black\"/>\n<text font-family=\"Times,serif\" font-size=\"14.00\" text-anchor=\"middle\" x=\"540\" y=\"-363.3\">(?, 18)</text>\n<polyline fill=\"none\" points=\"500,-355.5 580,-355.5 \" stroke=\"black\"/>\n<text font-family=\"Times,serif\" font-size=\"14.00\" text-anchor=\"middle\" x=\"540\" y=\"-340.3\">(?, 18, 256)</text>\n</g>\n<!-- 5512447248&#45;&gt;5544600336 -->\n<g class=\"edge\" id=\"edge1\">\n<title>5512447248-&gt;5544600336</title>\n<path d=\"M397,-415.37C397,-407.15 397,-397.66 397,-388.73\" fill=\"none\" stroke=\"black\"/>\n<polygon fill=\"black\" points=\"400.5,-388.61 397,-378.61 393.5,-388.61 400.5,-388.61\" stroke=\"black\"/>\n</g>\n<!-- 5469839056 -->\n<g class=\"node\" id=\"node4\">\n<title>5469839056</title>\n<polygon fill=\"none\" points=\"418,-249.5 418,-295.5 738,-295.5 738,-249.5 418,-249.5\" stroke=\"black\"/>\n<text font-family=\"Times,serif\" font-size=\"14.00\" text-anchor=\"middle\" x=\"480.5\" y=\"-268.8\">decode_layer: GRU</text>\n<polyline fill=\"none\" points=\"543,-249.5 543,-295.5 \" stroke=\"black\"/>\n<text font-family=\"Times,serif\" font-size=\"14.00\" text-anchor=\"middle\" x=\"570.5\" y=\"-280.3\">input:</text>\n<polyline fill=\"none\" points=\"543,-272.5 598,-272.5 \" stroke=\"black\"/>\n<text font-family=\"Times,serif\" font-size=\"14.00\" text-anchor=\"middle\" x=\"570.5\" y=\"-257.3\">output:</text>\n<polyline fill=\"none\" points=\"598,-249.5 598,-295.5 \" stroke=\"black\"/>\n<text font-family=\"Times,serif\" font-size=\"14.00\" text-anchor=\"middle\" x=\"668\" y=\"-280.3\">[(?, 18, 256), (?, 128)]</text>\n<polyline fill=\"none\" points=\"598,-272.5 738,-272.5 \" stroke=\"black\"/>\n<text font-family=\"Times,serif\" font-size=\"14.00\" text-anchor=\"middle\" x=\"668\" y=\"-257.3\">(?, 18, 128)</text>\n</g>\n<!-- 5544600336&#45;&gt;5469839056 -->\n<g class=\"edge\" id=\"edge2\">\n<title>5544600336-&gt;5469839056</title>\n<path d=\"M446.46,-332.37C469.01,-322.28 495.86,-310.26 519.41,-299.72\" fill=\"none\" stroke=\"black\"/>\n<polygon fill=\"black\" points=\"520.9,-302.89 528.6,-295.61 518.04,-296.5 520.9,-302.89\" stroke=\"black\"/>\n</g>\n<!-- 5570230992 -->\n<g class=\"node\" id=\"node3\">\n<title>5570230992</title>\n<polygon fill=\"none\" points=\"598.5,-332.5 598.5,-378.5 919.5,-378.5 919.5,-332.5 598.5,-332.5\" stroke=\"black\"/>\n<text font-family=\"Times,serif\" font-size=\"14.00\" text-anchor=\"middle\" x=\"697.5\" y=\"-351.8\">decoder_states_input: InputLayer</text>\n<polyline fill=\"none\" points=\"796.5,-332.5 796.5,-378.5 \" stroke=\"black\"/>\n<text font-family=\"Times,serif\" font-size=\"14.00\" text-anchor=\"middle\" x=\"824\" y=\"-363.3\">input:</text>\n<polyline fill=\"none\" points=\"796.5,-355.5 851.5,-355.5 \" stroke=\"black\"/>\n<text font-family=\"Times,serif\" font-size=\"14.00\" text-anchor=\"middle\" x=\"824\" y=\"-340.3\">output:</text>\n<polyline fill=\"none\" points=\"851.5,-332.5 851.5,-378.5 \" stroke=\"black\"/>\n<text font-family=\"Times,serif\" font-size=\"14.00\" text-anchor=\"middle\" x=\"885.5\" y=\"-363.3\">[(?, 128)]</text>\n<polyline fill=\"none\" points=\"851.5,-355.5 919.5,-355.5 \" stroke=\"black\"/>\n<text font-family=\"Times,serif\" font-size=\"14.00\" text-anchor=\"middle\" x=\"885.5\" y=\"-340.3\">[(?, 128)]</text>\n</g>\n<!-- 5570230992&#45;&gt;5469839056 -->\n<g class=\"edge\" id=\"edge3\">\n<title>5570230992-&gt;5469839056</title>\n<path d=\"M709.54,-332.37C686.99,-322.28 660.14,-310.26 636.59,-299.72\" fill=\"none\" stroke=\"black\"/>\n<polygon fill=\"black\" points=\"637.96,-296.5 627.4,-295.61 635.1,-302.89 637.96,-296.5\" stroke=\"black\"/>\n</g>\n<!-- 5558431568 -->\n<g class=\"node\" id=\"node6\">\n<title>5558431568</title>\n<polygon fill=\"none\" points=\"166,-166.5 166,-212.5 550,-212.5 550,-166.5 166,-166.5\" stroke=\"black\"/>\n<text font-family=\"Times,serif\" font-size=\"14.00\" text-anchor=\"middle\" x=\"243.5\" y=\"-185.8\">attention_layer: Attention</text>\n<polyline fill=\"none\" points=\"321,-166.5 321,-212.5 \" stroke=\"black\"/>\n<text font-family=\"Times,serif\" font-size=\"14.00\" text-anchor=\"middle\" x=\"348.5\" y=\"-197.3\">input:</text>\n<polyline fill=\"none\" points=\"321,-189.5 376,-189.5 \" stroke=\"black\"/>\n<text font-family=\"Times,serif\" font-size=\"14.00\" text-anchor=\"middle\" x=\"348.5\" y=\"-174.3\">output:</text>\n<polyline fill=\"none\" points=\"376,-166.5 376,-212.5 \" stroke=\"black\"/>\n<text font-family=\"Times,serif\" font-size=\"14.00\" text-anchor=\"middle\" x=\"463\" y=\"-197.3\">[(?, 18, 128), (?, 2002, 128)]</text>\n<polyline fill=\"none\" points=\"376,-189.5 550,-189.5 \" stroke=\"black\"/>\n<text font-family=\"Times,serif\" font-size=\"14.00\" text-anchor=\"middle\" x=\"463\" y=\"-174.3\">(?, 18, 128)</text>\n</g>\n<!-- 5469839056&#45;&gt;5558431568 -->\n<g class=\"edge\" id=\"edge4\">\n<title>5469839056-&gt;5558431568</title>\n<path d=\"M518.17,-249.47C490.17,-239.16 456.64,-226.82 427.51,-216.09\" fill=\"none\" stroke=\"black\"/>\n<polygon fill=\"black\" points=\"428.41,-212.69 417.81,-212.52 425.99,-219.26 428.41,-212.69\" stroke=\"black\"/>\n</g>\n<!-- 5560005776 -->\n<g class=\"node\" id=\"node7\">\n<title>5560005776</title>\n<polygon fill=\"none\" points=\"236,-83.5 236,-129.5 700,-129.5 700,-83.5 236,-83.5\" stroke=\"black\"/>\n<text font-family=\"Times,serif\" font-size=\"14.00\" text-anchor=\"middle\" x=\"360\" y=\"-102.8\">decoder_concatenate_predict: Concatenate</text>\n<polyline fill=\"none\" points=\"484,-83.5 484,-129.5 \" stroke=\"black\"/>\n<text font-family=\"Times,serif\" font-size=\"14.00\" text-anchor=\"middle\" x=\"511.5\" y=\"-114.3\">input:</text>\n<polyline fill=\"none\" points=\"484,-106.5 539,-106.5 \" stroke=\"black\"/>\n<text font-family=\"Times,serif\" font-size=\"14.00\" text-anchor=\"middle\" x=\"511.5\" y=\"-91.3\">output:</text>\n<polyline fill=\"none\" points=\"539,-83.5 539,-129.5 \" stroke=\"black\"/>\n<text font-family=\"Times,serif\" font-size=\"14.00\" text-anchor=\"middle\" x=\"619.5\" y=\"-114.3\">[(?, 18, 128), (?, 18, 128)]</text>\n<polyline fill=\"none\" points=\"539,-106.5 700,-106.5 \" stroke=\"black\"/>\n<text font-family=\"Times,serif\" font-size=\"14.00\" text-anchor=\"middle\" x=\"619.5\" y=\"-91.3\">(?, 18, 256)</text>\n</g>\n<!-- 5469839056&#45;&gt;5560005776 -->\n<g class=\"edge\" id=\"edge6\">\n<title>5469839056-&gt;5560005776</title>\n<path d=\"M578.97,-249.41C578.91,-226.66 575.74,-191.07 559,-166 550.78,-153.69 539,-143.42 526.62,-135.09\" fill=\"none\" stroke=\"black\"/>\n<polygon fill=\"black\" points=\"528.32,-132.02 518,-129.64 524.58,-137.94 528.32,-132.02\" stroke=\"black\"/>\n</g>\n<!-- 5570258512 -->\n<g class=\"node\" id=\"node5\">\n<title>5570258512</title>\n<polygon fill=\"none\" points=\"0,-249.5 0,-295.5 400,-295.5 400,-249.5 0,-249.5\" stroke=\"black\"/>\n<text font-family=\"Times,serif\" font-size=\"14.00\" text-anchor=\"middle\" x=\"121\" y=\"-268.8\">decoder_hidden_states_input: InputLayer</text>\n<polyline fill=\"none\" points=\"242,-249.5 242,-295.5 \" stroke=\"black\"/>\n<text font-family=\"Times,serif\" font-size=\"14.00\" text-anchor=\"middle\" x=\"269.5\" y=\"-280.3\">input:</text>\n<polyline fill=\"none\" points=\"242,-272.5 297,-272.5 \" stroke=\"black\"/>\n<text font-family=\"Times,serif\" font-size=\"14.00\" text-anchor=\"middle\" x=\"269.5\" y=\"-257.3\">output:</text>\n<polyline fill=\"none\" points=\"297,-249.5 297,-295.5 \" stroke=\"black\"/>\n<text font-family=\"Times,serif\" font-size=\"14.00\" text-anchor=\"middle\" x=\"348.5\" y=\"-280.3\">[(?, 2002, 128)]</text>\n<polyline fill=\"none\" points=\"297,-272.5 400,-272.5 \" stroke=\"black\"/>\n<text font-family=\"Times,serif\" font-size=\"14.00\" text-anchor=\"middle\" x=\"348.5\" y=\"-257.3\">[(?, 2002, 128)]</text>\n</g>\n<!-- 5570258512&#45;&gt;5558431568 -->\n<g class=\"edge\" id=\"edge5\">\n<title>5570258512-&gt;5558431568</title>\n<path d=\"M243.17,-249.37C262.51,-239.46 285.47,-227.68 305.76,-217.28\" fill=\"none\" stroke=\"black\"/>\n<polygon fill=\"black\" points=\"307.58,-220.28 314.88,-212.61 304.38,-214.05 307.58,-220.28\" stroke=\"black\"/>\n</g>\n<!-- 5558431568&#45;&gt;5560005776 -->\n<g class=\"edge\" id=\"edge7\">\n<title>5558431568-&gt;5560005776</title>\n<path d=\"M388.06,-166.37C400.91,-156.9 416.07,-145.74 429.71,-135.69\" fill=\"none\" stroke=\"black\"/>\n<polygon fill=\"black\" points=\"432,-138.35 437.98,-129.61 427.85,-132.72 432,-138.35\" stroke=\"black\"/>\n</g>\n<!-- 5558423504 -->\n<g class=\"node\" id=\"node8\">\n<title>5558423504</title>\n<polygon fill=\"none\" points=\"337.5,-0.5 337.5,-46.5 598.5,-46.5 598.5,-0.5 337.5,-0.5\" stroke=\"black\"/>\n<text font-family=\"Times,serif\" font-size=\"14.00\" text-anchor=\"middle\" x=\"400.5\" y=\"-19.8\">output_layer: Dense</text>\n<polyline fill=\"none\" points=\"463.5,-0.5 463.5,-46.5 \" stroke=\"black\"/>\n<text font-family=\"Times,serif\" font-size=\"14.00\" text-anchor=\"middle\" x=\"491\" y=\"-31.3\">input:</text>\n<polyline fill=\"none\" points=\"463.5,-23.5 518.5,-23.5 \" stroke=\"black\"/>\n<text font-family=\"Times,serif\" font-size=\"14.00\" text-anchor=\"middle\" x=\"491\" y=\"-8.3\">output:</text>\n<polyline fill=\"none\" points=\"518.5,-0.5 518.5,-46.5 \" stroke=\"black\"/>\n<text font-family=\"Times,serif\" font-size=\"14.00\" text-anchor=\"middle\" x=\"558.5\" y=\"-31.3\">(?, 18, 256)</text>\n<polyline fill=\"none\" points=\"518.5,-23.5 598.5,-23.5 \" stroke=\"black\"/>\n<text font-family=\"Times,serif\" font-size=\"14.00\" text-anchor=\"middle\" x=\"558.5\" y=\"-8.3\">(?, 18, 974)</text>\n</g>\n<!-- 5560005776&#45;&gt;5558423504 -->\n<g class=\"edge\" id=\"edge8\">\n<title>5560005776-&gt;5558423504</title>\n<path d=\"M468,-83.37C468,-75.15 468,-65.66 468,-56.73\" fill=\"none\" stroke=\"black\"/>\n<polygon fill=\"black\" points=\"471.5,-56.61 468,-46.61 464.5,-56.61 471.5,-56.61\" stroke=\"black\"/>\n</g>\n</g>\n</svg>"
     },
     "execution_count": 81,
     "metadata": {},
     "output_type": "execute_result"
    }
   ],
   "source": [
    "# Decoder\n",
    "decoder_states_input = Input(\n",
    "    shape=(hidden_size,),\n",
    "    name='decoder_states_input'\n",
    ")\n",
    "\n",
    "decoder_embedding_predict = decoder_embedding_layer(decoder_inputs)\n",
    "decoder_outputs_predict = decoder_layer(\n",
    "    decoder_embedding_predict,\n",
    "    initial_state=decoder_states_input\n",
    ")\n",
    "\n",
    "# Attention\n",
    "decoder_hidden_states_input = Input(\n",
    "    shape=(max_body_morphemes, hidden_size), \n",
    "    name='decoder_hidden_states_input'\n",
    ")\n",
    "attention_outputs_predict = attention_layer(\n",
    "    [decoder_outputs_predict, decoder_hidden_states_input]\n",
    ")\n",
    "decoder_concat_predict = Concatenate(axis=-1, name='decoder_concatenate_predict')(\n",
    "    [decoder_outputs_predict, attention_outputs_predict]\n",
    ")\n",
    "\n",
    "# Output Layer\n",
    "outputs_predict = output_layer(decoder_concat_predict)\n",
    "\n",
    "# Define Decoder Model\n",
    "decoder_model = Model(\n",
    "    [decoder_inputs, decoder_hidden_states_input, decoder_states_input],\n",
    "    outputs_predict,\n",
    "    name='decoder_model'\n",
    ")\n",
    "\n",
    "# You need to install graphviz! (sudo apt install graphviz or brew install graphviz)\n",
    "SVG(model_to_dot(decoder_model, show_shapes=True, dpi=65).create(prog='dot', format='svg'))"
   ]
  },
  {
   "cell_type": "code",
   "execution_count": 85,
   "metadata": {
    "collapsed": false,
    "pycharm": {
     "name": "#%% predict\n"
    },
    "tags": []
   },
   "outputs": [
    {
     "name": "stdout",
     "output_type": "stream",
     "text": [
      "0   answer: \t제주항공 \"열흘내에 선행조건 다 해결해라\"…사실상 파기수순\n",
      "    predict: \t\n",
      "             \t[0, 0, 0, 0, 0, 0, 0, 0, 0, 0, 0, 0, 0, 0, 0, 0, 0, 0]\n",
      "1   answer: \t이 앱 열면…한국 10대들 개인정보 중국으로 줄줄 샌다\n",
      "    predict: \t\n",
      "             \t[0, 0, 0, 0, 0, 0, 0, 0, 0, 0, 0, 0, 0, 0, 0, 0, 0, 0]\n",
      "2   answer: \t“예수가 레즈비언?” 마이클 잭슨 딸 출연 영화 신성모독 논란\n",
      "    predict: \t\n",
      "             \t[0, 0, 0, 0, 0, 0, 0, 0, 0, 0, 0, 0, 0, 0, 0, 0, 0, 0]\n"
     ]
    }
   ],
   "source": [
    "from typing import Tuple, Union\n",
    "\n",
    "def encoding(text: str) -> np.ndarray:\n",
    "    separated = k.get_morphes_by_tags(text)\n",
    "    tokenized = tokenizer.texts_to_sequences([separated])[0]\n",
    "    sequence = np.array([padding(tokenized, max_body_morphemes)])\n",
    "    return sequence\n",
    "\n",
    "def predict(body: str) -> Tuple[str, List[Union[int, str]]]:\n",
    "    input_seq = encoding(body)\n",
    "    e_out, e_h = encoder_model.predict(input_seq)\n",
    "\n",
    "    target_seq = np.zeros((1, max_title_morphemes - 1))\n",
    "    target_seq[0, 0] = tokenizer.word_index[SOT]\n",
    "\n",
    "    decoded_sentence = ''\n",
    "    decoded_list: List[Union[int, str]] = []\n",
    "    len_sentence = 0\n",
    "    while True:\n",
    "        output_tokens = decoder_model.predict(\n",
    "            [target_seq, e_out, e_h]\n",
    "        )\n",
    "\n",
    "        sampled_token_index = np.argmax(output_tokens[0, len_sentence, :])\n",
    "        sampled_token = tokenizer.index_word[sampled_token_index]\n",
    "\n",
    "        if sampled_token == EOT:\n",
    "            break\n",
    "        else:\n",
    "            if sampled_token != PAD:\n",
    "                decoded_sentence += ' ' + sampled_token\n",
    "            decoded_list.append(sampled_token)\n",
    "            len_sentence += 1\n",
    "\n",
    "        if len_sentence >= max_title_morphemes - 1:\n",
    "            break\n",
    "\n",
    "        target_seq[0, len_sentence] = sampled_token_index\n",
    "\n",
    "    return decoded_sentence, decoded_list\n",
    "\n",
    "result = [predict(body) for body in articles['body']]\n",
    "for i, (title, arr) in enumerate(result):\n",
    "    print('%-3d answer: \\t' % i + articles['title'][i][4:-4])\n",
    "    print('    predict: \\t' + title)\n",
    "    print('             \\t' + str(arr))\n"
   ]
  }
 ],
 "metadata": {
  "kernelspec": {
   "display_name": "Python 3",
   "language": "python",
   "name": "python3"
  },
  "language_info": {
   "codemirror_mode": {
    "name": "ipython",
    "version": 2
   },
   "file_extension": ".py",
   "mimetype": "text/x-python",
   "name": "python",
   "nbconvert_exporter": "python",
   "pygments_lexer": "ipython2",
   "version": "3.7.7-final"
  }
 },
 "nbformat": 4,
 "nbformat_minor": 0
}