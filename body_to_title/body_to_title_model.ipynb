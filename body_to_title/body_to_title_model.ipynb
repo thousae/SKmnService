{
 "cells": [
  {
   "cell_type": "code",
   "execution_count": 2,
   "metadata": {},
   "outputs": [
    {
     "output_type": "execute_result",
     "data": {
      "text/plain": "'\\nRequired Packages: [\\n    \"numpy(1.18.1)\",\\n    \"tensorflow(2.1.0)\",\\n    \"pandas(1.0.3)\",\\n    \"scikit-learn(0.22.2)\",\\n    \"PyKomoran(0.1.5)\",\\n    \"matplotlib(3.1.3)\",\\n    \"graphviz(0.14)\",\\n    \"pydot(1.4.1)\"\\n]\\n'"
     },
     "metadata": {},
     "execution_count": 2
    }
   ],
   "source": [
    "\"\"\"\n",
    "Required Packages: [\n",
    "    \"numpy(1.18.1)\",\n",
    "    \"tensorflow(2.1.0)\",\n",
    "    \"pandas(1.0.3)\",\n",
    "    \"scikit-learn(0.22.2)\",\n",
    "    \"PyKomoran(0.1.5)\",\n",
    "    \"matplotlib(3.1.3)\",\n",
    "    \"graphviz(0.14)\",\n",
    "    \"pydot(1.4.1)\"\n",
    "]\n",
    "\"\"\""
   ]
  },
  {
   "cell_type": "code",
   "execution_count": 3,
   "outputs": [
    {
     "output_type": "stream",
     "name": "stdout",
     "text": "title  \\\n0    제주항공 \"열흘내에 선행조건 다 해결해라\"…사실상 파기수순   \n1      이 앱 열면…한국 10대들 개인정보 중국으로 줄줄 샌다   \n2  “예수가 레즈비언?” 마이클 잭슨 딸 출연 영화 신성모독 논란   \n\n                                                body  \n0  제주항공이 이스타항공 측에 \"10일 이내에 선결 조건을 모두 이행하지 않으면 계약을...  \n1  지난해 5월 미국 코네티컷주 한 마을에 거주하고 있는 14살 소녀 찰리 다멜리오는 ...  \n2  마이클 잭슨의 딸 패리스 잭슨(22)이 ‘예수 그리스도’로 출연한 영화가 ‘신성 모...  \n"
    }
   ],
   "source": [
    "import pandas as pd\n",
    "\n",
    "articles = pd.read_csv('articles.tsv', sep='\\t')\n",
    "print(articles)"
   ],
   "metadata": {
    "collapsed": false,
    "pycharm": {
     "name": "#%% import dataset\n"
    },
    "tags": []
   }
  },
  {
   "cell_type": "code",
   "execution_count": 4,
   "outputs": [
    {
     "output_type": "stream",
     "name": "stdout",
     "text": "title  \\\n0    SOT 제주항공 \"열흘내에 선행조건 다 해결해라\"…사실상 파기수순 EOT   \n1      SOT 이 앱 열면…한국 10대들 개인정보 중국으로 줄줄 샌다 EOT   \n2  SOT “예수가 레즈비언?” 마이클 잭슨 딸 출연 영화 신성모독 논란 EOT   \n\n                                                body  \n0  SOT 제주항공이 이스타항공 측에 \"10일 이내에 선결 조건을 모두 이행하지 않으면...  \n1  SOT 지난해 5월 미국 코네티컷주 한 마을에 거주하고 있는 14살 소녀 찰리 다멜...  \n2  SOT 마이클 잭슨의 딸 패리스 잭슨(22)이 ‘예수 그리스도’로 출연한 영화가 ‘...  \n"
    }
   ],
   "source": [
    "def pre_processing(text: str) -> str:\n",
    "    return \"SOT \" + text + \" EOT\"\n",
    "\n",
    "articles['title'] = articles['title'].apply(pre_processing)\n",
    "articles['body'] = articles['body'].apply(pre_processing)\n",
    "print(articles)"
   ],
   "metadata": {
    "collapsed": false,
    "pycharm": {
     "name": "#%% preprocessing\n"
    },
    "tags": []
   }
  },
  {
   "cell_type": "code",
   "execution_count": 5,
   "outputs": [
    {
     "output_type": "stream",
     "name": "stdout",
     "text": "['SOT', '제주항공', '\"', '열흘', '내', '에', '선행', '조건', '다', '해결', '하', '아라', '\"', '…', '사실', '상', '파기', '수순', 'EOT']\n['SOT', '제주항공', '이', '이스타항공', '측', '에', '\"', '10', '일', '이내', '에', '선결', '조건', '을', '모두', '이행', '하', '지', '않', '으면']\n"
    }
   ],
   "source": [
    "from PyKomoran import Komoran\n",
    "k = Komoran('EXP')\n",
    "\n",
    "titles = [k.get_morphes_by_tags(title) for title in articles['title']]\n",
    "print(titles[0][:20])\n",
    "\n",
    "bodies = [k.get_morphes_by_tags(body) for body in articles['body']]\n",
    "print(bodies[0][:20])"
   ],
   "metadata": {
    "collapsed": false,
    "pycharm": {
     "name": "#%% seperate sentences to morphemes\n"
    },
    "tags": []
   }
  },
  {
   "cell_type": "code",
   "execution_count": 6,
   "outputs": [
    {
     "output_type": "stream",
     "name": "stdout",
     "text": "19\n2002\n3\n"
    }
   ],
   "source": [
    "max_title_morphemes = max([len(title) for title in titles])\n",
    "print(max_title_morphemes)\n",
    "\n",
    "max_body_morphemes = max([len(body) for body in bodies])\n",
    "print(max_body_morphemes)\n",
    "\n",
    "data_size = len(titles)\n",
    "print(data_size)"
   ],
   "metadata": {
    "collapsed": false,
    "pycharm": {
     "name": "#%% get features\n"
    },
    "tags": []
   }
  },
  {
   "cell_type": "code",
   "execution_count": 7,
   "outputs": [
    {
     "output_type": "stream",
     "name": "stdout",
     "text": "['SOT', '제주항공', '\"', '열흘', '내', '에', '선행', '조건', '다', '해결', '하', '아라', '\"', '…', '사실', '상', '파기', '수순', 'EOT']\n['SOT', '제주항공', '이', '이스타항공', '측', '에', '\"', '10', '일', '이내', '에', '선결', '조건', '을', '모두', '이행', '하', '지', '않', '으면']\n"
    }
   ],
   "source": [
    "from typing import List\n",
    "\n",
    "def padding(lst: List[str], max_len: int) -> List[str]:\n",
    "    return lst + ['EOT'] * (max_len - len(lst))\n",
    "\n",
    "titles = [padding(title, max_title_morphemes) for title in titles]\n",
    "print(titles[0][:20])\n",
    "\n",
    "bodies = [padding(body, max_body_morphemes) for body in bodies]\n",
    "print(bodies[0][:20])"
   ],
   "metadata": {
    "collapsed": false,
    "pycharm": {
     "name": "#%% padding\n"
    },
    "tags": []
   }
  },
  {
   "cell_type": "code",
   "execution_count": 8,
   "outputs": [
    {
     "output_type": "stream",
     "name": "stdout",
     "text": "974\n[[ 70  50  34 142  83   9 339  84   5  85   2 340  34 194 104  86 195 196\n    1]\n [ 70   3 105 341  87 194 197 198  40 342  48  17 343 344  41   1   1   1\n    1]\n [ 70  88  43  14 106 199 107 143 144  71  37 345  56   1   1   1   1   1\n    1]]\n[[ 70  50   3 ...   1   1   1]\n [ 70  75 119 ...   5   4   1]\n [ 70 143  10 ...   1   1   1]]\n"
    }
   ],
   "source": [
    "from tensorflow.keras.preprocessing.text import Tokenizer\n",
    "import numpy as np\n",
    "\n",
    "tokenizer = Tokenizer(filters='')\n",
    "tokenizer.fit_on_texts(titles)\n",
    "tokenizer.fit_on_texts(bodies)\n",
    "\n",
    "num_of_morphemes = len(tokenizer.word_counts) + 1\n",
    "print(num_of_morphemes)\n",
    "\n",
    "title_sequence = np.array(tokenizer.texts_to_sequences(titles))\n",
    "print(title_sequence)\n",
    "\n",
    "body_sequence = np.array(tokenizer.texts_to_sequences(bodies))\n",
    "print(body_sequence)"
   ],
   "metadata": {
    "collapsed": false,
    "pycharm": {
     "name": "#%% tokenize\n"
    },
    "tags": []
   }
  },
  {
   "cell_type": "code",
   "execution_count": 15,
   "outputs": [
    {
     "output_type": "execute_result",
     "data": {
      "text/plain": "<IPython.core.display.SVG object>",
      "image/svg+xml": "<svg height=\"737pt\" viewBox=\"0.00 0.00 750.50 553.00\" width=\"1001pt\" xmlns=\"http://www.w3.org/2000/svg\" xmlns:xlink=\"http://www.w3.org/1999/xlink\">\n<g class=\"graph\" id=\"graph0\" transform=\"scale(1.33 1.33) rotate(0) translate(4 549)\">\n<title>G</title>\n<polygon fill=\"white\" points=\"-4,4 -4,-549 746.5,-549 746.5,4 -4,4\" stroke=\"transparent\"/>\n<!-- 5494544720 -->\n<g class=\"node\" id=\"node1\">\n<title>5494544720</title>\n<polygon fill=\"none\" points=\"41.5,-498.5 41.5,-544.5 338.5,-544.5 338.5,-498.5 41.5,-498.5\" stroke=\"black\"/>\n<text font-family=\"Times,serif\" font-size=\"14.00\" text-anchor=\"middle\" x=\"125\" y=\"-517.8\">encoder_inputs: InputLayer</text>\n<polyline fill=\"none\" points=\"208.5,-498.5 208.5,-544.5 \" stroke=\"black\"/>\n<text font-family=\"Times,serif\" font-size=\"14.00\" text-anchor=\"middle\" x=\"236\" y=\"-529.3\">input:</text>\n<polyline fill=\"none\" points=\"208.5,-521.5 263.5,-521.5 \" stroke=\"black\"/>\n<text font-family=\"Times,serif\" font-size=\"14.00\" text-anchor=\"middle\" x=\"236\" y=\"-506.3\">output:</text>\n<polyline fill=\"none\" points=\"263.5,-498.5 263.5,-544.5 \" stroke=\"black\"/>\n<text font-family=\"Times,serif\" font-size=\"14.00\" text-anchor=\"middle\" x=\"301\" y=\"-529.3\">[(?, 2002)]</text>\n<polyline fill=\"none\" points=\"263.5,-521.5 338.5,-521.5 \" stroke=\"black\"/>\n<text font-family=\"Times,serif\" font-size=\"14.00\" text-anchor=\"middle\" x=\"301\" y=\"-506.3\">[(?, 2002)]</text>\n</g>\n<!-- 5509028368 -->\n<g class=\"node\" id=\"node3\">\n<title>5509028368</title>\n<polygon fill=\"none\" points=\"0,-415.5 0,-461.5 380,-461.5 380,-415.5 0,-415.5\" stroke=\"black\"/>\n<text font-family=\"Times,serif\" font-size=\"14.00\" text-anchor=\"middle\" x=\"115.5\" y=\"-434.8\">encoder_embedding_layer: Embedding</text>\n<polyline fill=\"none\" points=\"231,-415.5 231,-461.5 \" stroke=\"black\"/>\n<text font-family=\"Times,serif\" font-size=\"14.00\" text-anchor=\"middle\" x=\"258.5\" y=\"-446.3\">input:</text>\n<polyline fill=\"none\" points=\"231,-438.5 286,-438.5 \" stroke=\"black\"/>\n<text font-family=\"Times,serif\" font-size=\"14.00\" text-anchor=\"middle\" x=\"258.5\" y=\"-423.3\">output:</text>\n<polyline fill=\"none\" points=\"286,-415.5 286,-461.5 \" stroke=\"black\"/>\n<text font-family=\"Times,serif\" font-size=\"14.00\" text-anchor=\"middle\" x=\"333\" y=\"-446.3\">(?, 2002)</text>\n<polyline fill=\"none\" points=\"286,-438.5 380,-438.5 \" stroke=\"black\"/>\n<text font-family=\"Times,serif\" font-size=\"14.00\" text-anchor=\"middle\" x=\"333\" y=\"-423.3\">(?, 2002, 256)</text>\n</g>\n<!-- 5494544720&#45;&gt;5509028368 -->\n<g class=\"edge\" id=\"edge1\">\n<title>5494544720-&gt;5509028368</title>\n<path d=\"M190,-498.37C190,-490.15 190,-480.66 190,-471.73\" fill=\"none\" stroke=\"black\"/>\n<polygon fill=\"black\" points=\"193.5,-471.61 190,-461.61 186.5,-471.61 193.5,-471.61\" stroke=\"black\"/>\n</g>\n<!-- 5494545872 -->\n<g class=\"node\" id=\"node2\">\n<title>5494545872</title>\n<polygon fill=\"none\" points=\"425,-415.5 425,-461.5 701,-461.5 701,-415.5 425,-415.5\" stroke=\"black\"/>\n<text font-family=\"Times,serif\" font-size=\"14.00\" text-anchor=\"middle\" x=\"508.5\" y=\"-434.8\">decoder_inputs: InputLayer</text>\n<polyline fill=\"none\" points=\"592,-415.5 592,-461.5 \" stroke=\"black\"/>\n<text font-family=\"Times,serif\" font-size=\"14.00\" text-anchor=\"middle\" x=\"619.5\" y=\"-446.3\">input:</text>\n<polyline fill=\"none\" points=\"592,-438.5 647,-438.5 \" stroke=\"black\"/>\n<text font-family=\"Times,serif\" font-size=\"14.00\" text-anchor=\"middle\" x=\"619.5\" y=\"-423.3\">output:</text>\n<polyline fill=\"none\" points=\"647,-415.5 647,-461.5 \" stroke=\"black\"/>\n<text font-family=\"Times,serif\" font-size=\"14.00\" text-anchor=\"middle\" x=\"674\" y=\"-446.3\">[(?, ?)]</text>\n<polyline fill=\"none\" points=\"647,-438.5 701,-438.5 \" stroke=\"black\"/>\n<text font-family=\"Times,serif\" font-size=\"14.00\" text-anchor=\"middle\" x=\"674\" y=\"-423.3\">[(?, ?)]</text>\n</g>\n<!-- 5494531344 -->\n<g class=\"node\" id=\"node4\">\n<title>5494531344</title>\n<polygon fill=\"none\" points=\"383.5,-332.5 383.5,-378.5 742.5,-378.5 742.5,-332.5 383.5,-332.5\" stroke=\"black\"/>\n<text font-family=\"Times,serif\" font-size=\"14.00\" text-anchor=\"middle\" x=\"499\" y=\"-351.8\">decoder_embedding_layer: Embedding</text>\n<polyline fill=\"none\" points=\"614.5,-332.5 614.5,-378.5 \" stroke=\"black\"/>\n<text font-family=\"Times,serif\" font-size=\"14.00\" text-anchor=\"middle\" x=\"642\" y=\"-363.3\">input:</text>\n<polyline fill=\"none\" points=\"614.5,-355.5 669.5,-355.5 \" stroke=\"black\"/>\n<text font-family=\"Times,serif\" font-size=\"14.00\" text-anchor=\"middle\" x=\"642\" y=\"-340.3\">output:</text>\n<polyline fill=\"none\" points=\"669.5,-332.5 669.5,-378.5 \" stroke=\"black\"/>\n<text font-family=\"Times,serif\" font-size=\"14.00\" text-anchor=\"middle\" x=\"706\" y=\"-363.3\">(?, ?)</text>\n<polyline fill=\"none\" points=\"669.5,-355.5 742.5,-355.5 \" stroke=\"black\"/>\n<text font-family=\"Times,serif\" font-size=\"14.00\" text-anchor=\"middle\" x=\"706\" y=\"-340.3\">(?, ?, 256)</text>\n</g>\n<!-- 5494545872&#45;&gt;5494531344 -->\n<g class=\"edge\" id=\"edge2\">\n<title>5494545872-&gt;5494531344</title>\n<path d=\"M563,-415.37C563,-407.15 563,-397.66 563,-388.73\" fill=\"none\" stroke=\"black\"/>\n<polygon fill=\"black\" points=\"566.5,-388.61 563,-378.61 559.5,-388.61 566.5,-388.61\" stroke=\"black\"/>\n</g>\n<!-- 5494543824 -->\n<g class=\"node\" id=\"node5\">\n<title>5494543824</title>\n<polygon fill=\"none\" points=\"14.5,-332.5 14.5,-378.5 365.5,-378.5 365.5,-332.5 14.5,-332.5\" stroke=\"black\"/>\n<text font-family=\"Times,serif\" font-size=\"14.00\" text-anchor=\"middle\" x=\"86\" y=\"-351.8\">encoder_layer_1: GRU</text>\n<polyline fill=\"none\" points=\"157.5,-332.5 157.5,-378.5 \" stroke=\"black\"/>\n<text font-family=\"Times,serif\" font-size=\"14.00\" text-anchor=\"middle\" x=\"185\" y=\"-363.3\">input:</text>\n<polyline fill=\"none\" points=\"157.5,-355.5 212.5,-355.5 \" stroke=\"black\"/>\n<text font-family=\"Times,serif\" font-size=\"14.00\" text-anchor=\"middle\" x=\"185\" y=\"-340.3\">output:</text>\n<polyline fill=\"none\" points=\"212.5,-332.5 212.5,-378.5 \" stroke=\"black\"/>\n<text font-family=\"Times,serif\" font-size=\"14.00\" text-anchor=\"middle\" x=\"289\" y=\"-363.3\">(?, 2002, 256)</text>\n<polyline fill=\"none\" points=\"212.5,-355.5 365.5,-355.5 \" stroke=\"black\"/>\n<text font-family=\"Times,serif\" font-size=\"14.00\" text-anchor=\"middle\" x=\"289\" y=\"-340.3\">[(?, 2002, 128), (?, 128)]</text>\n</g>\n<!-- 5509028368&#45;&gt;5494543824 -->\n<g class=\"edge\" id=\"edge3\">\n<title>5509028368-&gt;5494543824</title>\n<path d=\"M190,-415.37C190,-407.15 190,-397.66 190,-388.73\" fill=\"none\" stroke=\"black\"/>\n<polygon fill=\"black\" points=\"193.5,-388.61 190,-378.61 186.5,-388.61 193.5,-388.61\" stroke=\"black\"/>\n</g>\n<!-- 5494506448 -->\n<g class=\"node\" id=\"node6\">\n<title>5494506448</title>\n<polygon fill=\"none\" points=\"234,-249.5 234,-295.5 546,-295.5 546,-249.5 234,-249.5\" stroke=\"black\"/>\n<text font-family=\"Times,serif\" font-size=\"14.00\" text-anchor=\"middle\" x=\"296.5\" y=\"-268.8\">decode_layer: GRU</text>\n<polyline fill=\"none\" points=\"359,-249.5 359,-295.5 \" stroke=\"black\"/>\n<text font-family=\"Times,serif\" font-size=\"14.00\" text-anchor=\"middle\" x=\"386.5\" y=\"-280.3\">input:</text>\n<polyline fill=\"none\" points=\"359,-272.5 414,-272.5 \" stroke=\"black\"/>\n<text font-family=\"Times,serif\" font-size=\"14.00\" text-anchor=\"middle\" x=\"386.5\" y=\"-257.3\">output:</text>\n<polyline fill=\"none\" points=\"414,-249.5 414,-295.5 \" stroke=\"black\"/>\n<text font-family=\"Times,serif\" font-size=\"14.00\" text-anchor=\"middle\" x=\"480\" y=\"-280.3\">[(?, ?, 256), (?, 128)]</text>\n<polyline fill=\"none\" points=\"414,-272.5 546,-272.5 \" stroke=\"black\"/>\n<text font-family=\"Times,serif\" font-size=\"14.00\" text-anchor=\"middle\" x=\"480\" y=\"-257.3\">[(?, ?, 128), (?, 128)]</text>\n</g>\n<!-- 5494531344&#45;&gt;5494506448 -->\n<g class=\"edge\" id=\"edge4\">\n<title>5494531344-&gt;5494506448</title>\n<path d=\"M515.73,-332.37C494.27,-322.32 468.73,-310.36 446.29,-299.86\" fill=\"none\" stroke=\"black\"/>\n<polygon fill=\"black\" points=\"447.76,-296.68 437.22,-295.61 444.79,-303.02 447.76,-296.68\" stroke=\"black\"/>\n</g>\n<!-- 5494543824&#45;&gt;5494506448 -->\n<g class=\"edge\" id=\"edge5\">\n<title>5494543824-&gt;5494506448</title>\n<path d=\"M244.39,-332.47C269.63,-322.25 299.8,-310.03 326.12,-299.37\" fill=\"none\" stroke=\"black\"/>\n<polygon fill=\"black\" points=\"327.67,-302.52 335.62,-295.52 325.04,-296.03 327.67,-302.52\" stroke=\"black\"/>\n</g>\n<!-- 5513560016 -->\n<g class=\"node\" id=\"node7\">\n<title>5513560016</title>\n<polygon fill=\"none\" points=\"1.5,-166.5 1.5,-212.5 378.5,-212.5 378.5,-166.5 1.5,-166.5\" stroke=\"black\"/>\n<text font-family=\"Times,serif\" font-size=\"14.00\" text-anchor=\"middle\" x=\"79\" y=\"-185.8\">attention_layer: Attention</text>\n<polyline fill=\"none\" points=\"156.5,-166.5 156.5,-212.5 \" stroke=\"black\"/>\n<text font-family=\"Times,serif\" font-size=\"14.00\" text-anchor=\"middle\" x=\"184\" y=\"-197.3\">input:</text>\n<polyline fill=\"none\" points=\"156.5,-189.5 211.5,-189.5 \" stroke=\"black\"/>\n<text font-family=\"Times,serif\" font-size=\"14.00\" text-anchor=\"middle\" x=\"184\" y=\"-174.3\">output:</text>\n<polyline fill=\"none\" points=\"211.5,-166.5 211.5,-212.5 \" stroke=\"black\"/>\n<text font-family=\"Times,serif\" font-size=\"14.00\" text-anchor=\"middle\" x=\"295\" y=\"-197.3\">[(?, ?, 128), (?, 2002, 128)]</text>\n<polyline fill=\"none\" points=\"211.5,-189.5 378.5,-189.5 \" stroke=\"black\"/>\n<text font-family=\"Times,serif\" font-size=\"14.00\" text-anchor=\"middle\" x=\"295\" y=\"-174.3\">(?, ?, 128)</text>\n</g>\n<!-- 5494543824&#45;&gt;5513560016 -->\n<g class=\"edge\" id=\"edge7\">\n<title>5494543824-&gt;5513560016</title>\n<path d=\"M190,-332.38C190,-304.18 190,-255.21 190,-222.82\" fill=\"none\" stroke=\"black\"/>\n<polygon fill=\"black\" points=\"193.5,-222.53 190,-212.53 186.5,-222.53 193.5,-222.53\" stroke=\"black\"/>\n</g>\n<!-- 5494506448&#45;&gt;5513560016 -->\n<g class=\"edge\" id=\"edge6\">\n<title>5494506448-&gt;5513560016</title>\n<path d=\"M335.61,-249.47C310.37,-239.25 280.2,-227.03 253.88,-216.37\" fill=\"none\" stroke=\"black\"/>\n<polygon fill=\"black\" points=\"254.96,-213.03 244.38,-212.52 252.33,-219.52 254.96,-213.03\" stroke=\"black\"/>\n</g>\n<!-- 5513589264 -->\n<g class=\"node\" id=\"node8\">\n<title>5513589264</title>\n<polygon fill=\"none\" points=\"103.5,-83.5 103.5,-129.5 492.5,-129.5 492.5,-83.5 103.5,-83.5\" stroke=\"black\"/>\n<text font-family=\"Times,serif\" font-size=\"14.00\" text-anchor=\"middle\" x=\"197.5\" y=\"-102.8\">concatenate_layer: Concatenate</text>\n<polyline fill=\"none\" points=\"291.5,-83.5 291.5,-129.5 \" stroke=\"black\"/>\n<text font-family=\"Times,serif\" font-size=\"14.00\" text-anchor=\"middle\" x=\"319\" y=\"-114.3\">input:</text>\n<polyline fill=\"none\" points=\"291.5,-106.5 346.5,-106.5 \" stroke=\"black\"/>\n<text font-family=\"Times,serif\" font-size=\"14.00\" text-anchor=\"middle\" x=\"319\" y=\"-91.3\">output:</text>\n<polyline fill=\"none\" points=\"346.5,-83.5 346.5,-129.5 \" stroke=\"black\"/>\n<text font-family=\"Times,serif\" font-size=\"14.00\" text-anchor=\"middle\" x=\"419.5\" y=\"-114.3\">[(?, ?, 128), (?, ?, 128)]</text>\n<polyline fill=\"none\" points=\"346.5,-106.5 492.5,-106.5 \" stroke=\"black\"/>\n<text font-family=\"Times,serif\" font-size=\"14.00\" text-anchor=\"middle\" x=\"419.5\" y=\"-91.3\">(?, ?, 256)</text>\n</g>\n<!-- 5494506448&#45;&gt;5513589264 -->\n<g class=\"edge\" id=\"edge8\">\n<title>5494506448-&gt;5513589264</title>\n<path d=\"M395,-249.34C398.85,-226.85 401.37,-191.76 387,-166 380.11,-153.66 369.4,-143.47 357.77,-135.25\" fill=\"none\" stroke=\"black\"/>\n<polygon fill=\"black\" points=\"359.45,-132.17 349.17,-129.61 355.61,-138.02 359.45,-132.17\" stroke=\"black\"/>\n</g>\n<!-- 5513560016&#45;&gt;5513589264 -->\n<g class=\"edge\" id=\"edge9\">\n<title>5513560016-&gt;5513589264</title>\n<path d=\"M219.51,-166.37C232.13,-156.9 247.01,-145.74 260.41,-135.69\" fill=\"none\" stroke=\"black\"/>\n<polygon fill=\"black\" points=\"262.62,-138.41 268.52,-129.61 258.42,-132.81 262.62,-138.41\" stroke=\"black\"/>\n</g>\n<!-- 5513588944 -->\n<g class=\"node\" id=\"node9\">\n<title>5513588944</title>\n<polygon fill=\"none\" points=\"171,-0.5 171,-46.5 425,-46.5 425,-0.5 171,-0.5\" stroke=\"black\"/>\n<text font-family=\"Times,serif\" font-size=\"14.00\" text-anchor=\"middle\" x=\"234\" y=\"-19.8\">output_layer: Dense</text>\n<polyline fill=\"none\" points=\"297,-0.5 297,-46.5 \" stroke=\"black\"/>\n<text font-family=\"Times,serif\" font-size=\"14.00\" text-anchor=\"middle\" x=\"324.5\" y=\"-31.3\">input:</text>\n<polyline fill=\"none\" points=\"297,-23.5 352,-23.5 \" stroke=\"black\"/>\n<text font-family=\"Times,serif\" font-size=\"14.00\" text-anchor=\"middle\" x=\"324.5\" y=\"-8.3\">output:</text>\n<polyline fill=\"none\" points=\"352,-0.5 352,-46.5 \" stroke=\"black\"/>\n<text font-family=\"Times,serif\" font-size=\"14.00\" text-anchor=\"middle\" x=\"388.5\" y=\"-31.3\">(?, ?, 256)</text>\n<polyline fill=\"none\" points=\"352,-23.5 425,-23.5 \" stroke=\"black\"/>\n<text font-family=\"Times,serif\" font-size=\"14.00\" text-anchor=\"middle\" x=\"388.5\" y=\"-8.3\">(?, ?, 974)</text>\n</g>\n<!-- 5513589264&#45;&gt;5513588944 -->\n<g class=\"edge\" id=\"edge10\">\n<title>5513589264-&gt;5513588944</title>\n<path d=\"M298,-83.37C298,-75.15 298,-65.66 298,-56.73\" fill=\"none\" stroke=\"black\"/>\n<polygon fill=\"black\" points=\"301.5,-56.61 298,-46.61 294.5,-56.61 301.5,-56.61\" stroke=\"black\"/>\n</g>\n</g>\n</svg>"
     },
     "metadata": {},
     "execution_count": 15
    }
   ],
   "source": [
    "embedding_dim = 256\n",
    "hidden_size = 128\n",
    "encoder_layer_size = 1\n",
    "learning_late = 0.001\n",
    "dropout = 0.4\n",
    "\n",
    "from tensorflow.keras.models import Model\n",
    "from tensorflow.keras.layers import Input, Embedding, GRU, Attention, Concatenate, Dense\n",
    "from tensorflow.keras.activations import softmax\n",
    "from tensorflow.keras.optimizers import Adam\n",
    "from tensorflow.keras.losses import sparse_categorical_crossentropy\n",
    "\n",
    "# Encoder Input\n",
    "encoder_inputs = Input(shape=(max_body_morphemes,), name='encoder_inputs')\n",
    "\n",
    "# Encoder Embedding Layer\n",
    "encoder_embedding = Embedding(\n",
    "    num_of_morphemes, \n",
    "    embedding_dim, \n",
    "    name='encoder_embedding_layer'\n",
    ")(encoder_inputs)\n",
    "\n",
    "# Encoder Layer\n",
    "encoder_outputs, encoder_states = None, None\n",
    "for i in range(encoder_layer_size):\n",
    "    encoder_layer = GRU(\n",
    "        units=hidden_size,\n",
    "        return_sequences=True, return_state=True,\n",
    "        dropout=dropout, recurrent_dropout=dropout,\n",
    "        name='encoder_layer_' + str(i + 1)\n",
    "    )\n",
    "    encoder_outputs, encoder_states = encoder_layer(\n",
    "        encoder_embedding if encoder_outputs is None else encoder_outputs\n",
    "    )\n",
    "\n",
    "# Decoder\n",
    "decoder_inputs = Input(shape=(None,), name='decoder_inputs')\n",
    "\n",
    "# Decoder Embedding Layer\n",
    "decoder_embedding_layer = Embedding(\n",
    "    num_of_morphemes, \n",
    "    embedding_dim, \n",
    "    name='decoder_embedding_layer'\n",
    ")\n",
    "decoder_embedding = decoder_embedding_layer(decoder_inputs)\n",
    "\n",
    "# Decoder Layer\n",
    "decoder_layer = GRU(\n",
    "    hidden_size,\n",
    "    return_sequences=True, return_state=True,\n",
    "    dropout=dropout, recurrent_dropout=dropout / 2,\n",
    "    name='decode_layer'\n",
    ")\n",
    "decoder_outputs, _ = decoder_layer(\n",
    "    decoder_embedding,\n",
    "    initial_state=encoder_states\n",
    ")\n",
    "\n",
    "# Attention Layer\n",
    "attention_layer = Attention(name='attention_layer')\n",
    "attention_outputs = attention_layer([decoder_outputs, encoder_outputs])\n",
    "\n",
    "# Concatenate the Result of Attention and the Hidden States of Decoder\n",
    "decoder_concat_inputs = Concatenate(axis=-1, name='concatenate_layer')(\n",
    "    [decoder_outputs, attention_outputs]\n",
    ")\n",
    "\n",
    "# Output Layer\n",
    "output_layer = Dense(num_of_morphemes, activation=softmax, name='output_layer')\n",
    "outputs = output_layer(decoder_concat_inputs)\n",
    "\n",
    "# Define Model\n",
    "model = Model(\n",
    "    inputs=[encoder_inputs, decoder_inputs], \n",
    "    outputs=outputs,\n",
    "    name='training_model'\n",
    ")\n",
    "\n",
    "# Compile\n",
    "model.compile(\n",
    "    optimizer=Adam(learning_rate=learning_late),\n",
    "    loss=sparse_categorical_crossentropy\n",
    ")\n",
    "\n",
    "# Display Model Summary\n",
    "from IPython.display import SVG\n",
    "from tensorflow.keras.utils import model_to_dot\n",
    "\n",
    "# You need to install graphviz! (sudo apt install graphviz or brew install graphviz)\n",
    "SVG(model_to_dot(model, show_shapes=True).create(prog='dot', format='svg'))"
   ],
   "metadata": {
    "collapsed": false,
    "pycharm": {
     "name": "#%% create model\n"
    },
    "tags": []
   }
  },
  {
   "cell_type": "code",
   "execution_count": 32,
   "outputs": [
    {
     "output_type": "stream",
     "name": "stdout",
     "text": "[[ 70 143  10 ...   1   1   1]\n [ 70  50   3 ...   1   1   1]]\n[[ 70  75 119 ...   5   4   1]]\n[[ 70  88  43  14 106 199 107 143 144  71  37 345  56   1   1   1   1   1\n    1]\n [ 70  50  34 142  83   9 339  84   5  85   2 340  34 194 104  86 195 196\n    1]]\n[[ 70   3 105 341  87 194 197 198  40 342  48  17 343 344  41   1   1   1\n    1]]\n"
    }
   ],
   "source": [
    "from sklearn.model_selection import train_test_split\n",
    "\n",
    "x_train, x_test, y_train, y_test = train_test_split(\n",
    "    body_sequence, title_sequence, test_size=0.33\n",
    ")\n",
    "print(x_train)\n",
    "print(x_test)\n",
    "print(y_train)\n",
    "print(y_test)"
   ],
   "metadata": {
    "collapsed": false,
    "pycharm": {
     "name": "#%% prepare training set\n"
    },
    "tags": []
   }
  },
  {
   "cell_type": "code",
   "execution_count": 33,
   "outputs": [
    {
     "output_type": "stream",
     "name": "stdout",
     "text": "Train on 2 samples, validate on 1 samples\nEpoch 1/5\n2/2 [==============================] - 8s 4s/sample - loss: 6.8804 - val_loss: 6.8718\nEpoch 2/5\n2/2 [==============================] - 3s 2s/sample - loss: 6.8485 - val_loss: 6.8618\nEpoch 3/5\n2/2 [==============================] - 4s 2s/sample - loss: 6.8115 - val_loss: 6.8483\nEpoch 4/5\n2/2 [==============================] - 4s 2s/sample - loss: 6.7558 - val_loss: 6.8335\nEpoch 5/5\n2/2 [==============================] - 4s 2s/sample - loss: 6.6835 - val_loss: 6.8145\n"
    }
   ],
   "source": [
    "epochs = 5\n",
    "batch_size = 1\n",
    "\n",
    "history = model.fit(\n",
    "    [x_train, y_train[:, :-1]], y_train[:, 1:],\n",
    "    epochs=epochs, batch_size=batch_size,\n",
    "    validation_data=([x_test, y_test[:, :-1]], y_test[:, 1:])\n",
    ")"
   ],
   "metadata": {
    "collapsed": false,
    "pycharm": {
     "name": "#%% teacher force training\n"
    },
    "tags": []
   }
  },
  {
   "cell_type": "code",
   "execution_count": 34,
   "outputs": [
    {
     "output_type": "display_data",
     "data": {
      "text/plain": "<Figure size 432x288 with 1 Axes>",
      "image/svg+xml": "<?xml version=\"1.0\" encoding=\"utf-8\" standalone=\"no\"?>\n<!DOCTYPE svg PUBLIC \"-//W3C//DTD SVG 1.1//EN\"\n  \"http://www.w3.org/Graphics/SVG/1.1/DTD/svg11.dtd\">\n<!-- Created with matplotlib (https://matplotlib.org/) -->\n<svg height=\"248.518125pt\" version=\"1.1\" viewBox=\"0 0 384.828125 248.518125\" width=\"384.828125pt\" xmlns=\"http://www.w3.org/2000/svg\" xmlns:xlink=\"http://www.w3.org/1999/xlink\">\n <defs>\n  <style type=\"text/css\">\n*{stroke-linecap:butt;stroke-linejoin:round;}\n  </style>\n </defs>\n <g id=\"figure_1\">\n  <g id=\"patch_1\">\n   <path d=\"M 0 248.518125 \nL 384.828125 248.518125 \nL 384.828125 0 \nL 0 0 \nz\n\" style=\"fill:none;\"/>\n  </g>\n  <g id=\"axes_1\">\n   <g id=\"patch_2\">\n    <path d=\"M 42.828125 224.64 \nL 377.628125 224.64 \nL 377.628125 7.2 \nL 42.828125 7.2 \nz\n\" style=\"fill:#ffffff;\"/>\n   </g>\n   <g id=\"matplotlib.axis_1\">\n    <g id=\"xtick_1\">\n     <g id=\"line2d_1\">\n      <defs>\n       <path d=\"M 0 0 \nL 0 3.5 \n\" id=\"m55c794d752\" style=\"stroke:#000000;stroke-width:0.8;\"/>\n      </defs>\n      <g>\n       <use style=\"stroke:#000000;stroke-width:0.8;\" x=\"58.046307\" xlink:href=\"#m55c794d752\" y=\"224.64\"/>\n      </g>\n     </g>\n     <g id=\"text_1\">\n      <!-- 0.0 -->\n      <defs>\n       <path d=\"M 31.78125 66.40625 \nQ 24.171875 66.40625 20.328125 58.90625 \nQ 16.5 51.421875 16.5 36.375 \nQ 16.5 21.390625 20.328125 13.890625 \nQ 24.171875 6.390625 31.78125 6.390625 \nQ 39.453125 6.390625 43.28125 13.890625 \nQ 47.125 21.390625 47.125 36.375 \nQ 47.125 51.421875 43.28125 58.90625 \nQ 39.453125 66.40625 31.78125 66.40625 \nz\nM 31.78125 74.21875 \nQ 44.046875 74.21875 50.515625 64.515625 \nQ 56.984375 54.828125 56.984375 36.375 \nQ 56.984375 17.96875 50.515625 8.265625 \nQ 44.046875 -1.421875 31.78125 -1.421875 \nQ 19.53125 -1.421875 13.0625 8.265625 \nQ 6.59375 17.96875 6.59375 36.375 \nQ 6.59375 54.828125 13.0625 64.515625 \nQ 19.53125 74.21875 31.78125 74.21875 \nz\n\" id=\"DejaVuSans-48\"/>\n       <path d=\"M 10.6875 12.40625 \nL 21 12.40625 \nL 21 0 \nL 10.6875 0 \nz\n\" id=\"DejaVuSans-46\"/>\n      </defs>\n      <g transform=\"translate(50.094744 239.238438)scale(0.1 -0.1)\">\n       <use xlink:href=\"#DejaVuSans-48\"/>\n       <use x=\"63.623047\" xlink:href=\"#DejaVuSans-46\"/>\n       <use x=\"95.410156\" xlink:href=\"#DejaVuSans-48\"/>\n      </g>\n     </g>\n    </g>\n    <g id=\"xtick_2\">\n     <g id=\"line2d_2\">\n      <g>\n       <use style=\"stroke:#000000;stroke-width:0.8;\" x=\"96.091761\" xlink:href=\"#m55c794d752\" y=\"224.64\"/>\n      </g>\n     </g>\n     <g id=\"text_2\">\n      <!-- 0.5 -->\n      <defs>\n       <path d=\"M 10.796875 72.90625 \nL 49.515625 72.90625 \nL 49.515625 64.59375 \nL 19.828125 64.59375 \nL 19.828125 46.734375 \nQ 21.96875 47.46875 24.109375 47.828125 \nQ 26.265625 48.1875 28.421875 48.1875 \nQ 40.625 48.1875 47.75 41.5 \nQ 54.890625 34.8125 54.890625 23.390625 \nQ 54.890625 11.625 47.5625 5.09375 \nQ 40.234375 -1.421875 26.90625 -1.421875 \nQ 22.3125 -1.421875 17.546875 -0.640625 \nQ 12.796875 0.140625 7.71875 1.703125 \nL 7.71875 11.625 \nQ 12.109375 9.234375 16.796875 8.0625 \nQ 21.484375 6.890625 26.703125 6.890625 \nQ 35.15625 6.890625 40.078125 11.328125 \nQ 45.015625 15.765625 45.015625 23.390625 \nQ 45.015625 31 40.078125 35.4375 \nQ 35.15625 39.890625 26.703125 39.890625 \nQ 22.75 39.890625 18.8125 39.015625 \nQ 14.890625 38.140625 10.796875 36.28125 \nz\n\" id=\"DejaVuSans-53\"/>\n      </defs>\n      <g transform=\"translate(88.140199 239.238438)scale(0.1 -0.1)\">\n       <use xlink:href=\"#DejaVuSans-48\"/>\n       <use x=\"63.623047\" xlink:href=\"#DejaVuSans-46\"/>\n       <use x=\"95.410156\" xlink:href=\"#DejaVuSans-53\"/>\n      </g>\n     </g>\n    </g>\n    <g id=\"xtick_3\">\n     <g id=\"line2d_3\">\n      <g>\n       <use style=\"stroke:#000000;stroke-width:0.8;\" x=\"134.137216\" xlink:href=\"#m55c794d752\" y=\"224.64\"/>\n      </g>\n     </g>\n     <g id=\"text_3\">\n      <!-- 1.0 -->\n      <defs>\n       <path d=\"M 12.40625 8.296875 \nL 28.515625 8.296875 \nL 28.515625 63.921875 \nL 10.984375 60.40625 \nL 10.984375 69.390625 \nL 28.421875 72.90625 \nL 38.28125 72.90625 \nL 38.28125 8.296875 \nL 54.390625 8.296875 \nL 54.390625 0 \nL 12.40625 0 \nz\n\" id=\"DejaVuSans-49\"/>\n      </defs>\n      <g transform=\"translate(126.185653 239.238438)scale(0.1 -0.1)\">\n       <use xlink:href=\"#DejaVuSans-49\"/>\n       <use x=\"63.623047\" xlink:href=\"#DejaVuSans-46\"/>\n       <use x=\"95.410156\" xlink:href=\"#DejaVuSans-48\"/>\n      </g>\n     </g>\n    </g>\n    <g id=\"xtick_4\">\n     <g id=\"line2d_4\">\n      <g>\n       <use style=\"stroke:#000000;stroke-width:0.8;\" x=\"172.18267\" xlink:href=\"#m55c794d752\" y=\"224.64\"/>\n      </g>\n     </g>\n     <g id=\"text_4\">\n      <!-- 1.5 -->\n      <g transform=\"translate(164.231108 239.238438)scale(0.1 -0.1)\">\n       <use xlink:href=\"#DejaVuSans-49\"/>\n       <use x=\"63.623047\" xlink:href=\"#DejaVuSans-46\"/>\n       <use x=\"95.410156\" xlink:href=\"#DejaVuSans-53\"/>\n      </g>\n     </g>\n    </g>\n    <g id=\"xtick_5\">\n     <g id=\"line2d_5\">\n      <g>\n       <use style=\"stroke:#000000;stroke-width:0.8;\" x=\"210.228125\" xlink:href=\"#m55c794d752\" y=\"224.64\"/>\n      </g>\n     </g>\n     <g id=\"text_5\">\n      <!-- 2.0 -->\n      <defs>\n       <path d=\"M 19.1875 8.296875 \nL 53.609375 8.296875 \nL 53.609375 0 \nL 7.328125 0 \nL 7.328125 8.296875 \nQ 12.9375 14.109375 22.625 23.890625 \nQ 32.328125 33.6875 34.8125 36.53125 \nQ 39.546875 41.84375 41.421875 45.53125 \nQ 43.3125 49.21875 43.3125 52.78125 \nQ 43.3125 58.59375 39.234375 62.25 \nQ 35.15625 65.921875 28.609375 65.921875 \nQ 23.96875 65.921875 18.8125 64.3125 \nQ 13.671875 62.703125 7.8125 59.421875 \nL 7.8125 69.390625 \nQ 13.765625 71.78125 18.9375 73 \nQ 24.125 74.21875 28.421875 74.21875 \nQ 39.75 74.21875 46.484375 68.546875 \nQ 53.21875 62.890625 53.21875 53.421875 \nQ 53.21875 48.921875 51.53125 44.890625 \nQ 49.859375 40.875 45.40625 35.40625 \nQ 44.1875 33.984375 37.640625 27.21875 \nQ 31.109375 20.453125 19.1875 8.296875 \nz\n\" id=\"DejaVuSans-50\"/>\n      </defs>\n      <g transform=\"translate(202.276563 239.238438)scale(0.1 -0.1)\">\n       <use xlink:href=\"#DejaVuSans-50\"/>\n       <use x=\"63.623047\" xlink:href=\"#DejaVuSans-46\"/>\n       <use x=\"95.410156\" xlink:href=\"#DejaVuSans-48\"/>\n      </g>\n     </g>\n    </g>\n    <g id=\"xtick_6\">\n     <g id=\"line2d_6\">\n      <g>\n       <use style=\"stroke:#000000;stroke-width:0.8;\" x=\"248.27358\" xlink:href=\"#m55c794d752\" y=\"224.64\"/>\n      </g>\n     </g>\n     <g id=\"text_6\">\n      <!-- 2.5 -->\n      <g transform=\"translate(240.322017 239.238438)scale(0.1 -0.1)\">\n       <use xlink:href=\"#DejaVuSans-50\"/>\n       <use x=\"63.623047\" xlink:href=\"#DejaVuSans-46\"/>\n       <use x=\"95.410156\" xlink:href=\"#DejaVuSans-53\"/>\n      </g>\n     </g>\n    </g>\n    <g id=\"xtick_7\">\n     <g id=\"line2d_7\">\n      <g>\n       <use style=\"stroke:#000000;stroke-width:0.8;\" x=\"286.319034\" xlink:href=\"#m55c794d752\" y=\"224.64\"/>\n      </g>\n     </g>\n     <g id=\"text_7\">\n      <!-- 3.0 -->\n      <defs>\n       <path d=\"M 40.578125 39.3125 \nQ 47.65625 37.796875 51.625 33 \nQ 55.609375 28.21875 55.609375 21.1875 \nQ 55.609375 10.40625 48.1875 4.484375 \nQ 40.765625 -1.421875 27.09375 -1.421875 \nQ 22.515625 -1.421875 17.65625 -0.515625 \nQ 12.796875 0.390625 7.625 2.203125 \nL 7.625 11.71875 \nQ 11.71875 9.328125 16.59375 8.109375 \nQ 21.484375 6.890625 26.8125 6.890625 \nQ 36.078125 6.890625 40.9375 10.546875 \nQ 45.796875 14.203125 45.796875 21.1875 \nQ 45.796875 27.640625 41.28125 31.265625 \nQ 36.765625 34.90625 28.71875 34.90625 \nL 20.21875 34.90625 \nL 20.21875 43.015625 \nL 29.109375 43.015625 \nQ 36.375 43.015625 40.234375 45.921875 \nQ 44.09375 48.828125 44.09375 54.296875 \nQ 44.09375 59.90625 40.109375 62.90625 \nQ 36.140625 65.921875 28.71875 65.921875 \nQ 24.65625 65.921875 20.015625 65.03125 \nQ 15.375 64.15625 9.8125 62.3125 \nL 9.8125 71.09375 \nQ 15.4375 72.65625 20.34375 73.4375 \nQ 25.25 74.21875 29.59375 74.21875 \nQ 40.828125 74.21875 47.359375 69.109375 \nQ 53.90625 64.015625 53.90625 55.328125 \nQ 53.90625 49.265625 50.4375 45.09375 \nQ 46.96875 40.921875 40.578125 39.3125 \nz\n\" id=\"DejaVuSans-51\"/>\n      </defs>\n      <g transform=\"translate(278.367472 239.238438)scale(0.1 -0.1)\">\n       <use xlink:href=\"#DejaVuSans-51\"/>\n       <use x=\"63.623047\" xlink:href=\"#DejaVuSans-46\"/>\n       <use x=\"95.410156\" xlink:href=\"#DejaVuSans-48\"/>\n      </g>\n     </g>\n    </g>\n    <g id=\"xtick_8\">\n     <g id=\"line2d_8\">\n      <g>\n       <use style=\"stroke:#000000;stroke-width:0.8;\" x=\"324.364489\" xlink:href=\"#m55c794d752\" y=\"224.64\"/>\n      </g>\n     </g>\n     <g id=\"text_8\">\n      <!-- 3.5 -->\n      <g transform=\"translate(316.412926 239.238438)scale(0.1 -0.1)\">\n       <use xlink:href=\"#DejaVuSans-51\"/>\n       <use x=\"63.623047\" xlink:href=\"#DejaVuSans-46\"/>\n       <use x=\"95.410156\" xlink:href=\"#DejaVuSans-53\"/>\n      </g>\n     </g>\n    </g>\n    <g id=\"xtick_9\">\n     <g id=\"line2d_9\">\n      <g>\n       <use style=\"stroke:#000000;stroke-width:0.8;\" x=\"362.409943\" xlink:href=\"#m55c794d752\" y=\"224.64\"/>\n      </g>\n     </g>\n     <g id=\"text_9\">\n      <!-- 4.0 -->\n      <defs>\n       <path d=\"M 37.796875 64.3125 \nL 12.890625 25.390625 \nL 37.796875 25.390625 \nz\nM 35.203125 72.90625 \nL 47.609375 72.90625 \nL 47.609375 25.390625 \nL 58.015625 25.390625 \nL 58.015625 17.1875 \nL 47.609375 17.1875 \nL 47.609375 0 \nL 37.796875 0 \nL 37.796875 17.1875 \nL 4.890625 17.1875 \nL 4.890625 26.703125 \nz\n\" id=\"DejaVuSans-52\"/>\n      </defs>\n      <g transform=\"translate(354.458381 239.238438)scale(0.1 -0.1)\">\n       <use xlink:href=\"#DejaVuSans-52\"/>\n       <use x=\"63.623047\" xlink:href=\"#DejaVuSans-46\"/>\n       <use x=\"95.410156\" xlink:href=\"#DejaVuSans-48\"/>\n      </g>\n     </g>\n    </g>\n   </g>\n   <g id=\"matplotlib.axis_2\">\n    <g id=\"ytick_1\">\n     <g id=\"line2d_10\">\n      <defs>\n       <path d=\"M 0 0 \nL -3.5 0 \n\" id=\"m9807f4a6c8\" style=\"stroke:#000000;stroke-width:0.8;\"/>\n      </defs>\n      <g>\n       <use style=\"stroke:#000000;stroke-width:0.8;\" x=\"42.828125\" xlink:href=\"#m9807f4a6c8\" y=\"223.334907\"/>\n      </g>\n     </g>\n     <g id=\"text_10\">\n      <!-- 6.675 -->\n      <defs>\n       <path d=\"M 33.015625 40.375 \nQ 26.375 40.375 22.484375 35.828125 \nQ 18.609375 31.296875 18.609375 23.390625 \nQ 18.609375 15.53125 22.484375 10.953125 \nQ 26.375 6.390625 33.015625 6.390625 \nQ 39.65625 6.390625 43.53125 10.953125 \nQ 47.40625 15.53125 47.40625 23.390625 \nQ 47.40625 31.296875 43.53125 35.828125 \nQ 39.65625 40.375 33.015625 40.375 \nz\nM 52.59375 71.296875 \nL 52.59375 62.3125 \nQ 48.875 64.0625 45.09375 64.984375 \nQ 41.3125 65.921875 37.59375 65.921875 \nQ 27.828125 65.921875 22.671875 59.328125 \nQ 17.53125 52.734375 16.796875 39.40625 \nQ 19.671875 43.65625 24.015625 45.921875 \nQ 28.375 48.1875 33.59375 48.1875 \nQ 44.578125 48.1875 50.953125 41.515625 \nQ 57.328125 34.859375 57.328125 23.390625 \nQ 57.328125 12.15625 50.6875 5.359375 \nQ 44.046875 -1.421875 33.015625 -1.421875 \nQ 20.359375 -1.421875 13.671875 8.265625 \nQ 6.984375 17.96875 6.984375 36.375 \nQ 6.984375 53.65625 15.1875 63.9375 \nQ 23.390625 74.21875 37.203125 74.21875 \nQ 40.921875 74.21875 44.703125 73.484375 \nQ 48.484375 72.75 52.59375 71.296875 \nz\n\" id=\"DejaVuSans-54\"/>\n       <path d=\"M 8.203125 72.90625 \nL 55.078125 72.90625 \nL 55.078125 68.703125 \nL 28.609375 0 \nL 18.3125 0 \nL 43.21875 64.59375 \nL 8.203125 64.59375 \nz\n\" id=\"DejaVuSans-55\"/>\n      </defs>\n      <g transform=\"translate(7.2 227.134126)scale(0.1 -0.1)\">\n       <use xlink:href=\"#DejaVuSans-54\"/>\n       <use x=\"63.623047\" xlink:href=\"#DejaVuSans-46\"/>\n       <use x=\"95.410156\" xlink:href=\"#DejaVuSans-54\"/>\n       <use x=\"159.033203\" xlink:href=\"#DejaVuSans-55\"/>\n       <use x=\"222.65625\" xlink:href=\"#DejaVuSans-53\"/>\n      </g>\n     </g>\n    </g>\n    <g id=\"ytick_2\">\n     <g id=\"line2d_11\">\n      <g>\n       <use style=\"stroke:#000000;stroke-width:0.8;\" x=\"42.828125\" xlink:href=\"#m9807f4a6c8\" y=\"198.228695\"/>\n      </g>\n     </g>\n     <g id=\"text_11\">\n      <!-- 6.700 -->\n      <g transform=\"translate(7.2 202.027914)scale(0.1 -0.1)\">\n       <use xlink:href=\"#DejaVuSans-54\"/>\n       <use x=\"63.623047\" xlink:href=\"#DejaVuSans-46\"/>\n       <use x=\"95.410156\" xlink:href=\"#DejaVuSans-55\"/>\n       <use x=\"159.033203\" xlink:href=\"#DejaVuSans-48\"/>\n       <use x=\"222.65625\" xlink:href=\"#DejaVuSans-48\"/>\n      </g>\n     </g>\n    </g>\n    <g id=\"ytick_3\">\n     <g id=\"line2d_12\">\n      <g>\n       <use style=\"stroke:#000000;stroke-width:0.8;\" x=\"42.828125\" xlink:href=\"#m9807f4a6c8\" y=\"173.122483\"/>\n      </g>\n     </g>\n     <g id=\"text_12\">\n      <!-- 6.725 -->\n      <g transform=\"translate(7.2 176.921702)scale(0.1 -0.1)\">\n       <use xlink:href=\"#DejaVuSans-54\"/>\n       <use x=\"63.623047\" xlink:href=\"#DejaVuSans-46\"/>\n       <use x=\"95.410156\" xlink:href=\"#DejaVuSans-55\"/>\n       <use x=\"159.033203\" xlink:href=\"#DejaVuSans-50\"/>\n       <use x=\"222.65625\" xlink:href=\"#DejaVuSans-53\"/>\n      </g>\n     </g>\n    </g>\n    <g id=\"ytick_4\">\n     <g id=\"line2d_13\">\n      <g>\n       <use style=\"stroke:#000000;stroke-width:0.8;\" x=\"42.828125\" xlink:href=\"#m9807f4a6c8\" y=\"148.016271\"/>\n      </g>\n     </g>\n     <g id=\"text_13\">\n      <!-- 6.750 -->\n      <g transform=\"translate(7.2 151.81549)scale(0.1 -0.1)\">\n       <use xlink:href=\"#DejaVuSans-54\"/>\n       <use x=\"63.623047\" xlink:href=\"#DejaVuSans-46\"/>\n       <use x=\"95.410156\" xlink:href=\"#DejaVuSans-55\"/>\n       <use x=\"159.033203\" xlink:href=\"#DejaVuSans-53\"/>\n       <use x=\"222.65625\" xlink:href=\"#DejaVuSans-48\"/>\n      </g>\n     </g>\n    </g>\n    <g id=\"ytick_5\">\n     <g id=\"line2d_14\">\n      <g>\n       <use style=\"stroke:#000000;stroke-width:0.8;\" x=\"42.828125\" xlink:href=\"#m9807f4a6c8\" y=\"122.910059\"/>\n      </g>\n     </g>\n     <g id=\"text_14\">\n      <!-- 6.775 -->\n      <g transform=\"translate(7.2 126.709278)scale(0.1 -0.1)\">\n       <use xlink:href=\"#DejaVuSans-54\"/>\n       <use x=\"63.623047\" xlink:href=\"#DejaVuSans-46\"/>\n       <use x=\"95.410156\" xlink:href=\"#DejaVuSans-55\"/>\n       <use x=\"159.033203\" xlink:href=\"#DejaVuSans-55\"/>\n       <use x=\"222.65625\" xlink:href=\"#DejaVuSans-53\"/>\n      </g>\n     </g>\n    </g>\n    <g id=\"ytick_6\">\n     <g id=\"line2d_15\">\n      <g>\n       <use style=\"stroke:#000000;stroke-width:0.8;\" x=\"42.828125\" xlink:href=\"#m9807f4a6c8\" y=\"97.803847\"/>\n      </g>\n     </g>\n     <g id=\"text_15\">\n      <!-- 6.800 -->\n      <defs>\n       <path d=\"M 31.78125 34.625 \nQ 24.75 34.625 20.71875 30.859375 \nQ 16.703125 27.09375 16.703125 20.515625 \nQ 16.703125 13.921875 20.71875 10.15625 \nQ 24.75 6.390625 31.78125 6.390625 \nQ 38.8125 6.390625 42.859375 10.171875 \nQ 46.921875 13.96875 46.921875 20.515625 \nQ 46.921875 27.09375 42.890625 30.859375 \nQ 38.875 34.625 31.78125 34.625 \nz\nM 21.921875 38.8125 \nQ 15.578125 40.375 12.03125 44.71875 \nQ 8.5 49.078125 8.5 55.328125 \nQ 8.5 64.0625 14.71875 69.140625 \nQ 20.953125 74.21875 31.78125 74.21875 \nQ 42.671875 74.21875 48.875 69.140625 \nQ 55.078125 64.0625 55.078125 55.328125 \nQ 55.078125 49.078125 51.53125 44.71875 \nQ 48 40.375 41.703125 38.8125 \nQ 48.828125 37.15625 52.796875 32.3125 \nQ 56.78125 27.484375 56.78125 20.515625 \nQ 56.78125 9.90625 50.3125 4.234375 \nQ 43.84375 -1.421875 31.78125 -1.421875 \nQ 19.734375 -1.421875 13.25 4.234375 \nQ 6.78125 9.90625 6.78125 20.515625 \nQ 6.78125 27.484375 10.78125 32.3125 \nQ 14.796875 37.15625 21.921875 38.8125 \nz\nM 18.3125 54.390625 \nQ 18.3125 48.734375 21.84375 45.5625 \nQ 25.390625 42.390625 31.78125 42.390625 \nQ 38.140625 42.390625 41.71875 45.5625 \nQ 45.3125 48.734375 45.3125 54.390625 \nQ 45.3125 60.0625 41.71875 63.234375 \nQ 38.140625 66.40625 31.78125 66.40625 \nQ 25.390625 66.40625 21.84375 63.234375 \nQ 18.3125 60.0625 18.3125 54.390625 \nz\n\" id=\"DejaVuSans-56\"/>\n      </defs>\n      <g transform=\"translate(7.2 101.603066)scale(0.1 -0.1)\">\n       <use xlink:href=\"#DejaVuSans-54\"/>\n       <use x=\"63.623047\" xlink:href=\"#DejaVuSans-46\"/>\n       <use x=\"95.410156\" xlink:href=\"#DejaVuSans-56\"/>\n       <use x=\"159.033203\" xlink:href=\"#DejaVuSans-48\"/>\n       <use x=\"222.65625\" xlink:href=\"#DejaVuSans-48\"/>\n      </g>\n     </g>\n    </g>\n    <g id=\"ytick_7\">\n     <g id=\"line2d_16\">\n      <g>\n       <use style=\"stroke:#000000;stroke-width:0.8;\" x=\"42.828125\" xlink:href=\"#m9807f4a6c8\" y=\"72.697635\"/>\n      </g>\n     </g>\n     <g id=\"text_16\">\n      <!-- 6.825 -->\n      <g transform=\"translate(7.2 76.496854)scale(0.1 -0.1)\">\n       <use xlink:href=\"#DejaVuSans-54\"/>\n       <use x=\"63.623047\" xlink:href=\"#DejaVuSans-46\"/>\n       <use x=\"95.410156\" xlink:href=\"#DejaVuSans-56\"/>\n       <use x=\"159.033203\" xlink:href=\"#DejaVuSans-50\"/>\n       <use x=\"222.65625\" xlink:href=\"#DejaVuSans-53\"/>\n      </g>\n     </g>\n    </g>\n    <g id=\"ytick_8\">\n     <g id=\"line2d_17\">\n      <g>\n       <use style=\"stroke:#000000;stroke-width:0.8;\" x=\"42.828125\" xlink:href=\"#m9807f4a6c8\" y=\"47.591423\"/>\n      </g>\n     </g>\n     <g id=\"text_17\">\n      <!-- 6.850 -->\n      <g transform=\"translate(7.2 51.390642)scale(0.1 -0.1)\">\n       <use xlink:href=\"#DejaVuSans-54\"/>\n       <use x=\"63.623047\" xlink:href=\"#DejaVuSans-46\"/>\n       <use x=\"95.410156\" xlink:href=\"#DejaVuSans-56\"/>\n       <use x=\"159.033203\" xlink:href=\"#DejaVuSans-53\"/>\n       <use x=\"222.65625\" xlink:href=\"#DejaVuSans-48\"/>\n      </g>\n     </g>\n    </g>\n    <g id=\"ytick_9\">\n     <g id=\"line2d_18\">\n      <g>\n       <use style=\"stroke:#000000;stroke-width:0.8;\" x=\"42.828125\" xlink:href=\"#m9807f4a6c8\" y=\"22.485211\"/>\n      </g>\n     </g>\n     <g id=\"text_18\">\n      <!-- 6.875 -->\n      <g transform=\"translate(7.2 26.28443)scale(0.1 -0.1)\">\n       <use xlink:href=\"#DejaVuSans-54\"/>\n       <use x=\"63.623047\" xlink:href=\"#DejaVuSans-46\"/>\n       <use x=\"95.410156\" xlink:href=\"#DejaVuSans-56\"/>\n       <use x=\"159.033203\" xlink:href=\"#DejaVuSans-55\"/>\n       <use x=\"222.65625\" xlink:href=\"#DejaVuSans-53\"/>\n      </g>\n     </g>\n    </g>\n   </g>\n   <g id=\"line2d_19\">\n    <path clip-path=\"url(#pdd3968dadd)\" d=\"M 58.046307 17.083636 \nL 134.137216 49.113345 \nL 210.228125 86.290831 \nL 286.319034 142.159776 \nL 362.409943 214.756364 \n\" style=\"fill:none;stroke:#1f77b4;stroke-linecap:square;stroke-width:1.5;\"/>\n   </g>\n   <g id=\"line2d_20\">\n    <path clip-path=\"url(#pdd3968dadd)\" d=\"M 58.046307 25.723282 \nL 134.137216 35.726251 \nL 210.228125 49.262272 \nL 286.319034 64.125221 \nL 362.409943 83.237122 \n\" style=\"fill:none;stroke:#ff7f0e;stroke-linecap:square;stroke-width:1.5;\"/>\n   </g>\n   <g id=\"patch_3\">\n    <path d=\"M 42.828125 224.64 \nL 42.828125 7.2 \n\" style=\"fill:none;stroke:#000000;stroke-linecap:square;stroke-linejoin:miter;stroke-width:0.8;\"/>\n   </g>\n   <g id=\"patch_4\">\n    <path d=\"M 377.628125 224.64 \nL 377.628125 7.2 \n\" style=\"fill:none;stroke:#000000;stroke-linecap:square;stroke-linejoin:miter;stroke-width:0.8;\"/>\n   </g>\n   <g id=\"patch_5\">\n    <path d=\"M 42.828125 224.64 \nL 377.628125 224.64 \n\" style=\"fill:none;stroke:#000000;stroke-linecap:square;stroke-linejoin:miter;stroke-width:0.8;\"/>\n   </g>\n   <g id=\"patch_6\">\n    <path d=\"M 42.828125 7.2 \nL 377.628125 7.2 \n\" style=\"fill:none;stroke:#000000;stroke-linecap:square;stroke-linejoin:miter;stroke-width:0.8;\"/>\n   </g>\n   <g id=\"legend_1\">\n    <g id=\"patch_7\">\n     <path d=\"M 315.353125 44.55625 \nL 370.628125 44.55625 \nQ 372.628125 44.55625 372.628125 42.55625 \nL 372.628125 14.2 \nQ 372.628125 12.2 370.628125 12.2 \nL 315.353125 12.2 \nQ 313.353125 12.2 313.353125 14.2 \nL 313.353125 42.55625 \nQ 313.353125 44.55625 315.353125 44.55625 \nz\n\" style=\"fill:#ffffff;opacity:0.8;stroke:#cccccc;stroke-linejoin:miter;\"/>\n    </g>\n    <g id=\"line2d_21\">\n     <path d=\"M 317.353125 20.298438 \nL 337.353125 20.298438 \n\" style=\"fill:none;stroke:#1f77b4;stroke-linecap:square;stroke-width:1.5;\"/>\n    </g>\n    <g id=\"line2d_22\"/>\n    <g id=\"text_19\">\n     <!-- train -->\n     <defs>\n      <path d=\"M 18.3125 70.21875 \nL 18.3125 54.6875 \nL 36.8125 54.6875 \nL 36.8125 47.703125 \nL 18.3125 47.703125 \nL 18.3125 18.015625 \nQ 18.3125 11.328125 20.140625 9.421875 \nQ 21.96875 7.515625 27.59375 7.515625 \nL 36.8125 7.515625 \nL 36.8125 0 \nL 27.59375 0 \nQ 17.1875 0 13.234375 3.875 \nQ 9.28125 7.765625 9.28125 18.015625 \nL 9.28125 47.703125 \nL 2.6875 47.703125 \nL 2.6875 54.6875 \nL 9.28125 54.6875 \nL 9.28125 70.21875 \nz\n\" id=\"DejaVuSans-116\"/>\n      <path d=\"M 41.109375 46.296875 \nQ 39.59375 47.171875 37.8125 47.578125 \nQ 36.03125 48 33.890625 48 \nQ 26.265625 48 22.1875 43.046875 \nQ 18.109375 38.09375 18.109375 28.8125 \nL 18.109375 0 \nL 9.078125 0 \nL 9.078125 54.6875 \nL 18.109375 54.6875 \nL 18.109375 46.1875 \nQ 20.953125 51.171875 25.484375 53.578125 \nQ 30.03125 56 36.53125 56 \nQ 37.453125 56 38.578125 55.875 \nQ 39.703125 55.765625 41.0625 55.515625 \nz\n\" id=\"DejaVuSans-114\"/>\n      <path d=\"M 34.28125 27.484375 \nQ 23.390625 27.484375 19.1875 25 \nQ 14.984375 22.515625 14.984375 16.5 \nQ 14.984375 11.71875 18.140625 8.90625 \nQ 21.296875 6.109375 26.703125 6.109375 \nQ 34.1875 6.109375 38.703125 11.40625 \nQ 43.21875 16.703125 43.21875 25.484375 \nL 43.21875 27.484375 \nz\nM 52.203125 31.203125 \nL 52.203125 0 \nL 43.21875 0 \nL 43.21875 8.296875 \nQ 40.140625 3.328125 35.546875 0.953125 \nQ 30.953125 -1.421875 24.3125 -1.421875 \nQ 15.921875 -1.421875 10.953125 3.296875 \nQ 6 8.015625 6 15.921875 \nQ 6 25.140625 12.171875 29.828125 \nQ 18.359375 34.515625 30.609375 34.515625 \nL 43.21875 34.515625 \nL 43.21875 35.40625 \nQ 43.21875 41.609375 39.140625 45 \nQ 35.0625 48.390625 27.6875 48.390625 \nQ 23 48.390625 18.546875 47.265625 \nQ 14.109375 46.140625 10.015625 43.890625 \nL 10.015625 52.203125 \nQ 14.9375 54.109375 19.578125 55.046875 \nQ 24.21875 56 28.609375 56 \nQ 40.484375 56 46.34375 49.84375 \nQ 52.203125 43.703125 52.203125 31.203125 \nz\n\" id=\"DejaVuSans-97\"/>\n      <path d=\"M 9.421875 54.6875 \nL 18.40625 54.6875 \nL 18.40625 0 \nL 9.421875 0 \nz\nM 9.421875 75.984375 \nL 18.40625 75.984375 \nL 18.40625 64.59375 \nL 9.421875 64.59375 \nz\n\" id=\"DejaVuSans-105\"/>\n      <path d=\"M 54.890625 33.015625 \nL 54.890625 0 \nL 45.90625 0 \nL 45.90625 32.71875 \nQ 45.90625 40.484375 42.875 44.328125 \nQ 39.84375 48.1875 33.796875 48.1875 \nQ 26.515625 48.1875 22.3125 43.546875 \nQ 18.109375 38.921875 18.109375 30.90625 \nL 18.109375 0 \nL 9.078125 0 \nL 9.078125 54.6875 \nL 18.109375 54.6875 \nL 18.109375 46.1875 \nQ 21.34375 51.125 25.703125 53.5625 \nQ 30.078125 56 35.796875 56 \nQ 45.21875 56 50.046875 50.171875 \nQ 54.890625 44.34375 54.890625 33.015625 \nz\n\" id=\"DejaVuSans-110\"/>\n     </defs>\n     <g transform=\"translate(345.353125 23.798438)scale(0.1 -0.1)\">\n      <use xlink:href=\"#DejaVuSans-116\"/>\n      <use x=\"39.208984\" xlink:href=\"#DejaVuSans-114\"/>\n      <use x=\"80.322266\" xlink:href=\"#DejaVuSans-97\"/>\n      <use x=\"141.601562\" xlink:href=\"#DejaVuSans-105\"/>\n      <use x=\"169.384766\" xlink:href=\"#DejaVuSans-110\"/>\n     </g>\n    </g>\n    <g id=\"line2d_23\">\n     <path d=\"M 317.353125 34.976563 \nL 337.353125 34.976563 \n\" style=\"fill:none;stroke:#ff7f0e;stroke-linecap:square;stroke-width:1.5;\"/>\n    </g>\n    <g id=\"line2d_24\"/>\n    <g id=\"text_20\">\n     <!-- test -->\n     <defs>\n      <path d=\"M 56.203125 29.59375 \nL 56.203125 25.203125 \nL 14.890625 25.203125 \nQ 15.484375 15.921875 20.484375 11.0625 \nQ 25.484375 6.203125 34.421875 6.203125 \nQ 39.59375 6.203125 44.453125 7.46875 \nQ 49.3125 8.734375 54.109375 11.28125 \nL 54.109375 2.78125 \nQ 49.265625 0.734375 44.1875 -0.34375 \nQ 39.109375 -1.421875 33.890625 -1.421875 \nQ 20.796875 -1.421875 13.15625 6.1875 \nQ 5.515625 13.8125 5.515625 26.8125 \nQ 5.515625 40.234375 12.765625 48.109375 \nQ 20.015625 56 32.328125 56 \nQ 43.359375 56 49.78125 48.890625 \nQ 56.203125 41.796875 56.203125 29.59375 \nz\nM 47.21875 32.234375 \nQ 47.125 39.59375 43.09375 43.984375 \nQ 39.0625 48.390625 32.421875 48.390625 \nQ 24.90625 48.390625 20.390625 44.140625 \nQ 15.875 39.890625 15.1875 32.171875 \nz\n\" id=\"DejaVuSans-101\"/>\n      <path d=\"M 44.28125 53.078125 \nL 44.28125 44.578125 \nQ 40.484375 46.53125 36.375 47.5 \nQ 32.28125 48.484375 27.875 48.484375 \nQ 21.1875 48.484375 17.84375 46.4375 \nQ 14.5 44.390625 14.5 40.28125 \nQ 14.5 37.15625 16.890625 35.375 \nQ 19.28125 33.59375 26.515625 31.984375 \nL 29.59375 31.296875 \nQ 39.15625 29.25 43.1875 25.515625 \nQ 47.21875 21.78125 47.21875 15.09375 \nQ 47.21875 7.46875 41.1875 3.015625 \nQ 35.15625 -1.421875 24.609375 -1.421875 \nQ 20.21875 -1.421875 15.453125 -0.5625 \nQ 10.6875 0.296875 5.421875 2 \nL 5.421875 11.28125 \nQ 10.40625 8.6875 15.234375 7.390625 \nQ 20.0625 6.109375 24.8125 6.109375 \nQ 31.15625 6.109375 34.5625 8.28125 \nQ 37.984375 10.453125 37.984375 14.40625 \nQ 37.984375 18.0625 35.515625 20.015625 \nQ 33.0625 21.96875 24.703125 23.78125 \nL 21.578125 24.515625 \nQ 13.234375 26.265625 9.515625 29.90625 \nQ 5.8125 33.546875 5.8125 39.890625 \nQ 5.8125 47.609375 11.28125 51.796875 \nQ 16.75 56 26.8125 56 \nQ 31.78125 56 36.171875 55.265625 \nQ 40.578125 54.546875 44.28125 53.078125 \nz\n\" id=\"DejaVuSans-115\"/>\n     </defs>\n     <g transform=\"translate(345.353125 38.476563)scale(0.1 -0.1)\">\n      <use xlink:href=\"#DejaVuSans-116\"/>\n      <use x=\"39.208984\" xlink:href=\"#DejaVuSans-101\"/>\n      <use x=\"100.732422\" xlink:href=\"#DejaVuSans-115\"/>\n      <use x=\"152.832031\" xlink:href=\"#DejaVuSans-116\"/>\n     </g>\n    </g>\n   </g>\n  </g>\n </g>\n <defs>\n  <clipPath id=\"pdd3968dadd\">\n   <rect height=\"217.44\" width=\"334.8\" x=\"42.828125\" y=\"7.2\"/>\n  </clipPath>\n </defs>\n</svg>\n",
      "image/png": "[encoded data removed]"
     },
     "metadata": {
      "needs_background": "light"
     }
    }
   ],
   "source": [
    "import matplotlib.pyplot as plt\n",
    "\n",
    "plt.plot(history.history['loss'], label='train')\n",
    "plt.plot(history.history['val_loss'], label='test')\n",
    "plt.legend()\n",
    "plt.show()"
   ],
   "metadata": {
    "collapsed": false,
    "pycharm": {
     "name": "#%% plot history\n"
    }
   }
  },
  {
   "cell_type": "code",
   "execution_count": 18,
   "outputs": [
    {
     "output_type": "execute_result",
     "data": {
      "text/plain": "<IPython.core.display.SVG object>",
      "image/svg+xml": "<svg height=\"295pt\" viewBox=\"0.00 0.00 388.00 221.00\" width=\"517pt\" xmlns=\"http://www.w3.org/2000/svg\" xmlns:xlink=\"http://www.w3.org/1999/xlink\">\n<g class=\"graph\" id=\"graph0\" transform=\"scale(1.33 1.33) rotate(0) translate(4 217)\">\n<title>G</title>\n<polygon fill=\"white\" points=\"-4,4 -4,-217 384,-217 384,4 -4,4\" stroke=\"transparent\"/>\n<!-- 5494544720 -->\n<g class=\"node\" id=\"node1\">\n<title>5494544720</title>\n<polygon fill=\"none\" points=\"41.5,-166.5 41.5,-212.5 338.5,-212.5 338.5,-166.5 41.5,-166.5\" stroke=\"black\"/>\n<text font-family=\"Times,serif\" font-size=\"14.00\" text-anchor=\"middle\" x=\"125\" y=\"-185.8\">encoder_inputs: InputLayer</text>\n<polyline fill=\"none\" points=\"208.5,-166.5 208.5,-212.5 \" stroke=\"black\"/>\n<text font-family=\"Times,serif\" font-size=\"14.00\" text-anchor=\"middle\" x=\"236\" y=\"-197.3\">input:</text>\n<polyline fill=\"none\" points=\"208.5,-189.5 263.5,-189.5 \" stroke=\"black\"/>\n<text font-family=\"Times,serif\" font-size=\"14.00\" text-anchor=\"middle\" x=\"236\" y=\"-174.3\">output:</text>\n<polyline fill=\"none\" points=\"263.5,-166.5 263.5,-212.5 \" stroke=\"black\"/>\n<text font-family=\"Times,serif\" font-size=\"14.00\" text-anchor=\"middle\" x=\"301\" y=\"-197.3\">[(?, 2002)]</text>\n<polyline fill=\"none\" points=\"263.5,-189.5 338.5,-189.5 \" stroke=\"black\"/>\n<text font-family=\"Times,serif\" font-size=\"14.00\" text-anchor=\"middle\" x=\"301\" y=\"-174.3\">[(?, 2002)]</text>\n</g>\n<!-- 5509028368 -->\n<g class=\"node\" id=\"node2\">\n<title>5509028368</title>\n<polygon fill=\"none\" points=\"0,-83.5 0,-129.5 380,-129.5 380,-83.5 0,-83.5\" stroke=\"black\"/>\n<text font-family=\"Times,serif\" font-size=\"14.00\" text-anchor=\"middle\" x=\"115.5\" y=\"-102.8\">encoder_embedding_layer: Embedding</text>\n<polyline fill=\"none\" points=\"231,-83.5 231,-129.5 \" stroke=\"black\"/>\n<text font-family=\"Times,serif\" font-size=\"14.00\" text-anchor=\"middle\" x=\"258.5\" y=\"-114.3\">input:</text>\n<polyline fill=\"none\" points=\"231,-106.5 286,-106.5 \" stroke=\"black\"/>\n<text font-family=\"Times,serif\" font-size=\"14.00\" text-anchor=\"middle\" x=\"258.5\" y=\"-91.3\">output:</text>\n<polyline fill=\"none\" points=\"286,-83.5 286,-129.5 \" stroke=\"black\"/>\n<text font-family=\"Times,serif\" font-size=\"14.00\" text-anchor=\"middle\" x=\"333\" y=\"-114.3\">(?, 2002)</text>\n<polyline fill=\"none\" points=\"286,-106.5 380,-106.5 \" stroke=\"black\"/>\n<text font-family=\"Times,serif\" font-size=\"14.00\" text-anchor=\"middle\" x=\"333\" y=\"-91.3\">(?, 2002, 256)</text>\n</g>\n<!-- 5494544720&#45;&gt;5509028368 -->\n<g class=\"edge\" id=\"edge1\">\n<title>5494544720-&gt;5509028368</title>\n<path d=\"M190,-166.37C190,-158.15 190,-148.66 190,-139.73\" fill=\"none\" stroke=\"black\"/>\n<polygon fill=\"black\" points=\"193.5,-139.61 190,-129.61 186.5,-139.61 193.5,-139.61\" stroke=\"black\"/>\n</g>\n<!-- 5494543824 -->\n<g class=\"node\" id=\"node3\">\n<title>5494543824</title>\n<polygon fill=\"none\" points=\"14.5,-0.5 14.5,-46.5 365.5,-46.5 365.5,-0.5 14.5,-0.5\" stroke=\"black\"/>\n<text font-family=\"Times,serif\" font-size=\"14.00\" text-anchor=\"middle\" x=\"86\" y=\"-19.8\">encoder_layer_1: GRU</text>\n<polyline fill=\"none\" points=\"157.5,-0.5 157.5,-46.5 \" stroke=\"black\"/>\n<text font-family=\"Times,serif\" font-size=\"14.00\" text-anchor=\"middle\" x=\"185\" y=\"-31.3\">input:</text>\n<polyline fill=\"none\" points=\"157.5,-23.5 212.5,-23.5 \" stroke=\"black\"/>\n<text font-family=\"Times,serif\" font-size=\"14.00\" text-anchor=\"middle\" x=\"185\" y=\"-8.3\">output:</text>\n<polyline fill=\"none\" points=\"212.5,-0.5 212.5,-46.5 \" stroke=\"black\"/>\n<text font-family=\"Times,serif\" font-size=\"14.00\" text-anchor=\"middle\" x=\"289\" y=\"-31.3\">(?, 2002, 256)</text>\n<polyline fill=\"none\" points=\"212.5,-23.5 365.5,-23.5 \" stroke=\"black\"/>\n<text font-family=\"Times,serif\" font-size=\"14.00\" text-anchor=\"middle\" x=\"289\" y=\"-8.3\">[(?, 2002, 128), (?, 128)]</text>\n</g>\n<!-- 5509028368&#45;&gt;5494543824 -->\n<g class=\"edge\" id=\"edge2\">\n<title>5509028368-&gt;5494543824</title>\n<path d=\"M190,-83.37C190,-75.15 190,-65.66 190,-56.73\" fill=\"none\" stroke=\"black\"/>\n<polygon fill=\"black\" points=\"193.5,-56.61 190,-46.61 186.5,-56.61 193.5,-56.61\" stroke=\"black\"/>\n</g>\n</g>\n</svg>"
     },
     "metadata": {},
     "execution_count": 18
    }
   ],
   "source": [
    "# Define Encoder Model\n",
    "encoder_model = Model(\n",
    "    inputs=encoder_inputs,\n",
    "    outputs=[encoder_outputs, encoder_states],\n",
    "    name='encoder_model'\n",
    ")\n",
    "\n",
    "# You need to install graphviz! (sudo apt install graphviz or brew install graphviz)\n",
    "SVG(model_to_dot(encoder_model, show_shapes=True).create(prog='dot', format='svg'))"
   ],
   "metadata": {
    "collapsed": false,
    "pycharm": {
     "name": "#%% create test model\n"
    },
    "tags": []
   }
  },
  {
   "cell_type": "code",
   "execution_count": 17,
   "metadata": {},
   "outputs": [
    {
     "output_type": "execute_result",
     "data": {
      "text/plain": "<IPython.core.display.SVG object>",
      "image/svg+xml": "<svg height=\"295pt\" viewBox=\"0.00 0.00 743.50 221.00\" width=\"991pt\" xmlns=\"http://www.w3.org/2000/svg\" xmlns:xlink=\"http://www.w3.org/1999/xlink\">\n<g class=\"graph\" id=\"graph0\" transform=\"scale(1.33 1.33) rotate(0) translate(4 217)\">\n<title>G</title>\n<polygon fill=\"white\" points=\"-4,4 -4,-217 739.5,-217 739.5,4 -4,4\" stroke=\"transparent\"/>\n<!-- 5494545872 -->\n<g class=\"node\" id=\"node1\">\n<title>5494545872</title>\n<polygon fill=\"none\" points=\"41.5,-166.5 41.5,-212.5 317.5,-212.5 317.5,-166.5 41.5,-166.5\" stroke=\"black\"/>\n<text font-family=\"Times,serif\" font-size=\"14.00\" text-anchor=\"middle\" x=\"125\" y=\"-185.8\">decoder_inputs: InputLayer</text>\n<polyline fill=\"none\" points=\"208.5,-166.5 208.5,-212.5 \" stroke=\"black\"/>\n<text font-family=\"Times,serif\" font-size=\"14.00\" text-anchor=\"middle\" x=\"236\" y=\"-197.3\">input:</text>\n<polyline fill=\"none\" points=\"208.5,-189.5 263.5,-189.5 \" stroke=\"black\"/>\n<text font-family=\"Times,serif\" font-size=\"14.00\" text-anchor=\"middle\" x=\"236\" y=\"-174.3\">output:</text>\n<polyline fill=\"none\" points=\"263.5,-166.5 263.5,-212.5 \" stroke=\"black\"/>\n<text font-family=\"Times,serif\" font-size=\"14.00\" text-anchor=\"middle\" x=\"290.5\" y=\"-197.3\">[(?, ?)]</text>\n<polyline fill=\"none\" points=\"263.5,-189.5 317.5,-189.5 \" stroke=\"black\"/>\n<text font-family=\"Times,serif\" font-size=\"14.00\" text-anchor=\"middle\" x=\"290.5\" y=\"-174.3\">[(?, ?)]</text>\n</g>\n<!-- 5494531344 -->\n<g class=\"node\" id=\"node2\">\n<title>5494531344</title>\n<polygon fill=\"none\" points=\"0,-83.5 0,-129.5 359,-129.5 359,-83.5 0,-83.5\" stroke=\"black\"/>\n<text font-family=\"Times,serif\" font-size=\"14.00\" text-anchor=\"middle\" x=\"115.5\" y=\"-102.8\">decoder_embedding_layer: Embedding</text>\n<polyline fill=\"none\" points=\"231,-83.5 231,-129.5 \" stroke=\"black\"/>\n<text font-family=\"Times,serif\" font-size=\"14.00\" text-anchor=\"middle\" x=\"258.5\" y=\"-114.3\">input:</text>\n<polyline fill=\"none\" points=\"231,-106.5 286,-106.5 \" stroke=\"black\"/>\n<text font-family=\"Times,serif\" font-size=\"14.00\" text-anchor=\"middle\" x=\"258.5\" y=\"-91.3\">output:</text>\n<polyline fill=\"none\" points=\"286,-83.5 286,-129.5 \" stroke=\"black\"/>\n<text font-family=\"Times,serif\" font-size=\"14.00\" text-anchor=\"middle\" x=\"322.5\" y=\"-114.3\">(?, ?)</text>\n<polyline fill=\"none\" points=\"286,-106.5 359,-106.5 \" stroke=\"black\"/>\n<text font-family=\"Times,serif\" font-size=\"14.00\" text-anchor=\"middle\" x=\"322.5\" y=\"-91.3\">(?, ?, 256)</text>\n</g>\n<!-- 5494545872&#45;&gt;5494531344 -->\n<g class=\"edge\" id=\"edge1\">\n<title>5494545872-&gt;5494531344</title>\n<path d=\"M179.5,-166.37C179.5,-158.15 179.5,-148.66 179.5,-139.73\" fill=\"none\" stroke=\"black\"/>\n<polygon fill=\"black\" points=\"183,-139.61 179.5,-129.61 176,-139.61 183,-139.61\" stroke=\"black\"/>\n</g>\n<!-- 5494506448 -->\n<g class=\"node\" id=\"node5\">\n<title>5494506448</title>\n<polygon fill=\"none\" points=\"202.5,-0.5 202.5,-46.5 514.5,-46.5 514.5,-0.5 202.5,-0.5\" stroke=\"black\"/>\n<text font-family=\"Times,serif\" font-size=\"14.00\" text-anchor=\"middle\" x=\"265\" y=\"-19.8\">decode_layer: GRU</text>\n<polyline fill=\"none\" points=\"327.5,-0.5 327.5,-46.5 \" stroke=\"black\"/>\n<text font-family=\"Times,serif\" font-size=\"14.00\" text-anchor=\"middle\" x=\"355\" y=\"-31.3\">input:</text>\n<polyline fill=\"none\" points=\"327.5,-23.5 382.5,-23.5 \" stroke=\"black\"/>\n<text font-family=\"Times,serif\" font-size=\"14.00\" text-anchor=\"middle\" x=\"355\" y=\"-8.3\">output:</text>\n<polyline fill=\"none\" points=\"382.5,-0.5 382.5,-46.5 \" stroke=\"black\"/>\n<text font-family=\"Times,serif\" font-size=\"14.00\" text-anchor=\"middle\" x=\"448.5\" y=\"-31.3\">[(?, ?, 256), (?, 128)]</text>\n<polyline fill=\"none\" points=\"382.5,-23.5 514.5,-23.5 \" stroke=\"black\"/>\n<text font-family=\"Times,serif\" font-size=\"14.00\" text-anchor=\"middle\" x=\"448.5\" y=\"-8.3\">[(?, ?, 128), (?, 128)]</text>\n</g>\n<!-- 5494531344&#45;&gt;5494506448 -->\n<g class=\"edge\" id=\"edge2\">\n<title>5494531344-&gt;5494506448</title>\n<path d=\"M228.41,-83.37C250.61,-73.32 277.04,-61.36 300.25,-50.86\" fill=\"none\" stroke=\"black\"/>\n<polygon fill=\"black\" points=\"301.98,-53.92 309.65,-46.61 299.09,-47.54 301.98,-53.92\" stroke=\"black\"/>\n</g>\n<!-- 5514648656 -->\n<g class=\"node\" id=\"node3\">\n<title>5514648656</title>\n<polygon fill=\"none\" points=\"377,-83.5 377,-129.5 698,-129.5 698,-83.5 377,-83.5\" stroke=\"black\"/>\n<text font-family=\"Times,serif\" font-size=\"14.00\" text-anchor=\"middle\" x=\"476\" y=\"-102.8\">decoder_states_input: InputLayer</text>\n<polyline fill=\"none\" points=\"575,-83.5 575,-129.5 \" stroke=\"black\"/>\n<text font-family=\"Times,serif\" font-size=\"14.00\" text-anchor=\"middle\" x=\"602.5\" y=\"-114.3\">input:</text>\n<polyline fill=\"none\" points=\"575,-106.5 630,-106.5 \" stroke=\"black\"/>\n<text font-family=\"Times,serif\" font-size=\"14.00\" text-anchor=\"middle\" x=\"602.5\" y=\"-91.3\">output:</text>\n<polyline fill=\"none\" points=\"630,-83.5 630,-129.5 \" stroke=\"black\"/>\n<text font-family=\"Times,serif\" font-size=\"14.00\" text-anchor=\"middle\" x=\"664\" y=\"-114.3\">[(?, 128)]</text>\n<polyline fill=\"none\" points=\"630,-106.5 698,-106.5 \" stroke=\"black\"/>\n<text font-family=\"Times,serif\" font-size=\"14.00\" text-anchor=\"middle\" x=\"664\" y=\"-91.3\">[(?, 128)]</text>\n</g>\n<!-- 5514648656&#45;&gt;5494506448 -->\n<g class=\"edge\" id=\"edge3\">\n<title>5514648656-&gt;5494506448</title>\n<path d=\"M488.59,-83.37C466.39,-73.32 439.96,-61.36 416.75,-50.86\" fill=\"none\" stroke=\"black\"/>\n<polygon fill=\"black\" points=\"417.91,-47.54 407.35,-46.61 415.02,-53.92 417.91,-47.54\" stroke=\"black\"/>\n</g>\n<!-- 5515151696 -->\n<g class=\"node\" id=\"node4\">\n<title>5515151696</title>\n<polygon fill=\"none\" points=\"335.5,-166.5 335.5,-212.5 735.5,-212.5 735.5,-166.5 335.5,-166.5\" stroke=\"black\"/>\n<text font-family=\"Times,serif\" font-size=\"14.00\" text-anchor=\"middle\" x=\"456.5\" y=\"-185.8\">decoder_hidden_states_input: InputLayer</text>\n<polyline fill=\"none\" points=\"577.5,-166.5 577.5,-212.5 \" stroke=\"black\"/>\n<text font-family=\"Times,serif\" font-size=\"14.00\" text-anchor=\"middle\" x=\"605\" y=\"-197.3\">input:</text>\n<polyline fill=\"none\" points=\"577.5,-189.5 632.5,-189.5 \" stroke=\"black\"/>\n<text font-family=\"Times,serif\" font-size=\"14.00\" text-anchor=\"middle\" x=\"605\" y=\"-174.3\">output:</text>\n<polyline fill=\"none\" points=\"632.5,-166.5 632.5,-212.5 \" stroke=\"black\"/>\n<text font-family=\"Times,serif\" font-size=\"14.00\" text-anchor=\"middle\" x=\"684\" y=\"-197.3\">[(?, 2002, 128)]</text>\n<polyline fill=\"none\" points=\"632.5,-189.5 735.5,-189.5 \" stroke=\"black\"/>\n<text font-family=\"Times,serif\" font-size=\"14.00\" text-anchor=\"middle\" x=\"684\" y=\"-174.3\">[(?, 2002, 128)]</text>\n</g>\n</g>\n</svg>"
     },
     "metadata": {},
     "execution_count": 17
    }
   ],
   "source": [
    "# Decoder\n",
    "decoder_states_input = Input(\n",
    "    shape=(hidden_size,),\n",
    "    name='decoder_states_input'\n",
    ")\n",
    "\n",
    "decoder_embedding_predict = decoder_embedding_layer(decoder_inputs)\n",
    "decoder_outputs_predict, decoder_states_predict = decoder_layer(\n",
    "    decoder_embedding_predict,\n",
    "    initial_state=decoder_states_input\n",
    ")\n",
    "\n",
    "# Attention\n",
    "decoder_hidden_states_input = Input(\n",
    "    shape=(max_body_morphemes, hidden_size), \n",
    "    name='decoder_hidden_states_input'\n",
    ")\n",
    "attention_outputs_predict = attention_layer(\n",
    "    [decoder_outputs_predict, decoder_hidden_states_input]\n",
    ")\n",
    "decoder_concat_predict = Concatenate(axis=-1, name='decoder_concatenate_predict')(\n",
    "    [decoder_outputs_predict, attention_outputs_predict]\n",
    ")\n",
    "\n",
    "# Output Layer\n",
    "outputs_predict = output_layer(decoder_concat_predict)\n",
    "\n",
    "# Define Decoder Model\n",
    "decoder_model = Model(\n",
    "    [decoder_inputs] + [decoder_hidden_states_input, decoder_states_input],\n",
    "    [decoder_outputs_predict] + [decoder_states_predict],\n",
    "    name='decoder_model'\n",
    ")\n",
    "\n",
    "# You need to install graphviz! (sudo apt install graphviz or brew install graphviz)\n",
    "SVG(model_to_dot(decoder_model, show_shapes=True).create(prog='dot', format='svg'))"
   ]
  },
  {
   "cell_type": "code",
   "execution_count": 36,
   "metadata": {
    "collapsed": false,
    "pycharm": {
     "name": "#%% predict\n"
    },
    "tags": []
   },
   "outputs": [
    {
     "output_type": "stream",
     "name": "stdout",
     "text": "0   answer: \tSOT 제주항공 \"열흘내에 선행조건 다 해결해라\"…사실상 파기수순 EOT\n    predict: \t 1 약 그동안 약 약 약 약 약 약 그동안 약 약 약 약 약 약 약 약\n1   answer: \tSOT 이 앱 열면…한국 10대들 개인정보 중국으로 줄줄 샌다 EOT\n    predict: \t 1 한 , 약 약 약 약 약 그동안 약 약 약 약 약 약 약 약 약\n2   answer: \tSOT “예수가 레즈비언?” 마이클 잭슨 딸 출연 영화 신성모독 논란 EOT\n    predict: \t 1 약 그동안 약 약 약 약 약 약 그동안 약 약 약 약 약 약 약 약\n"
    }
   ],
   "source": [
    "def encoding(text: str) -> np.ndarray:\n",
    "    separated = k.get_morphes_by_tags(text)\n",
    "    separated = padding(separated, max_body_morphemes)\n",
    "    sequence = np.array(tokenizer.texts_to_sequences([separated]))\n",
    "    return sequence\n",
    "\n",
    "def predict(body: str) -> str:\n",
    "    input_seq = encoding(body)\n",
    "    e_out, e_h = encoder_model.predict(input_seq)\n",
    "\n",
    "    target_seq = np.zeros((1, 1))\n",
    "    target_seq[0, 0] = tokenizer.word_index['sot']\n",
    "\n",
    "    decoded_sentence = ''\n",
    "    while True:\n",
    "        output_tokens, h = decoder_model.predict(\n",
    "            [target_seq] + [e_out, e_h]\n",
    "        )\n",
    "        sampled_token_index = np.argmax(output_tokens[0, -1, 1:])\n",
    "        sampled_token = tokenizer.index_word[sampled_token_index]\n",
    "\n",
    "        if sampled_token != 'eot':\n",
    "            decoded_sentence += ' ' + sampled_token\n",
    "        else:\n",
    "            break\n",
    "\n",
    "        if len(decoded_sentence.split()) >= max_title_morphemes - 1:\n",
    "            break\n",
    "\n",
    "        target_seq = np.zeros((1, 1))\n",
    "        target_seq[0, 0] = sampled_token_index\n",
    "\n",
    "        e_h = h\n",
    "\n",
    "    return decoded_sentence\n",
    "\n",
    "result = [predict(body) for body in articles['body']]\n",
    "for i, title in enumerate(result):\n",
    "    print('%-3d answer: \\t' % i + articles['title'][i])\n",
    "    print('    predict: \\t' + title)\n"
   ]
  },
  {
   "cell_type": "code",
   "execution_count": null,
   "metadata": {},
   "outputs": [],
   "source": []
  }
 ],
 "metadata": {
  "kernelspec": {
   "display_name": "Python 3",
   "language": "python",
   "name": "python3"
  },
  "language_info": {
   "codemirror_mode": {
    "name": "ipython",
    "version": 2
   },
   "file_extension": ".py",
   "mimetype": "text/x-python",
   "name": "python",
   "nbconvert_exporter": "python",
   "pygments_lexer": "ipython2",
   "version": "3.7.7-final"
  }
 },
 "nbformat": 4,
 "nbformat_minor": 0
}