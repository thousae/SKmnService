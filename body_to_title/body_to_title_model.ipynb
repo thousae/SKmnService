{
 "cells": [
  {
   "cell_type": "code",
   "execution_count": 1,
   "metadata": {},
   "outputs": [
    {
     "output_type": "execute_result",
     "data": {
      "text/plain": "'\\nRequired Libraries: [\\n    \"numpy(1.18.1)\",\\n    \"tensorflow(2.1.0)\",\\n    \"pandas(1.0.3)\",\\n    \"scikit-learn(0.22.2)\",\\n    \"PyKomoran(0.1.5)\",\\n    \"matplotlib(3.1.3)\",\\n    \"graphviz(0.14)\",\\n    \"pydot(1.4.1)\"\\n]\\n'"
     },
     "metadata": {},
     "execution_count": 1
    }
   ],
   "source": [
    "\"\"\"\n",
    "Required Libraries: [\n",
    "    \"numpy(1.18.1)\",\n",
    "    \"tensorflow(2.1.0)\",\n",
    "    \"pandas(1.0.3)\",\n",
    "    \"scikit-learn(0.22.2)\",\n",
    "    \"PyKomoran(0.1.5)\",\n",
    "    \"matplotlib(3.1.3)\",\n",
    "    \"graphviz(0.14)\",\n",
    "    \"pydot(1.4.1)\"\n",
    "]\n",
    "\"\"\""
   ]
  },
  {
   "cell_type": "code",
   "execution_count": 2,
   "outputs": [],
   "source": [
    "SOT = 'sot'\n",
    "EOT = 'eot'\n",
    "PAD = 0\n",
    "\n",
    "embedding_dim = 256\n",
    "hidden_size = 1024\n",
    "encoder_layer_size = 3\n",
    "learning_late = 0.001\n",
    "dropout = 0.4\n",
    "\n",
    "epochs = 50\n",
    "batch_size = 128"
   ],
   "metadata": {
    "collapsed": false,
    "pycharm": {
     "name": "#%% constants\n"
    }
   }
  },
  {
   "cell_type": "code",
   "execution_count": 3,
   "outputs": [],
   "source": [
    "import numpy as np\n",
    "from typing import List, Tuple, Union"
   ],
   "metadata": {
    "collapsed": false,
    "pycharm": {
     "name": "#%% import libraries\n"
    }
   }
  },
  {
   "cell_type": "code",
   "execution_count": 5,
   "outputs": [
    {
     "output_type": "stream",
     "name": "stdout",
     "text": "Unnamed: 0                                              title  \\\n0           0  House Republicans Fret About Winning Their Hea...   \n1           1  Rift Between Officers and Residents as Killing...   \n2           2  Tyrus Wong, ‘Bambi’ Artist Thwarted by Racial ...   \n3           3  Among Deaths in 2016, a Heavy Toll in Pop Musi...   \n4           4  Kim Jong-un Says North Korea Is Preparing to T...   \n\n                                             summary  \n0  The incoming Trump administration could choose...  \n1  In the 40th Precinct, at the southern tip of t...  \n2  But what they did not know was that the film’s...  \n3  Of all the fields of endeavor that suffered mo...  \n4  SEOUL, South Korea  —   North Korea’s leader, ...  \n"
    }
   ],
   "source": [
    "import pickle\n",
    "import pandas as pd\n",
    "\n",
    "\"\"\"\n",
    "with open('../crawling/news.pickle', 'rb') as f:\n",
    "\tarticles = pickle.load(f)\n",
    "print(articles.head())\n",
    "\"\"\"\n",
    "with open('../data/articles.csv', 'r') as f:\n",
    "\tarticles = pd.read_csv(f)\n",
    "print(articles.head())"
   ],
   "metadata": {
    "collapsed": false,
    "pycharm": {
     "name": "#%% import dataset\n"
    },
    "tags": []
   }
  },
  {
   "cell_type": "code",
   "execution_count": 10,
   "outputs": [
    {
     "output_type": "stream",
     "name": "stdout",
     "text": "nan\n"
    },
    {
     "output_type": "error",
     "ename": "TypeError",
     "evalue": "can only concatenate str (not \"float\") to str",
     "traceback": [
      "\u001b[0;31m---------------------------------------------------------------------------\u001b[0m",
      "\u001b[0;31mTypeError\u001b[0m                                 Traceback (most recent call last)",
      "\u001b[0;32m<ipython-input-10-a9146fd6aa33>\u001b[0m in \u001b[0;36m<module>\u001b[0;34m\u001b[0m\n\u001b[1;32m      5\u001b[0m \u001b[0;34m\u001b[0m\u001b[0m\n\u001b[1;32m      6\u001b[0m \u001b[0marticles\u001b[0m\u001b[0;34m[\u001b[0m\u001b[0;34m'title'\u001b[0m\u001b[0;34m]\u001b[0m \u001b[0;34m=\u001b[0m \u001b[0marticles\u001b[0m\u001b[0;34m[\u001b[0m\u001b[0;34m'title'\u001b[0m\u001b[0;34m]\u001b[0m\u001b[0;34m.\u001b[0m\u001b[0mapply\u001b[0m\u001b[0;34m(\u001b[0m\u001b[0mpre_processing\u001b[0m\u001b[0;34m)\u001b[0m\u001b[0;34m\u001b[0m\u001b[0;34m\u001b[0m\u001b[0m\n\u001b[0;32m----> 7\u001b[0;31m \u001b[0marticles\u001b[0m\u001b[0;34m[\u001b[0m\u001b[0;34m'summary'\u001b[0m\u001b[0;34m]\u001b[0m \u001b[0;34m=\u001b[0m \u001b[0marticles\u001b[0m\u001b[0;34m[\u001b[0m\u001b[0;34m'summary'\u001b[0m\u001b[0;34m]\u001b[0m\u001b[0;34m.\u001b[0m\u001b[0mapply\u001b[0m\u001b[0;34m(\u001b[0m\u001b[0mpre_processing\u001b[0m\u001b[0;34m)\u001b[0m\u001b[0;34m\u001b[0m\u001b[0;34m\u001b[0m\u001b[0m\n\u001b[0m\u001b[1;32m      8\u001b[0m \u001b[0mprint\u001b[0m\u001b[0;34m(\u001b[0m\u001b[0marticles\u001b[0m\u001b[0;34m)\u001b[0m\u001b[0;34m\u001b[0m\u001b[0;34m\u001b[0m\u001b[0m\n",
      "\u001b[0;32m/usr/local/lib/python3.8/site-packages/pandas/core/series.py\u001b[0m in \u001b[0;36mapply\u001b[0;34m(self, func, convert_dtype, args, **kwds)\u001b[0m\n\u001b[1;32m   3846\u001b[0m             \u001b[0;32melse\u001b[0m\u001b[0;34m:\u001b[0m\u001b[0;34m\u001b[0m\u001b[0;34m\u001b[0m\u001b[0m\n\u001b[1;32m   3847\u001b[0m                 \u001b[0mvalues\u001b[0m \u001b[0;34m=\u001b[0m \u001b[0mself\u001b[0m\u001b[0;34m.\u001b[0m\u001b[0mastype\u001b[0m\u001b[0;34m(\u001b[0m\u001b[0mobject\u001b[0m\u001b[0;34m)\u001b[0m\u001b[0;34m.\u001b[0m\u001b[0mvalues\u001b[0m\u001b[0;34m\u001b[0m\u001b[0;34m\u001b[0m\u001b[0m\n\u001b[0;32m-> 3848\u001b[0;31m                 \u001b[0mmapped\u001b[0m \u001b[0;34m=\u001b[0m \u001b[0mlib\u001b[0m\u001b[0;34m.\u001b[0m\u001b[0mmap_infer\u001b[0m\u001b[0;34m(\u001b[0m\u001b[0mvalues\u001b[0m\u001b[0;34m,\u001b[0m \u001b[0mf\u001b[0m\u001b[0;34m,\u001b[0m \u001b[0mconvert\u001b[0m\u001b[0;34m=\u001b[0m\u001b[0mconvert_dtype\u001b[0m\u001b[0;34m)\u001b[0m\u001b[0;34m\u001b[0m\u001b[0;34m\u001b[0m\u001b[0m\n\u001b[0m\u001b[1;32m   3849\u001b[0m \u001b[0;34m\u001b[0m\u001b[0m\n\u001b[1;32m   3850\u001b[0m         \u001b[0;32mif\u001b[0m \u001b[0mlen\u001b[0m\u001b[0;34m(\u001b[0m\u001b[0mmapped\u001b[0m\u001b[0;34m)\u001b[0m \u001b[0;32mand\u001b[0m \u001b[0misinstance\u001b[0m\u001b[0;34m(\u001b[0m\u001b[0mmapped\u001b[0m\u001b[0;34m[\u001b[0m\u001b[0;36m0\u001b[0m\u001b[0;34m]\u001b[0m\u001b[0;34m,\u001b[0m \u001b[0mSeries\u001b[0m\u001b[0;34m)\u001b[0m\u001b[0;34m:\u001b[0m\u001b[0;34m\u001b[0m\u001b[0;34m\u001b[0m\u001b[0m\n",
      "\u001b[0;32mpandas/_libs/lib.pyx\u001b[0m in \u001b[0;36mpandas._libs.lib.map_infer\u001b[0;34m()\u001b[0m\n",
      "\u001b[0;32m<ipython-input-10-a9146fd6aa33>\u001b[0m in \u001b[0;36mpre_processing\u001b[0;34m(text)\u001b[0m\n\u001b[1;32m      2\u001b[0m     \u001b[0;32mif\u001b[0m \u001b[0;32mnot\u001b[0m \u001b[0misinstance\u001b[0m\u001b[0;34m(\u001b[0m\u001b[0mtext\u001b[0m\u001b[0;34m,\u001b[0m \u001b[0mstr\u001b[0m\u001b[0;34m)\u001b[0m\u001b[0;34m:\u001b[0m\u001b[0;34m\u001b[0m\u001b[0;34m\u001b[0m\u001b[0m\n\u001b[1;32m      3\u001b[0m         \u001b[0mprint\u001b[0m\u001b[0;34m(\u001b[0m\u001b[0mtext\u001b[0m\u001b[0;34m)\u001b[0m\u001b[0;34m\u001b[0m\u001b[0;34m\u001b[0m\u001b[0m\n\u001b[0;32m----> 4\u001b[0;31m     \u001b[0;32mreturn\u001b[0m \u001b[0mSOT\u001b[0m \u001b[0;34m+\u001b[0m \u001b[0;34m' '\u001b[0m \u001b[0;34m+\u001b[0m \u001b[0mtext\u001b[0m \u001b[0;34m+\u001b[0m \u001b[0;34m' '\u001b[0m \u001b[0;34m+\u001b[0m \u001b[0mEOT\u001b[0m\u001b[0;34m\u001b[0m\u001b[0;34m\u001b[0m\u001b[0m\n\u001b[0m\u001b[1;32m      5\u001b[0m \u001b[0;34m\u001b[0m\u001b[0m\n\u001b[1;32m      6\u001b[0m \u001b[0marticles\u001b[0m\u001b[0;34m[\u001b[0m\u001b[0;34m'title'\u001b[0m\u001b[0;34m]\u001b[0m \u001b[0;34m=\u001b[0m \u001b[0marticles\u001b[0m\u001b[0;34m[\u001b[0m\u001b[0;34m'title'\u001b[0m\u001b[0;34m]\u001b[0m\u001b[0;34m.\u001b[0m\u001b[0mapply\u001b[0m\u001b[0;34m(\u001b[0m\u001b[0mpre_processing\u001b[0m\u001b[0;34m)\u001b[0m\u001b[0;34m\u001b[0m\u001b[0;34m\u001b[0m\u001b[0m\n",
      "\u001b[0;31mTypeError\u001b[0m: can only concatenate str (not \"float\") to str"
     ]
    }
   ],
   "source": [
    "def pre_processing(text: str) -> str:\n",
    "    if not isinstance(text, str):\n",
    "        print(text)\n",
    "    return SOT + ' ' + text + ' ' + EOT\n",
    "\n",
    "articles['title'] = articles['title'].apply(pre_processing)\n",
    "articles['summary'] = articles['summary'].apply(pre_processing)\n",
    "print(articles)"
   ],
   "metadata": {
    "collapsed": false,
    "pycharm": {
     "name": "#%% preprocessing\n"
    },
    "tags": []
   }
  },
  {
   "cell_type": "code",
   "execution_count": 6,
   "outputs": [
    {
     "output_type": "error",
     "ename": "NameError",
     "evalue": "name 'articles' is not defined",
     "traceback": [
      "\u001b[0;31m---------------------------------------------------------------------------\u001b[0m",
      "\u001b[0;31mNameError\u001b[0m                                 Traceback (most recent call last)",
      "\u001b[0;32m<ipython-input-6-41e1f884e09c>\u001b[0m in \u001b[0;36m<module>\u001b[0;34m\u001b[0m\n\u001b[1;32m      2\u001b[0m \u001b[0mk\u001b[0m \u001b[0;34m=\u001b[0m \u001b[0mKomoran\u001b[0m\u001b[0;34m(\u001b[0m\u001b[0;34m'EXP'\u001b[0m\u001b[0;34m)\u001b[0m\u001b[0;34m\u001b[0m\u001b[0;34m\u001b[0m\u001b[0m\n\u001b[1;32m      3\u001b[0m \u001b[0;34m\u001b[0m\u001b[0m\n\u001b[0;32m----> 4\u001b[0;31m \u001b[0mtitle_separated\u001b[0m \u001b[0;34m=\u001b[0m \u001b[0;34m[\u001b[0m\u001b[0mk\u001b[0m\u001b[0;34m.\u001b[0m\u001b[0mget_morphes_by_tags\u001b[0m\u001b[0;34m(\u001b[0m\u001b[0mtitle\u001b[0m\u001b[0;34m)\u001b[0m \u001b[0;32mfor\u001b[0m \u001b[0mtitle\u001b[0m \u001b[0;32min\u001b[0m \u001b[0marticles\u001b[0m\u001b[0;34m[\u001b[0m\u001b[0;34m'title'\u001b[0m\u001b[0;34m]\u001b[0m\u001b[0;34m]\u001b[0m\u001b[0;34m\u001b[0m\u001b[0;34m\u001b[0m\u001b[0m\n\u001b[0m\u001b[1;32m      5\u001b[0m \u001b[0mprint\u001b[0m\u001b[0;34m(\u001b[0m\u001b[0mtitle_separated\u001b[0m\u001b[0;34m[\u001b[0m\u001b[0;36m0\u001b[0m\u001b[0;34m]\u001b[0m\u001b[0;34m[\u001b[0m\u001b[0;34m:\u001b[0m\u001b[0;36m20\u001b[0m\u001b[0;34m]\u001b[0m\u001b[0;34m)\u001b[0m\u001b[0;34m\u001b[0m\u001b[0;34m\u001b[0m\u001b[0m\n\u001b[1;32m      6\u001b[0m \u001b[0;34m\u001b[0m\u001b[0m\n",
      "\u001b[0;31mNameError\u001b[0m: name 'articles' is not defined"
     ]
    }
   ],
   "source": [
    "from PyKomoran import Komoran\n",
    "k = Komoran('EXP')\n",
    "\n",
    "title_separated = [k.get_morphes_by_tags(title) for title in articles['title']]\n",
    "print(title_separated[0][:20])\n",
    "\n",
    "body_separated = [k.get_morphes_by_tags(body) for body in articles['body']]\n",
    "print(body_separated[0][:20])"
   ],
   "metadata": {
    "collapsed": false,
    "pycharm": {
     "name": "#%% seperate sentences to morphemes\n"
    },
    "tags": []
   }
  },
  {
   "cell_type": "code",
   "execution_count": 7,
   "outputs": [
    {
     "output_type": "error",
     "ename": "NameError",
     "evalue": "name 'title_separated' is not defined",
     "traceback": [
      "\u001b[0;31m---------------------------------------------------------------------------\u001b[0m",
      "\u001b[0;31mNameError\u001b[0m                                 Traceback (most recent call last)",
      "\u001b[0;32m<ipython-input-7-ee75204cd417>\u001b[0m in \u001b[0;36m<module>\u001b[0;34m\u001b[0m\n\u001b[0;32m----> 1\u001b[0;31m \u001b[0mmax_title_morphemes\u001b[0m \u001b[0;34m=\u001b[0m \u001b[0mmax\u001b[0m\u001b[0;34m(\u001b[0m\u001b[0;34m[\u001b[0m\u001b[0mlen\u001b[0m\u001b[0;34m(\u001b[0m\u001b[0mtitle\u001b[0m\u001b[0;34m)\u001b[0m \u001b[0;32mfor\u001b[0m \u001b[0mtitle\u001b[0m \u001b[0;32min\u001b[0m \u001b[0mtitle_separated\u001b[0m\u001b[0;34m]\u001b[0m\u001b[0;34m)\u001b[0m\u001b[0;34m\u001b[0m\u001b[0;34m\u001b[0m\u001b[0m\n\u001b[0m\u001b[1;32m      2\u001b[0m \u001b[0mprint\u001b[0m\u001b[0;34m(\u001b[0m\u001b[0mmax_title_morphemes\u001b[0m\u001b[0;34m)\u001b[0m\u001b[0;34m\u001b[0m\u001b[0;34m\u001b[0m\u001b[0m\n\u001b[1;32m      3\u001b[0m \u001b[0;34m\u001b[0m\u001b[0m\n\u001b[1;32m      4\u001b[0m \u001b[0mmax_body_morphemes\u001b[0m \u001b[0;34m=\u001b[0m \u001b[0mmax\u001b[0m\u001b[0;34m(\u001b[0m\u001b[0;34m[\u001b[0m\u001b[0mlen\u001b[0m\u001b[0;34m(\u001b[0m\u001b[0mbody\u001b[0m\u001b[0;34m)\u001b[0m \u001b[0;32mfor\u001b[0m \u001b[0mbody\u001b[0m \u001b[0;32min\u001b[0m \u001b[0mbody_separated\u001b[0m\u001b[0;34m]\u001b[0m\u001b[0;34m)\u001b[0m\u001b[0;34m\u001b[0m\u001b[0;34m\u001b[0m\u001b[0m\n\u001b[1;32m      5\u001b[0m \u001b[0mprint\u001b[0m\u001b[0;34m(\u001b[0m\u001b[0mmax_body_morphemes\u001b[0m\u001b[0;34m)\u001b[0m\u001b[0;34m\u001b[0m\u001b[0;34m\u001b[0m\u001b[0m\n",
      "\u001b[0;31mNameError\u001b[0m: name 'title_separated' is not defined"
     ]
    }
   ],
   "source": [
    "max_title_morphemes = max([len(title) for title in title_separated])\n",
    "print(max_title_morphemes)\n",
    "\n",
    "max_body_morphemes = max([len(body) for body in body_separated])\n",
    "print(max_body_morphemes)"
   ],
   "metadata": {
    "collapsed": false,
    "pycharm": {
     "name": "#%% get features\n"
    },
    "tags": []
   }
  },
  {
   "cell_type": "code",
   "execution_count": 8,
   "outputs": [
    {
     "output_type": "error",
     "ename": "NameError",
     "evalue": "name 'title_separated' is not defined",
     "traceback": [
      "\u001b[0;31m---------------------------------------------------------------------------\u001b[0m",
      "\u001b[0;31mNameError\u001b[0m                                 Traceback (most recent call last)",
      "\u001b[0;32m<ipython-input-8-2a4eb187882d>\u001b[0m in \u001b[0;36m<module>\u001b[0;34m\u001b[0m\n\u001b[1;32m      2\u001b[0m \u001b[0;34m\u001b[0m\u001b[0m\n\u001b[1;32m      3\u001b[0m \u001b[0mtokenizer\u001b[0m \u001b[0;34m=\u001b[0m \u001b[0mTokenizer\u001b[0m\u001b[0;34m(\u001b[0m\u001b[0mfilters\u001b[0m\u001b[0;34m=\u001b[0m\u001b[0;34m''\u001b[0m\u001b[0;34m)\u001b[0m\u001b[0;34m\u001b[0m\u001b[0;34m\u001b[0m\u001b[0m\n\u001b[0;32m----> 4\u001b[0;31m \u001b[0mtokenizer\u001b[0m\u001b[0;34m.\u001b[0m\u001b[0mfit_on_texts\u001b[0m\u001b[0;34m(\u001b[0m\u001b[0mtitle_separated\u001b[0m\u001b[0;34m)\u001b[0m\u001b[0;34m\u001b[0m\u001b[0;34m\u001b[0m\u001b[0m\n\u001b[0m\u001b[1;32m      5\u001b[0m \u001b[0mtokenizer\u001b[0m\u001b[0;34m.\u001b[0m\u001b[0mfit_on_texts\u001b[0m\u001b[0;34m(\u001b[0m\u001b[0mbody_separated\u001b[0m\u001b[0;34m)\u001b[0m\u001b[0;34m\u001b[0m\u001b[0;34m\u001b[0m\u001b[0m\n\u001b[1;32m      6\u001b[0m \u001b[0mtokenizer\u001b[0m\u001b[0;34m.\u001b[0m\u001b[0mindex_word\u001b[0m\u001b[0;34m[\u001b[0m\u001b[0mPAD\u001b[0m\u001b[0;34m]\u001b[0m \u001b[0;34m=\u001b[0m \u001b[0mPAD\u001b[0m\u001b[0;34m\u001b[0m\u001b[0;34m\u001b[0m\u001b[0m\n",
      "\u001b[0;31mNameError\u001b[0m: name 'title_separated' is not defined"
     ]
    }
   ],
   "source": [
    "from tensorflow.keras.preprocessing.text import Tokenizer\n",
    "\n",
    "tokenizer = Tokenizer(filters='')\n",
    "tokenizer.fit_on_texts(title_separated)\n",
    "tokenizer.fit_on_texts(body_separated)\n",
    "tokenizer.index_word[PAD] = PAD\n",
    "\n",
    "num_of_morphemes = len(tokenizer.word_counts) + 1\n",
    "print(num_of_morphemes)\n",
    "\n",
    "title_sequence = tokenizer.texts_to_sequences(title_separated)\n",
    "print(title_sequence[0][:10])\n",
    "\n",
    "body_sequence = tokenizer.texts_to_sequences(body_separated)\n",
    "print(body_sequence[0][:10])"
   ],
   "metadata": {
    "collapsed": false,
    "pycharm": {
     "name": "#%% tokenize\n"
    },
    "tags": []
   }
  },
  {
   "cell_type": "code",
   "execution_count": 9,
   "outputs": [
    {
     "output_type": "error",
     "ename": "NameError",
     "evalue": "name 'title_sequence' is not defined",
     "traceback": [
      "\u001b[0;31m---------------------------------------------------------------------------\u001b[0m",
      "\u001b[0;31mNameError\u001b[0m                                 Traceback (most recent call last)",
      "\u001b[0;32m<ipython-input-9-33b3b155592a>\u001b[0m in \u001b[0;36m<module>\u001b[0;34m\u001b[0m\n\u001b[1;32m      2\u001b[0m     \u001b[0;32mreturn\u001b[0m \u001b[0mlst\u001b[0m \u001b[0;34m+\u001b[0m \u001b[0;34m[\u001b[0m\u001b[0mPAD\u001b[0m\u001b[0;34m]\u001b[0m \u001b[0;34m*\u001b[0m \u001b[0;34m(\u001b[0m\u001b[0mmax_len\u001b[0m \u001b[0;34m-\u001b[0m \u001b[0mlen\u001b[0m\u001b[0;34m(\u001b[0m\u001b[0mlst\u001b[0m\u001b[0;34m)\u001b[0m\u001b[0;34m)\u001b[0m\u001b[0;34m\u001b[0m\u001b[0;34m\u001b[0m\u001b[0m\n\u001b[1;32m      3\u001b[0m \u001b[0;34m\u001b[0m\u001b[0m\n\u001b[0;32m----> 4\u001b[0;31m \u001b[0mtitle_sequence\u001b[0m \u001b[0;34m=\u001b[0m \u001b[0;34m[\u001b[0m\u001b[0mpadding\u001b[0m\u001b[0;34m(\u001b[0m\u001b[0mtitle\u001b[0m\u001b[0;34m,\u001b[0m \u001b[0mmax_title_morphemes\u001b[0m\u001b[0;34m)\u001b[0m \u001b[0;32mfor\u001b[0m \u001b[0mtitle\u001b[0m \u001b[0;32min\u001b[0m \u001b[0mtitle_sequence\u001b[0m\u001b[0;34m]\u001b[0m\u001b[0;34m\u001b[0m\u001b[0;34m\u001b[0m\u001b[0m\n\u001b[0m\u001b[1;32m      5\u001b[0m \u001b[0mprint\u001b[0m\u001b[0;34m(\u001b[0m\u001b[0mtitle_sequence\u001b[0m\u001b[0;34m[\u001b[0m\u001b[0;36m0\u001b[0m\u001b[0;34m]\u001b[0m\u001b[0;34m[\u001b[0m\u001b[0;34m:\u001b[0m\u001b[0;36m20\u001b[0m\u001b[0;34m]\u001b[0m\u001b[0;34m)\u001b[0m\u001b[0;34m\u001b[0m\u001b[0;34m\u001b[0m\u001b[0m\n\u001b[1;32m      6\u001b[0m \u001b[0;34m\u001b[0m\u001b[0m\n",
      "\u001b[0;31mNameError\u001b[0m: name 'title_sequence' is not defined"
     ]
    }
   ],
   "source": [
    "def padding(lst: List[int], max_len: int) -> List[int]:\n",
    "    return lst + [PAD] * (max_len - len(lst))\n",
    "\n",
    "title_sequence = [padding(title, max_title_morphemes) for title in title_sequence]\n",
    "print(title_sequence[0][:20])\n",
    "\n",
    "body_sequence = [padding(body, max_body_morphemes) for body in body_sequence]\n",
    "print(body_sequence[0][:20])"
   ],
   "metadata": {
    "collapsed": false,
    "pycharm": {
     "name": "#%% padding\n"
    }
   }
  },
  {
   "cell_type": "code",
   "execution_count": 10,
   "outputs": [
    {
     "output_type": "error",
     "ename": "NameError",
     "evalue": "name 'title_sequence' is not defined",
     "traceback": [
      "\u001b[0;31m---------------------------------------------------------------------------\u001b[0m",
      "\u001b[0;31mNameError\u001b[0m                                 Traceback (most recent call last)",
      "\u001b[0;32m<ipython-input-10-fec7c92754db>\u001b[0m in \u001b[0;36m<module>\u001b[0;34m\u001b[0m\n\u001b[0;32m----> 1\u001b[0;31m \u001b[0mtitles\u001b[0m \u001b[0;34m=\u001b[0m \u001b[0mnp\u001b[0m\u001b[0;34m.\u001b[0m\u001b[0marray\u001b[0m\u001b[0;34m(\u001b[0m\u001b[0mtitle_sequence\u001b[0m\u001b[0;34m)\u001b[0m\u001b[0;34m\u001b[0m\u001b[0;34m\u001b[0m\u001b[0m\n\u001b[0m\u001b[1;32m      2\u001b[0m \u001b[0mprint\u001b[0m\u001b[0;34m(\u001b[0m\u001b[0mtitles\u001b[0m\u001b[0;34m)\u001b[0m\u001b[0;34m\u001b[0m\u001b[0;34m\u001b[0m\u001b[0m\n\u001b[1;32m      3\u001b[0m \u001b[0;34m\u001b[0m\u001b[0m\n\u001b[1;32m      4\u001b[0m \u001b[0mbodies\u001b[0m \u001b[0;34m=\u001b[0m \u001b[0mnp\u001b[0m\u001b[0;34m.\u001b[0m\u001b[0marray\u001b[0m\u001b[0;34m(\u001b[0m\u001b[0mbody_sequence\u001b[0m\u001b[0;34m)\u001b[0m\u001b[0;34m\u001b[0m\u001b[0;34m\u001b[0m\u001b[0m\n\u001b[1;32m      5\u001b[0m \u001b[0mprint\u001b[0m\u001b[0;34m(\u001b[0m\u001b[0mbodies\u001b[0m\u001b[0;34m)\u001b[0m\u001b[0;34m\u001b[0m\u001b[0;34m\u001b[0m\u001b[0m\n",
      "\u001b[0;31mNameError\u001b[0m: name 'title_sequence' is not defined"
     ]
    }
   ],
   "source": [
    "titles = np.array(title_sequence)\n",
    "print(titles)\n",
    "\n",
    "bodies = np.array(body_sequence)\n",
    "print(bodies)"
   ],
   "metadata": {
    "collapsed": false,
    "pycharm": {
     "name": "#%% convert data to numpy array\n"
    }
   }
  },
  {
   "cell_type": "code",
   "execution_count": 11,
   "outputs": [
    {
     "data": {
      "text/plain": "<IPython.core.display.SVG object>",
      "image/svg+xml": "<svg height=\"499pt\" viewBox=\"0.00 0.00 760.00 553.00\" width=\"686pt\" xmlns=\"http://www.w3.org/2000/svg\" xmlns:xlink=\"http://www.w3.org/1999/xlink\">\n<g class=\"graph\" id=\"graph0\" transform=\"scale(0.9 0.9) rotate(0) translate(4 549)\">\n<title>G</title>\n<polygon fill=\"white\" points=\"-4,4 -4,-549 756,-549 756,4 -4,4\" stroke=\"transparent\"/>\n<!-- 5289262864 -->\n<g class=\"node\" id=\"node1\">\n<title>5289262864</title>\n<polygon fill=\"none\" points=\"43.5,-498.5 43.5,-544.5 340.5,-544.5 340.5,-498.5 43.5,-498.5\" stroke=\"black\"/>\n<text font-family=\"Times,serif\" font-size=\"14.00\" text-anchor=\"middle\" x=\"127\" y=\"-517.8\">encoder_inputs: InputLayer</text>\n<polyline fill=\"none\" points=\"210.5,-498.5 210.5,-544.5 \" stroke=\"black\"/>\n<text font-family=\"Times,serif\" font-size=\"14.00\" text-anchor=\"middle\" x=\"238\" y=\"-529.3\">input:</text>\n<polyline fill=\"none\" points=\"210.5,-521.5 265.5,-521.5 \" stroke=\"black\"/>\n<text font-family=\"Times,serif\" font-size=\"14.00\" text-anchor=\"middle\" x=\"238\" y=\"-506.3\">output:</text>\n<polyline fill=\"none\" points=\"265.5,-498.5 265.5,-544.5 \" stroke=\"black\"/>\n<text font-family=\"Times,serif\" font-size=\"14.00\" text-anchor=\"middle\" x=\"303\" y=\"-529.3\">[(?, 2002)]</text>\n<polyline fill=\"none\" points=\"265.5,-521.5 340.5,-521.5 \" stroke=\"black\"/>\n<text font-family=\"Times,serif\" font-size=\"14.00\" text-anchor=\"middle\" x=\"303\" y=\"-506.3\">[(?, 2002)]</text>\n</g>\n<!-- 5289262992 -->\n<g class=\"node\" id=\"node3\">\n<title>5289262992</title>\n<polygon fill=\"none\" points=\"2,-415.5 2,-461.5 382,-461.5 382,-415.5 2,-415.5\" stroke=\"black\"/>\n<text font-family=\"Times,serif\" font-size=\"14.00\" text-anchor=\"middle\" x=\"117.5\" y=\"-434.8\">encoder_embedding_layer: Embedding</text>\n<polyline fill=\"none\" points=\"233,-415.5 233,-461.5 \" stroke=\"black\"/>\n<text font-family=\"Times,serif\" font-size=\"14.00\" text-anchor=\"middle\" x=\"260.5\" y=\"-446.3\">input:</text>\n<polyline fill=\"none\" points=\"233,-438.5 288,-438.5 \" stroke=\"black\"/>\n<text font-family=\"Times,serif\" font-size=\"14.00\" text-anchor=\"middle\" x=\"260.5\" y=\"-423.3\">output:</text>\n<polyline fill=\"none\" points=\"288,-415.5 288,-461.5 \" stroke=\"black\"/>\n<text font-family=\"Times,serif\" font-size=\"14.00\" text-anchor=\"middle\" x=\"335\" y=\"-446.3\">(?, 2002)</text>\n<polyline fill=\"none\" points=\"288,-438.5 382,-438.5 \" stroke=\"black\"/>\n<text font-family=\"Times,serif\" font-size=\"14.00\" text-anchor=\"middle\" x=\"335\" y=\"-423.3\">(?, 2002, 256)</text>\n</g>\n<!-- 5289262864&#45;&gt;5289262992 -->\n<g class=\"edge\" id=\"edge1\">\n<title>5289262864-&gt;5289262992</title>\n<path d=\"M192,-498.37C192,-490.15 192,-480.66 192,-471.73\" fill=\"none\" stroke=\"black\"/>\n<polygon fill=\"black\" points=\"195.5,-471.61 192,-461.61 188.5,-471.61 195.5,-471.61\" stroke=\"black\"/>\n</g>\n<!-- 4429158352 -->\n<g class=\"node\" id=\"node2\">\n<title>4429158352</title>\n<polygon fill=\"none\" points=\"427,-415.5 427,-461.5 711,-461.5 711,-415.5 427,-415.5\" stroke=\"black\"/>\n<text font-family=\"Times,serif\" font-size=\"14.00\" text-anchor=\"middle\" x=\"510.5\" y=\"-434.8\">decoder_inputs: InputLayer</text>\n<polyline fill=\"none\" points=\"594,-415.5 594,-461.5 \" stroke=\"black\"/>\n<text font-family=\"Times,serif\" font-size=\"14.00\" text-anchor=\"middle\" x=\"621.5\" y=\"-446.3\">input:</text>\n<polyline fill=\"none\" points=\"594,-438.5 649,-438.5 \" stroke=\"black\"/>\n<text font-family=\"Times,serif\" font-size=\"14.00\" text-anchor=\"middle\" x=\"621.5\" y=\"-423.3\">output:</text>\n<polyline fill=\"none\" points=\"649,-415.5 649,-461.5 \" stroke=\"black\"/>\n<text font-family=\"Times,serif\" font-size=\"14.00\" text-anchor=\"middle\" x=\"680\" y=\"-446.3\">[(?, 18)]</text>\n<polyline fill=\"none\" points=\"649,-438.5 711,-438.5 \" stroke=\"black\"/>\n<text font-family=\"Times,serif\" font-size=\"14.00\" text-anchor=\"middle\" x=\"680\" y=\"-423.3\">[(?, 18)]</text>\n</g>\n<!-- 5290087056 -->\n<g class=\"node\" id=\"node4\">\n<title>5290087056</title>\n<polygon fill=\"none\" points=\"386,-332.5 386,-378.5 752,-378.5 752,-332.5 386,-332.5\" stroke=\"black\"/>\n<text font-family=\"Times,serif\" font-size=\"14.00\" text-anchor=\"middle\" x=\"501.5\" y=\"-351.8\">decoder_embedding_layer: Embedding</text>\n<polyline fill=\"none\" points=\"617,-332.5 617,-378.5 \" stroke=\"black\"/>\n<text font-family=\"Times,serif\" font-size=\"14.00\" text-anchor=\"middle\" x=\"644.5\" y=\"-363.3\">input:</text>\n<polyline fill=\"none\" points=\"617,-355.5 672,-355.5 \" stroke=\"black\"/>\n<text font-family=\"Times,serif\" font-size=\"14.00\" text-anchor=\"middle\" x=\"644.5\" y=\"-340.3\">output:</text>\n<polyline fill=\"none\" points=\"672,-332.5 672,-378.5 \" stroke=\"black\"/>\n<text font-family=\"Times,serif\" font-size=\"14.00\" text-anchor=\"middle\" x=\"712\" y=\"-363.3\">(?, 18)</text>\n<polyline fill=\"none\" points=\"672,-355.5 752,-355.5 \" stroke=\"black\"/>\n<text font-family=\"Times,serif\" font-size=\"14.00\" text-anchor=\"middle\" x=\"712\" y=\"-340.3\">(?, 18, 256)</text>\n</g>\n<!-- 4429158352&#45;&gt;5290087056 -->\n<g class=\"edge\" id=\"edge2\">\n<title>4429158352-&gt;5290087056</title>\n<path d=\"M569,-415.37C569,-407.15 569,-397.66 569,-388.73\" fill=\"none\" stroke=\"black\"/>\n<polygon fill=\"black\" points=\"572.5,-388.61 569,-378.61 565.5,-388.61 572.5,-388.61\" stroke=\"black\"/>\n</g>\n<!-- 4644018832 -->\n<g class=\"node\" id=\"node5\">\n<title>4644018832</title>\n<polygon fill=\"none\" points=\"16.5,-332.5 16.5,-378.5 367.5,-378.5 367.5,-332.5 16.5,-332.5\" stroke=\"black\"/>\n<text font-family=\"Times,serif\" font-size=\"14.00\" text-anchor=\"middle\" x=\"88\" y=\"-351.8\">encoder_layer_1: GRU</text>\n<polyline fill=\"none\" points=\"159.5,-332.5 159.5,-378.5 \" stroke=\"black\"/>\n<text font-family=\"Times,serif\" font-size=\"14.00\" text-anchor=\"middle\" x=\"187\" y=\"-363.3\">input:</text>\n<polyline fill=\"none\" points=\"159.5,-355.5 214.5,-355.5 \" stroke=\"black\"/>\n<text font-family=\"Times,serif\" font-size=\"14.00\" text-anchor=\"middle\" x=\"187\" y=\"-340.3\">output:</text>\n<polyline fill=\"none\" points=\"214.5,-332.5 214.5,-378.5 \" stroke=\"black\"/>\n<text font-family=\"Times,serif\" font-size=\"14.00\" text-anchor=\"middle\" x=\"291\" y=\"-363.3\">(?, 2002, 256)</text>\n<polyline fill=\"none\" points=\"214.5,-355.5 367.5,-355.5 \" stroke=\"black\"/>\n<text font-family=\"Times,serif\" font-size=\"14.00\" text-anchor=\"middle\" x=\"291\" y=\"-340.3\">[(?, 2002, 128), (?, 128)]</text>\n</g>\n<!-- 5289262992&#45;&gt;4644018832 -->\n<g class=\"edge\" id=\"edge3\">\n<title>5289262992-&gt;4644018832</title>\n<path d=\"M192,-415.37C192,-407.15 192,-397.66 192,-388.73\" fill=\"none\" stroke=\"black\"/>\n<polygon fill=\"black\" points=\"195.5,-388.61 192,-378.61 188.5,-388.61 195.5,-388.61\" stroke=\"black\"/>\n</g>\n<!-- 4644120464 -->\n<g class=\"node\" id=\"node6\">\n<title>4644120464</title>\n<polygon fill=\"none\" points=\"236,-249.5 236,-295.5 556,-295.5 556,-249.5 236,-249.5\" stroke=\"black\"/>\n<text font-family=\"Times,serif\" font-size=\"14.00\" text-anchor=\"middle\" x=\"298.5\" y=\"-268.8\">decode_layer: GRU</text>\n<polyline fill=\"none\" points=\"361,-249.5 361,-295.5 \" stroke=\"black\"/>\n<text font-family=\"Times,serif\" font-size=\"14.00\" text-anchor=\"middle\" x=\"388.5\" y=\"-280.3\">input:</text>\n<polyline fill=\"none\" points=\"361,-272.5 416,-272.5 \" stroke=\"black\"/>\n<text font-family=\"Times,serif\" font-size=\"14.00\" text-anchor=\"middle\" x=\"388.5\" y=\"-257.3\">output:</text>\n<polyline fill=\"none\" points=\"416,-249.5 416,-295.5 \" stroke=\"black\"/>\n<text font-family=\"Times,serif\" font-size=\"14.00\" text-anchor=\"middle\" x=\"486\" y=\"-280.3\">[(?, 18, 256), (?, 128)]</text>\n<polyline fill=\"none\" points=\"416,-272.5 556,-272.5 \" stroke=\"black\"/>\n<text font-family=\"Times,serif\" font-size=\"14.00\" text-anchor=\"middle\" x=\"486\" y=\"-257.3\">(?, 18, 128)</text>\n</g>\n<!-- 5290087056&#45;&gt;4644120464 -->\n<g class=\"edge\" id=\"edge4\">\n<title>5290087056-&gt;4644120464</title>\n<path d=\"M521.73,-332.37C500.27,-322.32 474.73,-310.36 452.29,-299.86\" fill=\"none\" stroke=\"black\"/>\n<polygon fill=\"black\" points=\"453.76,-296.68 443.22,-295.61 450.79,-303.02 453.76,-296.68\" stroke=\"black\"/>\n</g>\n<!-- 4644018832&#45;&gt;4644120464 -->\n<g class=\"edge\" id=\"edge5\">\n<title>4644018832-&gt;4644120464</title>\n<path d=\"M247.47,-332.47C273.33,-322.21 304.27,-309.92 331.19,-299.23\" fill=\"none\" stroke=\"black\"/>\n<polygon fill=\"black\" points=\"332.53,-302.47 340.54,-295.52 329.95,-295.96 332.53,-302.47\" stroke=\"black\"/>\n</g>\n<!-- 5291376464 -->\n<g class=\"node\" id=\"node7\">\n<title>5291376464</title>\n<polygon fill=\"none\" points=\"0,-166.5 0,-212.5 384,-212.5 384,-166.5 0,-166.5\" stroke=\"black\"/>\n<text font-family=\"Times,serif\" font-size=\"14.00\" text-anchor=\"middle\" x=\"77.5\" y=\"-185.8\">attention_layer: Attention</text>\n<polyline fill=\"none\" points=\"155,-166.5 155,-212.5 \" stroke=\"black\"/>\n<text font-family=\"Times,serif\" font-size=\"14.00\" text-anchor=\"middle\" x=\"182.5\" y=\"-197.3\">input:</text>\n<polyline fill=\"none\" points=\"155,-189.5 210,-189.5 \" stroke=\"black\"/>\n<text font-family=\"Times,serif\" font-size=\"14.00\" text-anchor=\"middle\" x=\"182.5\" y=\"-174.3\">output:</text>\n<polyline fill=\"none\" points=\"210,-166.5 210,-212.5 \" stroke=\"black\"/>\n<text font-family=\"Times,serif\" font-size=\"14.00\" text-anchor=\"middle\" x=\"297\" y=\"-197.3\">[(?, 18, 128), (?, 2002, 128)]</text>\n<polyline fill=\"none\" points=\"210,-189.5 384,-189.5 \" stroke=\"black\"/>\n<text font-family=\"Times,serif\" font-size=\"14.00\" text-anchor=\"middle\" x=\"297\" y=\"-174.3\">(?, 18, 128)</text>\n</g>\n<!-- 4644018832&#45;&gt;5291376464 -->\n<g class=\"edge\" id=\"edge7\">\n<title>4644018832-&gt;5291376464</title>\n<path d=\"M192,-332.38C192,-304.18 192,-255.21 192,-222.82\" fill=\"none\" stroke=\"black\"/>\n<polygon fill=\"black\" points=\"195.5,-222.53 192,-212.53 188.5,-222.53 195.5,-222.53\" stroke=\"black\"/>\n</g>\n<!-- 4644120464&#45;&gt;5291376464 -->\n<g class=\"edge\" id=\"edge6\">\n<title>4644120464-&gt;5291376464</title>\n<path d=\"M340.53,-249.47C314.67,-239.21 283.73,-226.92 256.81,-216.23\" fill=\"none\" stroke=\"black\"/>\n<polygon fill=\"black\" points=\"258.05,-212.96 247.46,-212.52 255.47,-219.47 258.05,-212.96\" stroke=\"black\"/>\n</g>\n<!-- 5291419536 -->\n<g class=\"node\" id=\"node8\">\n<title>5291419536</title>\n<polygon fill=\"none\" points=\"100,-83.5 100,-129.5 504,-129.5 504,-83.5 100,-83.5\" stroke=\"black\"/>\n<text font-family=\"Times,serif\" font-size=\"14.00\" text-anchor=\"middle\" x=\"194\" y=\"-102.8\">concatenate_layer: Concatenate</text>\n<polyline fill=\"none\" points=\"288,-83.5 288,-129.5 \" stroke=\"black\"/>\n<text font-family=\"Times,serif\" font-size=\"14.00\" text-anchor=\"middle\" x=\"315.5\" y=\"-114.3\">input:</text>\n<polyline fill=\"none\" points=\"288,-106.5 343,-106.5 \" stroke=\"black\"/>\n<text font-family=\"Times,serif\" font-size=\"14.00\" text-anchor=\"middle\" x=\"315.5\" y=\"-91.3\">output:</text>\n<polyline fill=\"none\" points=\"343,-83.5 343,-129.5 \" stroke=\"black\"/>\n<text font-family=\"Times,serif\" font-size=\"14.00\" text-anchor=\"middle\" x=\"423.5\" y=\"-114.3\">[(?, 18, 128), (?, 18, 128)]</text>\n<polyline fill=\"none\" points=\"343,-106.5 504,-106.5 \" stroke=\"black\"/>\n<text font-family=\"Times,serif\" font-size=\"14.00\" text-anchor=\"middle\" x=\"423.5\" y=\"-91.3\">(?, 18, 256)</text>\n</g>\n<!-- 4644120464&#45;&gt;5291419536 -->\n<g class=\"edge\" id=\"edge8\">\n<title>4644120464-&gt;5291419536</title>\n<path d=\"M401.06,-249.31C404.95,-226.79 407.5,-191.69 393,-166 386.02,-153.63 375.21,-143.46 363.46,-135.27\" fill=\"none\" stroke=\"black\"/>\n<polygon fill=\"black\" points=\"365.07,-132.15 354.78,-129.66 361.27,-138.03 365.07,-132.15\" stroke=\"black\"/>\n</g>\n<!-- 5291376464&#45;&gt;5291419536 -->\n<g class=\"edge\" id=\"edge9\">\n<title>5291376464-&gt;5291419536</title>\n<path d=\"M222.06,-166.37C234.91,-156.9 250.07,-145.74 263.71,-135.69\" fill=\"none\" stroke=\"black\"/>\n<polygon fill=\"black\" points=\"266,-138.35 271.98,-129.61 261.85,-132.72 266,-138.35\" stroke=\"black\"/>\n</g>\n<!-- 4644120144 -->\n<g class=\"node\" id=\"node9\">\n<title>4644120144</title>\n<polygon fill=\"none\" points=\"171.5,-0.5 171.5,-46.5 432.5,-46.5 432.5,-0.5 171.5,-0.5\" stroke=\"black\"/>\n<text font-family=\"Times,serif\" font-size=\"14.00\" text-anchor=\"middle\" x=\"234.5\" y=\"-19.8\">output_layer: Dense</text>\n<polyline fill=\"none\" points=\"297.5,-0.5 297.5,-46.5 \" stroke=\"black\"/>\n<text font-family=\"Times,serif\" font-size=\"14.00\" text-anchor=\"middle\" x=\"325\" y=\"-31.3\">input:</text>\n<polyline fill=\"none\" points=\"297.5,-23.5 352.5,-23.5 \" stroke=\"black\"/>\n<text font-family=\"Times,serif\" font-size=\"14.00\" text-anchor=\"middle\" x=\"325\" y=\"-8.3\">output:</text>\n<polyline fill=\"none\" points=\"352.5,-0.5 352.5,-46.5 \" stroke=\"black\"/>\n<text font-family=\"Times,serif\" font-size=\"14.00\" text-anchor=\"middle\" x=\"392.5\" y=\"-31.3\">(?, 18, 256)</text>\n<polyline fill=\"none\" points=\"352.5,-23.5 432.5,-23.5 \" stroke=\"black\"/>\n<text font-family=\"Times,serif\" font-size=\"14.00\" text-anchor=\"middle\" x=\"392.5\" y=\"-8.3\">(?, 18, 974)</text>\n</g>\n<!-- 5291419536&#45;&gt;4644120144 -->\n<g class=\"edge\" id=\"edge10\">\n<title>5291419536-&gt;4644120144</title>\n<path d=\"M302,-83.37C302,-75.15 302,-65.66 302,-56.73\" fill=\"none\" stroke=\"black\"/>\n<polygon fill=\"black\" points=\"305.5,-56.61 302,-46.61 298.5,-56.61 305.5,-56.61\" stroke=\"black\"/>\n</g>\n</g>\n</svg>"
     },
     "execution_count": 11,
     "metadata": {},
     "output_type": "execute_result"
    }
   ],
   "source": [
    "from tensorflow.keras.models import Model\n",
    "from tensorflow.keras.layers import Input, Embedding, GRU, Attention, Concatenate, Dense\n",
    "from tensorflow.keras.activations import softmax\n",
    "from tensorflow.keras.optimizers import Adam\n",
    "from tensorflow.keras.losses import sparse_categorical_crossentropy\n",
    "\n",
    "# Encoder Input\n",
    "encoder_inputs = Input(shape=(max_body_morphemes,), name='encoder_inputs')\n",
    "\n",
    "# Encoder Embedding Layer\n",
    "encoder_embedding = Embedding(\n",
    "    num_of_morphemes, \n",
    "    embedding_dim, \n",
    "    name='encoder_embedding_layer'\n",
    ")(encoder_inputs)\n",
    "\n",
    "# Encoder Layer\n",
    "encoder_outputs, encoder_states = None, None\n",
    "for i in range(encoder_layer_size):\n",
    "    encoder_layer = GRU(\n",
    "        units=hidden_size,\n",
    "        return_sequences=True, return_state=True,\n",
    "        dropout=dropout, recurrent_dropout=dropout,\n",
    "        name='encoder_layer_' + str(i + 1)\n",
    "    )\n",
    "    encoder_outputs, encoder_states = encoder_layer(\n",
    "        encoder_embedding if encoder_outputs is None else encoder_outputs\n",
    "    )\n",
    "\n",
    "# Decoder\n",
    "decoder_inputs = Input(shape=(max_title_morphemes - 1,), name='decoder_inputs')\n",
    "\n",
    "# Decoder Embedding Layer\n",
    "decoder_embedding_layer = Embedding(\n",
    "    num_of_morphemes, \n",
    "    embedding_dim, \n",
    "    name='decoder_embedding_layer'\n",
    ")\n",
    "decoder_embedding = decoder_embedding_layer(decoder_inputs)\n",
    "\n",
    "# Decoder Layer\n",
    "decoder_layer = GRU(\n",
    "    hidden_size,\n",
    "    return_sequences=True,\n",
    "    dropout=dropout, recurrent_dropout=dropout / 2,\n",
    "    name='decode_layer'\n",
    ")\n",
    "decoder_outputs = decoder_layer(\n",
    "    decoder_embedding,\n",
    "    initial_state=encoder_states\n",
    ")\n",
    "\n",
    "# Attention Layer\n",
    "attention_layer = Attention(name='attention_layer')\n",
    "attention_outputs = attention_layer([decoder_outputs, encoder_outputs])\n",
    "\n",
    "# Concatenate the Result of Attention and the Hidden States of Decoder\n",
    "decoder_concat_inputs = Concatenate(axis=-1, name='concatenate_layer')(\n",
    "    [decoder_outputs, attention_outputs]\n",
    ")\n",
    "\n",
    "# Output Layer\n",
    "output_layer = Dense(num_of_morphemes, activation=softmax, name='output_layer')\n",
    "outputs = output_layer(decoder_concat_inputs)\n",
    "\n",
    "# Define Model\n",
    "model = Model(\n",
    "    inputs=[encoder_inputs, decoder_inputs], \n",
    "    outputs=outputs,\n",
    "    name='training_model'\n",
    ")\n",
    "\n",
    "# Compile\n",
    "model.compile(\n",
    "    optimizer=Adam(learning_rate=learning_late),\n",
    "    loss=sparse_categorical_crossentropy\n",
    ")\n",
    "\n",
    "# Display Model Summary\n",
    "from IPython.display import SVG\n",
    "from tensorflow.keras.utils import model_to_dot\n",
    "\n",
    "# You need to install graphviz! (sudo apt install graphviz or brew install graphviz)\n",
    "SVG(model_to_dot(model, show_shapes=True, dpi=65).create(prog='dot', format='svg'))"
   ],
   "metadata": {
    "collapsed": false,
    "pycharm": {
     "name": "#%% create model\n"
    },
    "tags": []
   }
  },
  {
   "cell_type": "code",
   "execution_count": 12,
   "outputs": [
    {
     "name": "stdout",
     "output_type": "stream",
     "text": [
      "[[ 69  49   2 ...   0   0   0]\n",
      " [ 69 143   9 ...   0   0   0]]\n",
      "[[ 69  75 119 ...   4   3  70]]\n",
      "[[ 69  49  33 142  83   8 339  84   4  85   1 340  33 194 104  86 195 196\n",
      "   70]\n",
      " [ 69  88  42  13 106 199 107 143 144  71  36 345  55  70   0   0   0   0\n",
      "    0]]\n",
      "[[ 69   2 105 341  87 194 197 198  39 342  47  16 343 344  40  70   0   0\n",
      "    0]]\n"
     ]
    }
   ],
   "source": [
    "from sklearn.model_selection import train_test_split\n",
    "\n",
    "x_train, x_test, y_train, y_test = train_test_split(\n",
    "    bodies, titles, test_size=0.2\n",
    ")\n",
    "print(x_train)\n",
    "print(x_test)\n",
    "print(y_train)\n",
    "print(y_test)"
   ],
   "metadata": {
    "collapsed": false,
    "pycharm": {
     "name": "#%% prepare training set\n"
    },
    "tags": []
   }
  },
  {
   "cell_type": "code",
   "execution_count": 13,
   "outputs": [
    {
     "name": "stdout",
     "output_type": "stream",
     "text": [
      "Train on 2 samples, validate on 1 samples\n",
      "Epoch 1/5\n",
      "2/2 [==============================] - 7s 3s/sample - loss: 6.8737 - val_loss: 6.8743\b\b\b\b\b\b\b\b\b\b\b\b\b\b\b\b\b\b\b\b\b\b\b\b\b\b\b\b\b\b\b\b\b\b\b\b\b\n",
      "Epoch 2/5\n",
      "2/2 [==============================] - 3s 2s/sample - loss: 6.8501 - val_loss: 6.8666\b\b\b\b\b\b\b\b\b\b\b\b\b\b\b\b\b\b\b\b\b\b\b\b\b\b\b\b\b\b\b\b\b\b\b\b\b\n",
      "Epoch 3/5\n",
      "2/2 [==============================] - 3s 2s/sample - loss: 6.8173 - val_loss: 6.8588\b\b\b\b\b\b\b\b\b\b\b\b\b\b\b\b\b\b\b\b\b\b\b\b\b\b\b\b\b\b\b\b\b\b\b\b\b\n",
      "Epoch 4/5\n",
      "2/2 [==============================] - 4s 2s/sample - loss: 6.7679 - val_loss: 6.8485\b\b\b\b\b\b\b\b\b\b\b\b\b\b\b\b\b\b\b\b\b\b\b\b\b\b\b\b\b\b\b\b\b\b\b\b\b\n",
      "Epoch 5/5\n",
      "2/2 [==============================] - 3s 2s/sample - loss: 6.7148 - val_loss: 6.8351\b\b\b\b\b\b\b\b\b\b\b\b\b\b\b\b\b\b\b\b\b\b\b\b\b\b\b\b\b\b\b\b\b\b\b\b\b\n"
     ]
    }
   ],
   "source": [
    "history = model.fit(\n",
    "    [x_train, y_train[:, :-1]], y_train[:, 1:],\n",
    "    epochs=epochs, batch_size=batch_size,\n",
    "    validation_data=([x_test, y_test[:, :-1]], y_test[:, 1:])\n",
    ")"
   ],
   "metadata": {
    "collapsed": false,
    "pycharm": {
     "name": "#%% teacher force training\n"
    },
    "tags": []
   }
  },
  {
   "cell_type": "code",
   "execution_count": 14,
   "outputs": [
    {
     "data": {
      "text/plain": "<Figure size 432x288 with 1 Axes>",
      "image/png": "[encoded data removed]"
     },
     "metadata": {
      "needs_background": "light"
     },
     "output_type": "display_data"
    }
   ],
   "source": [
    "import matplotlib.pyplot as plt\n",
    "\n",
    "plt.plot(history.history['loss'], label='train')\n",
    "plt.plot(history.history['val_loss'], label='test')\n",
    "plt.legend()\n",
    "plt.show()"
   ],
   "metadata": {
    "collapsed": false,
    "pycharm": {
     "name": "#%% plot history\n"
    }
   }
  },
  {
   "cell_type": "code",
   "execution_count": 15,
   "outputs": [
    {
     "data": {
      "text/plain": "<IPython.core.display.SVG object>",
      "image/svg+xml": "<svg height=\"200pt\" viewBox=\"0.00 0.00 388.00 221.00\" width=\"350pt\" xmlns=\"http://www.w3.org/2000/svg\" xmlns:xlink=\"http://www.w3.org/1999/xlink\">\n<g class=\"graph\" id=\"graph0\" transform=\"scale(0.9 0.9) rotate(0) translate(4 217)\">\n<title>G</title>\n<polygon fill=\"white\" points=\"-4,4 -4,-217 384,-217 384,4 -4,4\" stroke=\"transparent\"/>\n<!-- 5289262864 -->\n<g class=\"node\" id=\"node1\">\n<title>5289262864</title>\n<polygon fill=\"none\" points=\"41.5,-166.5 41.5,-212.5 338.5,-212.5 338.5,-166.5 41.5,-166.5\" stroke=\"black\"/>\n<text font-family=\"Times,serif\" font-size=\"14.00\" text-anchor=\"middle\" x=\"125\" y=\"-185.8\">encoder_inputs: InputLayer</text>\n<polyline fill=\"none\" points=\"208.5,-166.5 208.5,-212.5 \" stroke=\"black\"/>\n<text font-family=\"Times,serif\" font-size=\"14.00\" text-anchor=\"middle\" x=\"236\" y=\"-197.3\">input:</text>\n<polyline fill=\"none\" points=\"208.5,-189.5 263.5,-189.5 \" stroke=\"black\"/>\n<text font-family=\"Times,serif\" font-size=\"14.00\" text-anchor=\"middle\" x=\"236\" y=\"-174.3\">output:</text>\n<polyline fill=\"none\" points=\"263.5,-166.5 263.5,-212.5 \" stroke=\"black\"/>\n<text font-family=\"Times,serif\" font-size=\"14.00\" text-anchor=\"middle\" x=\"301\" y=\"-197.3\">[(?, 2002)]</text>\n<polyline fill=\"none\" points=\"263.5,-189.5 338.5,-189.5 \" stroke=\"black\"/>\n<text font-family=\"Times,serif\" font-size=\"14.00\" text-anchor=\"middle\" x=\"301\" y=\"-174.3\">[(?, 2002)]</text>\n</g>\n<!-- 5289262992 -->\n<g class=\"node\" id=\"node2\">\n<title>5289262992</title>\n<polygon fill=\"none\" points=\"0,-83.5 0,-129.5 380,-129.5 380,-83.5 0,-83.5\" stroke=\"black\"/>\n<text font-family=\"Times,serif\" font-size=\"14.00\" text-anchor=\"middle\" x=\"115.5\" y=\"-102.8\">encoder_embedding_layer: Embedding</text>\n<polyline fill=\"none\" points=\"231,-83.5 231,-129.5 \" stroke=\"black\"/>\n<text font-family=\"Times,serif\" font-size=\"14.00\" text-anchor=\"middle\" x=\"258.5\" y=\"-114.3\">input:</text>\n<polyline fill=\"none\" points=\"231,-106.5 286,-106.5 \" stroke=\"black\"/>\n<text font-family=\"Times,serif\" font-size=\"14.00\" text-anchor=\"middle\" x=\"258.5\" y=\"-91.3\">output:</text>\n<polyline fill=\"none\" points=\"286,-83.5 286,-129.5 \" stroke=\"black\"/>\n<text font-family=\"Times,serif\" font-size=\"14.00\" text-anchor=\"middle\" x=\"333\" y=\"-114.3\">(?, 2002)</text>\n<polyline fill=\"none\" points=\"286,-106.5 380,-106.5 \" stroke=\"black\"/>\n<text font-family=\"Times,serif\" font-size=\"14.00\" text-anchor=\"middle\" x=\"333\" y=\"-91.3\">(?, 2002, 256)</text>\n</g>\n<!-- 5289262864&#45;&gt;5289262992 -->\n<g class=\"edge\" id=\"edge1\">\n<title>5289262864-&gt;5289262992</title>\n<path d=\"M190,-166.37C190,-158.15 190,-148.66 190,-139.73\" fill=\"none\" stroke=\"black\"/>\n<polygon fill=\"black\" points=\"193.5,-139.61 190,-129.61 186.5,-139.61 193.5,-139.61\" stroke=\"black\"/>\n</g>\n<!-- 4644018832 -->\n<g class=\"node\" id=\"node3\">\n<title>4644018832</title>\n<polygon fill=\"none\" points=\"14.5,-0.5 14.5,-46.5 365.5,-46.5 365.5,-0.5 14.5,-0.5\" stroke=\"black\"/>\n<text font-family=\"Times,serif\" font-size=\"14.00\" text-anchor=\"middle\" x=\"86\" y=\"-19.8\">encoder_layer_1: GRU</text>\n<polyline fill=\"none\" points=\"157.5,-0.5 157.5,-46.5 \" stroke=\"black\"/>\n<text font-family=\"Times,serif\" font-size=\"14.00\" text-anchor=\"middle\" x=\"185\" y=\"-31.3\">input:</text>\n<polyline fill=\"none\" points=\"157.5,-23.5 212.5,-23.5 \" stroke=\"black\"/>\n<text font-family=\"Times,serif\" font-size=\"14.00\" text-anchor=\"middle\" x=\"185\" y=\"-8.3\">output:</text>\n<polyline fill=\"none\" points=\"212.5,-0.5 212.5,-46.5 \" stroke=\"black\"/>\n<text font-family=\"Times,serif\" font-size=\"14.00\" text-anchor=\"middle\" x=\"289\" y=\"-31.3\">(?, 2002, 256)</text>\n<polyline fill=\"none\" points=\"212.5,-23.5 365.5,-23.5 \" stroke=\"black\"/>\n<text font-family=\"Times,serif\" font-size=\"14.00\" text-anchor=\"middle\" x=\"289\" y=\"-8.3\">[(?, 2002, 128), (?, 128)]</text>\n</g>\n<!-- 5289262992&#45;&gt;4644018832 -->\n<g class=\"edge\" id=\"edge2\">\n<title>5289262992-&gt;4644018832</title>\n<path d=\"M190,-83.37C190,-75.15 190,-65.66 190,-56.73\" fill=\"none\" stroke=\"black\"/>\n<polygon fill=\"black\" points=\"193.5,-56.61 190,-46.61 186.5,-56.61 193.5,-56.61\" stroke=\"black\"/>\n</g>\n</g>\n</svg>"
     },
     "execution_count": 15,
     "metadata": {},
     "output_type": "execute_result"
    }
   ],
   "source": [
    "# Define Encoder Model\n",
    "encoder_model = Model(\n",
    "    inputs=encoder_inputs,\n",
    "    outputs=[encoder_outputs, encoder_states],\n",
    "    name='encoder_model'\n",
    ")\n",
    "\n",
    "# You need to install graphviz! (sudo apt install graphviz or brew install graphviz)\n",
    "SVG(model_to_dot(encoder_model, show_shapes=True, dpi=65).create(prog='dot', format='svg'))"
   ],
   "metadata": {
    "collapsed": false,
    "pycharm": {
     "name": "#%% create test model\n"
    },
    "tags": []
   }
  },
  {
   "cell_type": "code",
   "execution_count": 18,
   "metadata": {},
   "outputs": [
    {
     "data": {
      "text/plain": "<IPython.core.display.SVG object>",
      "image/svg+xml": "<svg height=\"424pt\" viewBox=\"0.00 0.00 833.00 470.00\" width=\"752pt\" xmlns=\"http://www.w3.org/2000/svg\" xmlns:xlink=\"http://www.w3.org/1999/xlink\">\n<g class=\"graph\" id=\"graph0\" transform=\"scale(0.9 0.9) rotate(0) translate(4 466)\">\n<title>G</title>\n<polygon fill=\"white\" points=\"-4,4 -4,-466 829,-466 829,4 -4,4\" stroke=\"transparent\"/>\n<!-- 4429158352 -->\n<g class=\"node\" id=\"node1\">\n<title>4429158352</title>\n<polygon fill=\"none\" points=\"194.5,-415.5 194.5,-461.5 478.5,-461.5 478.5,-415.5 194.5,-415.5\" stroke=\"black\"/>\n<text font-family=\"Times,serif\" font-size=\"14.00\" text-anchor=\"middle\" x=\"278\" y=\"-434.8\">decoder_inputs: InputLayer</text>\n<polyline fill=\"none\" points=\"361.5,-415.5 361.5,-461.5 \" stroke=\"black\"/>\n<text font-family=\"Times,serif\" font-size=\"14.00\" text-anchor=\"middle\" x=\"389\" y=\"-446.3\">input:</text>\n<polyline fill=\"none\" points=\"361.5,-438.5 416.5,-438.5 \" stroke=\"black\"/>\n<text font-family=\"Times,serif\" font-size=\"14.00\" text-anchor=\"middle\" x=\"389\" y=\"-423.3\">output:</text>\n<polyline fill=\"none\" points=\"416.5,-415.5 416.5,-461.5 \" stroke=\"black\"/>\n<text font-family=\"Times,serif\" font-size=\"14.00\" text-anchor=\"middle\" x=\"447.5\" y=\"-446.3\">[(?, 18)]</text>\n<polyline fill=\"none\" points=\"416.5,-438.5 478.5,-438.5 \" stroke=\"black\"/>\n<text font-family=\"Times,serif\" font-size=\"14.00\" text-anchor=\"middle\" x=\"447.5\" y=\"-423.3\">[(?, 18)]</text>\n</g>\n<!-- 5290087056 -->\n<g class=\"node\" id=\"node2\">\n<title>5290087056</title>\n<polygon fill=\"none\" points=\"153.5,-332.5 153.5,-378.5 519.5,-378.5 519.5,-332.5 153.5,-332.5\" stroke=\"black\"/>\n<text font-family=\"Times,serif\" font-size=\"14.00\" text-anchor=\"middle\" x=\"269\" y=\"-351.8\">decoder_embedding_layer: Embedding</text>\n<polyline fill=\"none\" points=\"384.5,-332.5 384.5,-378.5 \" stroke=\"black\"/>\n<text font-family=\"Times,serif\" font-size=\"14.00\" text-anchor=\"middle\" x=\"412\" y=\"-363.3\">input:</text>\n<polyline fill=\"none\" points=\"384.5,-355.5 439.5,-355.5 \" stroke=\"black\"/>\n<text font-family=\"Times,serif\" font-size=\"14.00\" text-anchor=\"middle\" x=\"412\" y=\"-340.3\">output:</text>\n<polyline fill=\"none\" points=\"439.5,-332.5 439.5,-378.5 \" stroke=\"black\"/>\n<text font-family=\"Times,serif\" font-size=\"14.00\" text-anchor=\"middle\" x=\"479.5\" y=\"-363.3\">(?, 18)</text>\n<polyline fill=\"none\" points=\"439.5,-355.5 519.5,-355.5 \" stroke=\"black\"/>\n<text font-family=\"Times,serif\" font-size=\"14.00\" text-anchor=\"middle\" x=\"479.5\" y=\"-340.3\">(?, 18, 256)</text>\n</g>\n<!-- 4429158352&#45;&gt;5290087056 -->\n<g class=\"edge\" id=\"edge1\">\n<title>4429158352-&gt;5290087056</title>\n<path d=\"M336.5,-415.37C336.5,-407.15 336.5,-397.66 336.5,-388.73\" fill=\"none\" stroke=\"black\"/>\n<polygon fill=\"black\" points=\"340,-388.61 336.5,-378.61 333,-388.61 340,-388.61\" stroke=\"black\"/>\n</g>\n<!-- 4644120464 -->\n<g class=\"node\" id=\"node4\">\n<title>4644120464</title>\n<polygon fill=\"none\" points=\"349.5,-249.5 349.5,-295.5 669.5,-295.5 669.5,-249.5 349.5,-249.5\" stroke=\"black\"/>\n<text font-family=\"Times,serif\" font-size=\"14.00\" text-anchor=\"middle\" x=\"412\" y=\"-268.8\">decode_layer: GRU</text>\n<polyline fill=\"none\" points=\"474.5,-249.5 474.5,-295.5 \" stroke=\"black\"/>\n<text font-family=\"Times,serif\" font-size=\"14.00\" text-anchor=\"middle\" x=\"502\" y=\"-280.3\">input:</text>\n<polyline fill=\"none\" points=\"474.5,-272.5 529.5,-272.5 \" stroke=\"black\"/>\n<text font-family=\"Times,serif\" font-size=\"14.00\" text-anchor=\"middle\" x=\"502\" y=\"-257.3\">output:</text>\n<polyline fill=\"none\" points=\"529.5,-249.5 529.5,-295.5 \" stroke=\"black\"/>\n<text font-family=\"Times,serif\" font-size=\"14.00\" text-anchor=\"middle\" x=\"599.5\" y=\"-280.3\">[(?, 18, 256), (?, 128)]</text>\n<polyline fill=\"none\" points=\"529.5,-272.5 669.5,-272.5 \" stroke=\"black\"/>\n<text font-family=\"Times,serif\" font-size=\"14.00\" text-anchor=\"middle\" x=\"599.5\" y=\"-257.3\">(?, 18, 128)</text>\n</g>\n<!-- 5290087056&#45;&gt;4644120464 -->\n<g class=\"edge\" id=\"edge2\">\n<title>5290087056-&gt;4644120464</title>\n<path d=\"M383.77,-332.37C405.23,-322.32 430.77,-310.36 453.21,-299.86\" fill=\"none\" stroke=\"black\"/>\n<polygon fill=\"black\" points=\"454.71,-303.02 462.28,-295.61 451.74,-296.68 454.71,-303.02\" stroke=\"black\"/>\n</g>\n<!-- 5346472976 -->\n<g class=\"node\" id=\"node3\">\n<title>5346472976</title>\n<polygon fill=\"none\" points=\"538,-332.5 538,-378.5 825,-378.5 825,-332.5 538,-332.5\" stroke=\"black\"/>\n<text font-family=\"Times,serif\" font-size=\"14.00\" text-anchor=\"middle\" x=\"620\" y=\"-351.8\">decoder_states: InputLayer</text>\n<polyline fill=\"none\" points=\"702,-332.5 702,-378.5 \" stroke=\"black\"/>\n<text font-family=\"Times,serif\" font-size=\"14.00\" text-anchor=\"middle\" x=\"729.5\" y=\"-363.3\">input:</text>\n<polyline fill=\"none\" points=\"702,-355.5 757,-355.5 \" stroke=\"black\"/>\n<text font-family=\"Times,serif\" font-size=\"14.00\" text-anchor=\"middle\" x=\"729.5\" y=\"-340.3\">output:</text>\n<polyline fill=\"none\" points=\"757,-332.5 757,-378.5 \" stroke=\"black\"/>\n<text font-family=\"Times,serif\" font-size=\"14.00\" text-anchor=\"middle\" x=\"791\" y=\"-363.3\">[(?, 128)]</text>\n<polyline fill=\"none\" points=\"757,-355.5 825,-355.5 \" stroke=\"black\"/>\n<text font-family=\"Times,serif\" font-size=\"14.00\" text-anchor=\"middle\" x=\"791\" y=\"-340.3\">[(?, 128)]</text>\n</g>\n<!-- 5346472976&#45;&gt;4644120464 -->\n<g class=\"edge\" id=\"edge3\">\n<title>5346472976-&gt;4644120464</title>\n<path d=\"M634.5,-332.37C613.26,-322.37 588,-310.47 565.77,-300\" fill=\"none\" stroke=\"black\"/>\n<polygon fill=\"black\" points=\"566.98,-296.7 556.44,-295.61 564,-303.03 566.98,-296.7\" stroke=\"black\"/>\n</g>\n<!-- 5291376464 -->\n<g class=\"node\" id=\"node6\">\n<title>5291376464</title>\n<polygon fill=\"none\" points=\"97.5,-166.5 97.5,-212.5 481.5,-212.5 481.5,-166.5 97.5,-166.5\" stroke=\"black\"/>\n<text font-family=\"Times,serif\" font-size=\"14.00\" text-anchor=\"middle\" x=\"175\" y=\"-185.8\">attention_layer: Attention</text>\n<polyline fill=\"none\" points=\"252.5,-166.5 252.5,-212.5 \" stroke=\"black\"/>\n<text font-family=\"Times,serif\" font-size=\"14.00\" text-anchor=\"middle\" x=\"280\" y=\"-197.3\">input:</text>\n<polyline fill=\"none\" points=\"252.5,-189.5 307.5,-189.5 \" stroke=\"black\"/>\n<text font-family=\"Times,serif\" font-size=\"14.00\" text-anchor=\"middle\" x=\"280\" y=\"-174.3\">output:</text>\n<polyline fill=\"none\" points=\"307.5,-166.5 307.5,-212.5 \" stroke=\"black\"/>\n<text font-family=\"Times,serif\" font-size=\"14.00\" text-anchor=\"middle\" x=\"394.5\" y=\"-197.3\">[(?, 18, 128), (?, 2002, 128)]</text>\n<polyline fill=\"none\" points=\"307.5,-189.5 481.5,-189.5 \" stroke=\"black\"/>\n<text font-family=\"Times,serif\" font-size=\"14.00\" text-anchor=\"middle\" x=\"394.5\" y=\"-174.3\">(?, 18, 128)</text>\n</g>\n<!-- 4644120464&#45;&gt;5291376464 -->\n<g class=\"edge\" id=\"edge4\">\n<title>4644120464-&gt;5291376464</title>\n<path d=\"M449.67,-249.47C421.67,-239.16 388.14,-226.82 359.01,-216.09\" fill=\"none\" stroke=\"black\"/>\n<polygon fill=\"black\" points=\"359.91,-212.69 349.31,-212.52 357.49,-219.26 359.91,-212.69\" stroke=\"black\"/>\n</g>\n<!-- 4433009872 -->\n<g class=\"node\" id=\"node7\">\n<title>4433009872</title>\n<polygon fill=\"none\" points=\"167.5,-83.5 167.5,-129.5 631.5,-129.5 631.5,-83.5 167.5,-83.5\" stroke=\"black\"/>\n<text font-family=\"Times,serif\" font-size=\"14.00\" text-anchor=\"middle\" x=\"291.5\" y=\"-102.8\">decoder_concatenate_predict: Concatenate</text>\n<polyline fill=\"none\" points=\"415.5,-83.5 415.5,-129.5 \" stroke=\"black\"/>\n<text font-family=\"Times,serif\" font-size=\"14.00\" text-anchor=\"middle\" x=\"443\" y=\"-114.3\">input:</text>\n<polyline fill=\"none\" points=\"415.5,-106.5 470.5,-106.5 \" stroke=\"black\"/>\n<text font-family=\"Times,serif\" font-size=\"14.00\" text-anchor=\"middle\" x=\"443\" y=\"-91.3\">output:</text>\n<polyline fill=\"none\" points=\"470.5,-83.5 470.5,-129.5 \" stroke=\"black\"/>\n<text font-family=\"Times,serif\" font-size=\"14.00\" text-anchor=\"middle\" x=\"551\" y=\"-114.3\">[(?, 18, 128), (?, 18, 128)]</text>\n<polyline fill=\"none\" points=\"470.5,-106.5 631.5,-106.5 \" stroke=\"black\"/>\n<text font-family=\"Times,serif\" font-size=\"14.00\" text-anchor=\"middle\" x=\"551\" y=\"-91.3\">(?, 18, 256)</text>\n</g>\n<!-- 4644120464&#45;&gt;4433009872 -->\n<g class=\"edge\" id=\"edge6\">\n<title>4644120464-&gt;4433009872</title>\n<path d=\"M510.47,-249.41C510.41,-226.66 507.24,-191.07 490.5,-166 482.28,-153.69 470.5,-143.42 458.12,-135.09\" fill=\"none\" stroke=\"black\"/>\n<polygon fill=\"black\" points=\"459.82,-132.02 449.5,-129.64 456.08,-137.94 459.82,-132.02\" stroke=\"black\"/>\n</g>\n<!-- 5343992144 -->\n<g class=\"node\" id=\"node5\">\n<title>5343992144</title>\n<polygon fill=\"none\" points=\"0,-249.5 0,-295.5 331,-295.5 331,-249.5 0,-249.5\" stroke=\"black\"/>\n<text font-family=\"Times,serif\" font-size=\"14.00\" text-anchor=\"middle\" x=\"86.5\" y=\"-268.8\">encoder_outputs: InputLayer</text>\n<polyline fill=\"none\" points=\"173,-249.5 173,-295.5 \" stroke=\"black\"/>\n<text font-family=\"Times,serif\" font-size=\"14.00\" text-anchor=\"middle\" x=\"200.5\" y=\"-280.3\">input:</text>\n<polyline fill=\"none\" points=\"173,-272.5 228,-272.5 \" stroke=\"black\"/>\n<text font-family=\"Times,serif\" font-size=\"14.00\" text-anchor=\"middle\" x=\"200.5\" y=\"-257.3\">output:</text>\n<polyline fill=\"none\" points=\"228,-249.5 228,-295.5 \" stroke=\"black\"/>\n<text font-family=\"Times,serif\" font-size=\"14.00\" text-anchor=\"middle\" x=\"279.5\" y=\"-280.3\">[(?, 2002, 128)]</text>\n<polyline fill=\"none\" points=\"228,-272.5 331,-272.5 \" stroke=\"black\"/>\n<text font-family=\"Times,serif\" font-size=\"14.00\" text-anchor=\"middle\" x=\"279.5\" y=\"-257.3\">[(?, 2002, 128)]</text>\n</g>\n<!-- 5343992144&#45;&gt;5291376464 -->\n<g class=\"edge\" id=\"edge5\">\n<title>5343992144-&gt;5291376464</title>\n<path d=\"M199.38,-249.37C214.15,-239.72 231.61,-228.32 247.21,-218.13\" fill=\"none\" stroke=\"black\"/>\n<polygon fill=\"black\" points=\"249.2,-221.01 255.66,-212.61 245.37,-215.15 249.2,-221.01\" stroke=\"black\"/>\n</g>\n<!-- 5291376464&#45;&gt;4433009872 -->\n<g class=\"edge\" id=\"edge7\">\n<title>5291376464-&gt;4433009872</title>\n<path d=\"M319.56,-166.37C332.41,-156.9 347.57,-145.74 361.21,-135.69\" fill=\"none\" stroke=\"black\"/>\n<polygon fill=\"black\" points=\"363.5,-138.35 369.48,-129.61 359.35,-132.72 363.5,-138.35\" stroke=\"black\"/>\n</g>\n<!-- 4644120144 -->\n<g class=\"node\" id=\"node8\">\n<title>4644120144</title>\n<polygon fill=\"none\" points=\"269,-0.5 269,-46.5 530,-46.5 530,-0.5 269,-0.5\" stroke=\"black\"/>\n<text font-family=\"Times,serif\" font-size=\"14.00\" text-anchor=\"middle\" x=\"332\" y=\"-19.8\">output_layer: Dense</text>\n<polyline fill=\"none\" points=\"395,-0.5 395,-46.5 \" stroke=\"black\"/>\n<text font-family=\"Times,serif\" font-size=\"14.00\" text-anchor=\"middle\" x=\"422.5\" y=\"-31.3\">input:</text>\n<polyline fill=\"none\" points=\"395,-23.5 450,-23.5 \" stroke=\"black\"/>\n<text font-family=\"Times,serif\" font-size=\"14.00\" text-anchor=\"middle\" x=\"422.5\" y=\"-8.3\">output:</text>\n<polyline fill=\"none\" points=\"450,-0.5 450,-46.5 \" stroke=\"black\"/>\n<text font-family=\"Times,serif\" font-size=\"14.00\" text-anchor=\"middle\" x=\"490\" y=\"-31.3\">(?, 18, 256)</text>\n<polyline fill=\"none\" points=\"450,-23.5 530,-23.5 \" stroke=\"black\"/>\n<text font-family=\"Times,serif\" font-size=\"14.00\" text-anchor=\"middle\" x=\"490\" y=\"-8.3\">(?, 18, 974)</text>\n</g>\n<!-- 4433009872&#45;&gt;4644120144 -->\n<g class=\"edge\" id=\"edge8\">\n<title>4433009872-&gt;4644120144</title>\n<path d=\"M399.5,-83.37C399.5,-75.15 399.5,-65.66 399.5,-56.73\" fill=\"none\" stroke=\"black\"/>\n<polygon fill=\"black\" points=\"403,-56.61 399.5,-46.61 396,-56.61 403,-56.61\" stroke=\"black\"/>\n</g>\n</g>\n</svg>"
     },
     "execution_count": 18,
     "metadata": {},
     "output_type": "execute_result"
    }
   ],
   "source": [
    "# Decoder\n",
    "decoder_states_input = Input(\n",
    "    shape=(hidden_size,),\n",
    "    name='decoder_states'\n",
    ")\n",
    "\n",
    "decoder_embedding_predict = decoder_embedding_layer(decoder_inputs)\n",
    "decoder_outputs_predict = decoder_layer(\n",
    "    decoder_embedding_predict,\n",
    "    initial_state=decoder_states_input\n",
    ")\n",
    "\n",
    "# Attention\n",
    "decoder_hidden_states_input = Input(\n",
    "    shape=(max_body_morphemes, hidden_size), \n",
    "    name='encoder_outputs'\n",
    ")\n",
    "attention_outputs_predict = attention_layer(\n",
    "    [decoder_outputs_predict, decoder_hidden_states_input]\n",
    ")\n",
    "decoder_concat_predict = Concatenate(axis=-1, name='decoder_concatenate_predict')(\n",
    "    [decoder_outputs_predict, attention_outputs_predict]\n",
    ")\n",
    "\n",
    "# Output Layer\n",
    "outputs_predict = output_layer(decoder_concat_predict)\n",
    "\n",
    "# Define Decoder Model\n",
    "decoder_model = Model(\n",
    "    [decoder_inputs, decoder_hidden_states_input, decoder_states_input],\n",
    "    outputs_predict,\n",
    "    name='decoder_model'\n",
    ")\n",
    "\n",
    "# You need to install graphviz! (sudo apt install graphviz or brew install graphviz)\n",
    "SVG(model_to_dot(decoder_model, show_shapes=True, dpi=65).create(prog='dot', format='svg'))"
   ]
  },
  {
   "cell_type": "code",
   "execution_count": 17,
   "metadata": {
    "collapsed": false,
    "pycharm": {
     "name": "#%% predict\n"
    },
    "tags": []
   },
   "outputs": [
    {
     "name": "stdout",
     "output_type": "stream",
     "text": [
      "0   answer: \t제주항공 \"열흘내에 선행조건 다 해결해라\"…사실상 파기수순\n",
      "    predict: \t\n",
      "             \t[0, 0, 0, 0, 0, 0, 0, 0, 0, 0, 0, 0, 0, 0, 0, 0, 0, 0]\n",
      "1   answer: \t이 앱 열면…한국 10대들 개인정보 중국으로 줄줄 샌다\n",
      "    predict: \t\n",
      "             \t[0, 0, 0, 0, 0, 0, 0, 0, 0, 0, 0, 0, 0, 0, 0, 0, 0, 0]\n",
      "2   answer: \t“예수가 레즈비언?” 마이클 잭슨 딸 출연 영화 신성모독 논란\n",
      "    predict: \t\n",
      "             \t[0, 0, 0, 0, 0, 0, 0, 0, 0, 0, 0, 0, 0, 0, 0, 0, 0, 0]\n"
     ]
    }
   ],
   "source": [
    "def encoding(text: str) -> np.ndarray:\n",
    "    separated = k.get_morphes_by_tags(text)\n",
    "    tokenized = tokenizer.texts_to_sequences([separated])[0]\n",
    "    sequence = np.array([padding(tokenized, max_body_morphemes)])\n",
    "    return sequence\n",
    "\n",
    "def predict(body: str) -> Tuple[str, List[Union[int, str]]]:\n",
    "    input_seq = encoding(body)\n",
    "    e_out, e_h = encoder_model.predict(input_seq)\n",
    "\n",
    "    target_seq = np.zeros((1, max_title_morphemes - 1))\n",
    "    target_seq[0, 0] = tokenizer.word_index[SOT]\n",
    "\n",
    "    decoded_sentence = ''\n",
    "    decoded_list: List[Union[int, str]] = []\n",
    "    len_sentence = 0\n",
    "    while True:\n",
    "        output_tokens = decoder_model.predict(\n",
    "            [target_seq, e_out, e_h]\n",
    "        )\n",
    "\n",
    "        sampled_token_index = np.argmax(output_tokens[0, len_sentence, :])\n",
    "        sampled_token = tokenizer.index_word[sampled_token_index]\n",
    "\n",
    "        if sampled_token == EOT:\n",
    "            break\n",
    "        else:\n",
    "            if sampled_token != PAD:\n",
    "                decoded_sentence += ' ' + sampled_token\n",
    "            decoded_list.append(sampled_token)\n",
    "            len_sentence += 1\n",
    "\n",
    "        if len_sentence >= max_title_morphemes - 1:\n",
    "            break\n",
    "\n",
    "        target_seq[0, len_sentence] = sampled_token_index\n",
    "\n",
    "    return decoded_sentence, decoded_list\n",
    "\n",
    "result = [predict(body) for body in articles['body']]\n",
    "for i, (title, arr) in enumerate(result):\n",
    "    print('%-3d answer: \\t' % i + articles['title'][i][4:-4])\n",
    "    print('    predict: \\t' + title)\n",
    "    print('             \\t' + str(arr))\n"
   ]
  }
 ],
 "metadata": {
  "kernelspec": {
   "display_name": "Python 3",
   "language": "python",
   "name": "python3"
  },
  "language_info": {
   "codemirror_mode": {
    "name": "ipython",
    "version": 2
   },
   "file_extension": ".py",
   "mimetype": "text/x-python",
   "name": "python",
   "nbconvert_exporter": "python",
   "pygments_lexer": "ipython2",
   "version": "3.7.7-final"
  }
 },
 "nbformat": 4,
 "nbformat_minor": 0
}